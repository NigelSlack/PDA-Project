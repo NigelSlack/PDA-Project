{
 "cells": [
  {
   "cell_type": "markdown",
   "metadata": {},
   "source": [
    "**Creation of simulated dataset of climate variables, based on Phoenix Park, Dublin weather station**   \n",
    "As explained in the README file for this repository, this notebook aims to generate simulated data, based on analysis of government provided actual readings, for rainfall, atmospheric pressure, and minimum and maximum temperatures on a daily basis from the Phoenix Park weather station.  \n",
    "\n",
    "Climate predictions are of highly significant importance with concerns about human induced global warming.  \n",
    "\n",
    "The actual historical data was downloaded from the government website into an Excel spreadsheet, and then exported to a csv file. The non-data header rows, plus columns for variables that are not being examined have been removed from the file, along with incomplete rows of data.  \n",
    "\n",
    "The pandas, matplotlib and scipy packages are imported for processing the input data, and numpy is used to generate random, simulated data.  \n",
    "\n",
    "The csv file is first loaded into a Pandas dataframe, and we get the data type for each column :  \n",
    "(ref https://www.shanelynn.ie/python-pandas-read_csv-load-data-from-csv-files/)  \n",
    "(ref https://pandas.pydata.org/pandas-docs/stable/reference/api/pandas.DataFrame.dtypes.html)\n"
   ]
  },
  {
   "cell_type": "code",
   "execution_count": 114,
   "metadata": {
    "scrolled": false
   },
   "outputs": [
    {
     "name": "stdout",
     "output_type": "stream",
     "text": [
      "date      object\n",
      "maxtp    float64\n",
      "mintp    float64\n",
      "rain     float64\n",
      "cbl      float64\n",
      "dtype: object\n"
     ]
    }
   ],
   "source": [
    "import pandas as pd\n",
    "import matplotlib.pyplot as plt\n",
    "import numpy as np\n",
    "import scipy.stats\n",
    "from numpy.polynomial.polynomial import polyfit\n",
    "df = pd.read_csv('Phoenix Park weather data.csv')\n",
    "print (df.dtypes)"
   ]
  },
  {
   "cell_type": "markdown",
   "metadata": {},
   "source": [
    "'cbl' is the 'convective boundary layer' - the layer of the earth's atmosphere most affected by the heating effect of the sun on the earth's surface. So the 'cbl' column here, which is for a ground based weather station, is the atmospheric pressure at ground level.  \n",
    "(ref https://en.wikipedia.org/wiki/Convective_planetary_boundary_layer)\n",
    "\n",
    "Display the first few rows from the spreadsheet and count the number of rows :  \n",
    "(ref https://www.shanelynn.ie/select-pandas-dataframe-rows-and-columns-using-iloc-loc-and-ix/)    \n",
    "(ref https://stackoverflow.com/questions/15943769/how-do-i-get-the-row-count-of-a-pandas-dataframe)"
   ]
  },
  {
   "cell_type": "code",
   "execution_count": 115,
   "metadata": {
    "scrolled": true
   },
   "outputs": [
    {
     "name": "stdout",
     "output_type": "stream",
     "text": [
      "         date  maxtp  mintp  rain     cbl\n",
      "0   01-Jan-06    8.2    2.9   0.0  1002.8\n",
      "1   02-Jan-06   10.6    0.7   0.0  1016.5\n",
      "2   03-Jan-06   10.9    0.0   0.2  1020.5\n",
      "3   04-Jan-06    7.2   -1.6   0.0  1022.5\n",
      "4   05-Jan-06    6.4    4.1   0.0  1014.6\n",
      "5   06-Jan-06    5.1    1.1   0.0  1015.6\n",
      "6   07-Jan-06    4.7    1.7   0.0  1017.9\n",
      "7   08-Jan-06    5.9   -2.7   1.3  1019.2\n",
      "8   09-Jan-06   10.5   -4.2   0.0  1014.5\n",
      "9   10-Jan-06   12.9    8.0   9.6  1002.3\n",
      "10  11-Jan-06    9.0    4.1   0.3  1007.6\n",
      "11  12-Jan-06   12.5    4.6   0.0  1011.6 0\n",
      " \n",
      "Number of rows  4742\n"
     ]
    }
   ],
   "source": [
    "print(df.iloc[0:12],0)\n",
    "print(' ')\n",
    "print('Number of rows ' , len(df.index))"
   ]
  },
  {
   "cell_type": "markdown",
   "metadata": {},
   "source": [
    "There are many data rows, so make sure programatically that none of them contain null values - as this would affect the statistical values such as 'mean' that will be used to create the simulated data.  \n",
    "(ref https://stackoverflow.com/questions/43424199/display-rows-with-one-or-more-nan-values-in-pandas-dataframe)"
   ]
  },
  {
   "cell_type": "code",
   "execution_count": 116,
   "metadata": {},
   "outputs": [
    {
     "name": "stdout",
     "output_type": "stream",
     "text": [
      "date\n",
      "maxtp\n",
      "mintp\n",
      "rain\n",
      "cbl\n"
     ]
    }
   ],
   "source": [
    "#print(df.iloc[0])\n",
    "for col in df.columns: \n",
    "    print(col)"
   ]
  },
  {
   "cell_type": "markdown",
   "metadata": {},
   "source": [
    "Break down the actual data by month, so we can build up our simulated data on a monthly basis. Extract the data for each month into a separate dataframe, to make it easy to plot and analyse at this scale :  \n",
    "(ref https://stackoverflow.com/questions/27975069/how-to-filter-rows-containing-a-string-pattern-from-a-pandas-dataframe)"
   ]
  },
  {
   "cell_type": "code",
   "execution_count": 117,
   "metadata": {},
   "outputs": [],
   "source": [
    "y=df['date'].str[7:9].unique()\n",
    "yearx=[]\n",
    "years=[]\n",
    "for i in y:\n",
    "    yearx.append('-'+i)\n",
    "    years.append('20'+i)"
   ]
  },
  {
   "cell_type": "markdown",
   "metadata": {},
   "source": [
    "(ref https://stackoverflow.com/questions/733454/best-way-to-format-integer-as-string-with-leading-zeros)"
   ]
  },
  {
   "cell_type": "code",
   "execution_count": 227,
   "metadata": {
    "scrolled": true
   },
   "outputs": [
    {
     "name": "stdout",
     "output_type": "stream",
     "text": [
      "[31, 29, 31, 30, 31, 30, 31, 31, 30, 31, 30, 31]\n",
      "['01-Jan-20', '02-Jan-20', '03-Jan-20', '04-Jan-20', '05-Jan-20', '06-Jan-20', '07-Jan-20', '08-Jan-20', '09-Jan-20', '10-Jan-20', '11-Jan-20', '12-Jan-20', '13-Jan-20', '14-Jan-20', '15-Jan-20', '16-Jan-20', '17-Jan-20', '18-Jan-20', '19-Jan-20', '20-Jan-20', '21-Jan-20', '22-Jan-20', '23-Jan-20', '24-Jan-20', '25-Jan-20', '26-Jan-20', '27-Jan-20', '28-Jan-20', '29-Jan-20', '30-Jan-20', '31-Jan-20', '01-Feb-20', '02-Feb-20', '03-Feb-20', '04-Feb-20', '05-Feb-20', '06-Feb-20', '07-Feb-20', '08-Feb-20', '09-Feb-20', '10-Feb-20', '11-Feb-20', '12-Feb-20', '13-Feb-20', '14-Feb-20', '15-Feb-20', '16-Feb-20', '17-Feb-20', '18-Feb-20', '19-Feb-20', '20-Feb-20', '21-Feb-20', '22-Feb-20', '23-Feb-20', '24-Feb-20', '25-Feb-20', '26-Feb-20', '27-Feb-20', '28-Feb-20', '29-Feb-20', '01-Mar-20', '02-Mar-20', '03-Mar-20', '04-Mar-20', '05-Mar-20', '06-Mar-20', '07-Mar-20', '08-Mar-20', '09-Mar-20', '10-Mar-20', '11-Mar-20', '12-Mar-20', '13-Mar-20', '14-Mar-20', '15-Mar-20', '16-Mar-20', '17-Mar-20', '18-Mar-20', '19-Mar-20', '20-Mar-20', '21-Mar-20', '22-Mar-20', '23-Mar-20', '24-Mar-20', '25-Mar-20', '26-Mar-20', '27-Mar-20', '28-Mar-20', '29-Mar-20', '30-Mar-20', '31-Mar-20', '01-Apr-20', '02-Apr-20', '03-Apr-20', '04-Apr-20', '05-Apr-20', '06-Apr-20', '07-Apr-20', '08-Apr-20', '09-Apr-20', '10-Apr-20', '11-Apr-20', '12-Apr-20', '13-Apr-20', '14-Apr-20', '15-Apr-20', '16-Apr-20', '17-Apr-20', '18-Apr-20', '19-Apr-20', '20-Apr-20', '21-Apr-20', '22-Apr-20', '23-Apr-20', '24-Apr-20', '25-Apr-20', '26-Apr-20', '27-Apr-20', '28-Apr-20', '29-Apr-20', '30-Apr-20', '01-May-20', '02-May-20', '03-May-20', '04-May-20', '05-May-20', '06-May-20', '07-May-20', '08-May-20', '09-May-20', '10-May-20', '11-May-20', '12-May-20', '13-May-20', '14-May-20', '15-May-20', '16-May-20', '17-May-20', '18-May-20', '19-May-20', '20-May-20', '21-May-20', '22-May-20', '23-May-20', '24-May-20', '25-May-20', '26-May-20', '27-May-20', '28-May-20', '29-May-20', '30-May-20', '31-May-20', '01-Jun-20', '02-Jun-20', '03-Jun-20', '04-Jun-20', '05-Jun-20', '06-Jun-20', '07-Jun-20', '08-Jun-20', '09-Jun-20', '10-Jun-20', '11-Jun-20', '12-Jun-20', '13-Jun-20', '14-Jun-20', '15-Jun-20', '16-Jun-20', '17-Jun-20', '18-Jun-20', '19-Jun-20', '20-Jun-20', '21-Jun-20', '22-Jun-20', '23-Jun-20', '24-Jun-20', '25-Jun-20', '26-Jun-20', '27-Jun-20', '28-Jun-20', '29-Jun-20', '30-Jun-20', '01-Jul-20', '02-Jul-20', '03-Jul-20', '04-Jul-20', '05-Jul-20', '06-Jul-20', '07-Jul-20', '08-Jul-20', '09-Jul-20', '10-Jul-20', '11-Jul-20', '12-Jul-20', '13-Jul-20', '14-Jul-20', '15-Jul-20', '16-Jul-20', '17-Jul-20', '18-Jul-20', '19-Jul-20', '20-Jul-20', '21-Jul-20', '22-Jul-20', '23-Jul-20', '24-Jul-20', '25-Jul-20', '26-Jul-20', '27-Jul-20', '28-Jul-20', '29-Jul-20', '30-Jul-20', '31-Jul-20', '01-Aug-20', '02-Aug-20', '03-Aug-20', '04-Aug-20', '05-Aug-20', '06-Aug-20', '07-Aug-20', '08-Aug-20', '09-Aug-20', '10-Aug-20', '11-Aug-20', '12-Aug-20', '13-Aug-20', '14-Aug-20', '15-Aug-20', '16-Aug-20', '17-Aug-20', '18-Aug-20', '19-Aug-20', '20-Aug-20', '21-Aug-20', '22-Aug-20', '23-Aug-20', '24-Aug-20', '25-Aug-20', '26-Aug-20', '27-Aug-20', '28-Aug-20', '29-Aug-20', '30-Aug-20', '31-Aug-20', '01-Sep-20', '02-Sep-20', '03-Sep-20', '04-Sep-20', '05-Sep-20', '06-Sep-20', '07-Sep-20', '08-Sep-20', '09-Sep-20', '10-Sep-20', '11-Sep-20', '12-Sep-20', '13-Sep-20', '14-Sep-20', '15-Sep-20', '16-Sep-20', '17-Sep-20', '18-Sep-20', '19-Sep-20', '20-Sep-20', '21-Sep-20', '22-Sep-20', '23-Sep-20', '24-Sep-20', '25-Sep-20', '26-Sep-20', '27-Sep-20', '28-Sep-20', '29-Sep-20', '30-Sep-20', '01-Oct-20', '02-Oct-20', '03-Oct-20', '04-Oct-20', '05-Oct-20', '06-Oct-20', '07-Oct-20', '08-Oct-20', '09-Oct-20', '10-Oct-20', '11-Oct-20', '12-Oct-20', '13-Oct-20', '14-Oct-20', '15-Oct-20', '16-Oct-20', '17-Oct-20', '18-Oct-20', '19-Oct-20', '20-Oct-20', '21-Oct-20', '22-Oct-20', '23-Oct-20', '24-Oct-20', '25-Oct-20', '26-Oct-20', '27-Oct-20', '28-Oct-20', '29-Oct-20', '30-Oct-20', '31-Oct-20', '01-Nov-20', '02-Nov-20', '03-Nov-20', '04-Nov-20', '05-Nov-20', '06-Nov-20', '07-Nov-20', '08-Nov-20', '09-Nov-20', '10-Nov-20', '11-Nov-20', '12-Nov-20', '13-Nov-20', '14-Nov-20', '15-Nov-20', '16-Nov-20', '17-Nov-20', '18-Nov-20', '19-Nov-20', '20-Nov-20', '21-Nov-20', '22-Nov-20', '23-Nov-20', '24-Nov-20', '25-Nov-20', '26-Nov-20', '27-Nov-20', '28-Nov-20', '29-Nov-20', '30-Nov-20', '01-Dec-20', '02-Dec-20', '03-Dec-20', '04-Dec-20', '05-Dec-20', '06-Dec-20', '07-Dec-20', '08-Dec-20', '09-Dec-20', '10-Dec-20', '11-Dec-20', '12-Dec-20', '13-Dec-20', '14-Dec-20', '15-Dec-20', '16-Dec-20', '17-Dec-20', '18-Dec-20', '19-Dec-20', '20-Dec-20', '21-Dec-20', '22-Dec-20', '23-Dec-20', '24-Dec-20', '25-Dec-20', '26-Dec-20', '27-Dec-20', '28-Dec-20', '29-Dec-20', '30-Dec-20', '31-Dec-20']\n"
     ]
    }
   ],
   "source": [
    "import datetime\n",
    "year=datetime.date.today().year\n",
    "if (year+1) % 4 == 0:\n",
    "   ndays=[31,29,31,30,31,30,31,31,30,31,30,31] \n",
    "   numdays=366\n",
    "else:\n",
    "   ndays=[31,28,31,30,31,30,31,31,30,31,30,31]  \n",
    "   numdays=365\n",
    "mfac=(year-2012)+0.5\n",
    "year = str((year)+1)\n",
    "yx=year[2:]\n",
    "\n",
    "odates=[]\n",
    "ix=0\n",
    "for n in ndays:\n",
    "    for i in range(n):\n",
    "       iy=str((i+1)).zfill(2)\n",
    "       odates.append(iy+'-'+months[ix]+'-'+yx)\n",
    "    ix+=1 \n",
    "print(ndays)    \n",
    "print(odates)    \n",
    "        "
   ]
  },
  {
   "cell_type": "raw",
   "metadata": {},
   "source": [
    "months = ['Jan','Feb','Mar','Apr','May','Jun','Jul','Aug','Sep','Oct','Nov','Dec']\n",
    "mx={}\n",
    "i=0\n",
    "for mon in months:\n",
    "    mx[i]=df[df['date'].str.contains(mon)]\n",
    "    i+=1\n",
    "    "
   ]
  },
  {
   "cell_type": "markdown",
   "metadata": {},
   "source": [
    "Analysis of Irish climate records by a team at Maynooth university on behalf of the Environmental Protection Agency demonstrate that a Gamma probability distribution may be used to model winter and summer precipitation levels, and a Normal distribution for summer temperatures.  \n",
    "http://www.epa.ie/pubs/reports/research/climate/Reserach_Report_277.pdf\n",
    "\n",
    "Plot histograms for each month for each of the variables 'Max Temp', 'Min Temp', 'Rain' and 'Cbl' (pressure), to get an idea of what their distributions look like for this dataset. Use tight_layout so the title and axes labels don't overlap. Start with Max Temp:   \n",
    "(ref https://stackoverflow.com/questions/47467077/python-plot-multiple-histograms)  \n",
    "(ref https://matplotlib.org/users/tight_layout_guide.html)"
   ]
  },
  {
   "cell_type": "code",
   "execution_count": 120,
   "metadata": {
    "scrolled": true
   },
   "outputs": [
    {
     "data": {
      "image/png": "[encoded data removed]",
      "text/plain": [
       "<Figure size 720x720 with 12 Axes>"
      ]
     },
     "metadata": {
      "needs_background": "light"
     },
     "output_type": "display_data"
    }
   ],
   "source": [
    "fig, axes = plt.subplots(nrows=4, ncols=3, figsize=(10, 10))\n",
    "i = 0\n",
    "for i1 in range(4):\n",
    "    for i2 in range(3):\n",
    "        ax = axes[i1][i2]\n",
    "        ax.hist(mx[i]['maxtp'], bins=10, color='blue', alpha=0.5)\n",
    "        ax.set_xlabel('Max Temp (C)')\n",
    "        ax.set_title(months[i] + \" - maxtp\")\n",
    "        ax.set_ylabel('Occurences')\n",
    "        i+= 1\n",
    "\n",
    "plt.tight_layout()\n",
    "plt.show()\n",
    "\n",
    "#plt.hist(np.random.gamma(0.3,5,395))"
   ]
  },
  {
   "cell_type": "markdown",
   "metadata": {},
   "source": [
    "It looks like the data for some months has a Normal distribution, but perhaps not for other months, eg December which is skewed to the right. Use a statistical test to check for Normality - the Shapiro-Wilks test. Put which ones are Normal into 'norm', and the others into 'nonnorm'.  \n",
    "(ref https://machinelearningmastery.com/a-gentle-introduction-to-normality-tests-in-python/)"
   ]
  },
  {
   "cell_type": "code",
   "execution_count": 121,
   "metadata": {},
   "outputs": [
    {
     "name": "stdout",
     "output_type": "stream",
     "text": [
      "Jan  'maxtp' - sample does not look Normal\n",
      "Feb  'maxtp' - sample looks Normal\n",
      "Mar  'maxtp' - sample does not look Normal\n",
      "Apr  'maxtp' - sample looks Normal\n",
      "May  'maxtp' - sample does not look Normal\n",
      "Jun  'maxtp' - sample looks Normal\n",
      "Jul  'maxtp' - sample does not look Normal\n",
      "Aug  'maxtp' - sample does not look Normal\n",
      "Sep  'maxtp' - sample does not look Normal\n",
      "Oct  'maxtp' - sample does not look Normal\n",
      "Nov  'maxtp' - sample does not look Normal\n",
      "Dec  'maxtp' - sample does not look Normal\n"
     ]
    }
   ],
   "source": [
    "from scipy.stats import shapiro\n",
    "i=0\n",
    "norm=[]\n",
    "nonnorm=[]\n",
    "for i in range(12):\n",
    "    stat, p = shapiro(mx[i]['maxtp'])\n",
    "    alpha = 0.05\n",
    "    if p > alpha:\n",
    "        print(months[i], \" 'maxtp' - sample looks Normal\")\n",
    "        norm.append(i)\n",
    "    else:\n",
    "        print(months[i], \" 'maxtp' - sample does not look Normal\")\n",
    "        nonnorm.append(i)\n",
    "    i+=1 "
   ]
  },
  {
   "cell_type": "markdown",
   "metadata": {},
   "source": [
    "\n",
    "The data for many of the months are not Normally distributed. One way to generate random data to simulate actual values is to generate a Kernel Density Estimate (KDE), which estimates the probability density function of the variable, and then to sample data from that estimate.\n",
    "  \n",
    "(ref https://stackoverflow.com/questions/6620471/fitting-empirical-distribution-to-theoretical-ones-with-scipy-python)  \n",
    "(ref https://stackoverflow.com/questions/35434363/python-generate-random-values-from-empirical-distribution)   \n",
    "(ref https://cmdlinetips.com/2019/05/empirical-cumulative-distribution-function-ecdf-in-python/)\n",
    "\n",
    "Check first how this works for December for Max Temp :\n",
    "(ref https://matplotlib.org/3.1.1/api/_as_gen/matplotlib.axes.Axes.set_xlabel.html)"
   ]
  },
  {
   "cell_type": "code",
   "execution_count": 122,
   "metadata": {},
   "outputs": [
    {
     "data": {
      "image/png": "[encoded data removed]",
      "text/plain": [
       "<Figure size 432x288 with 2 Axes>"
      ]
     },
     "metadata": {
      "needs_background": "light"
     },
     "output_type": "display_data"
    }
   ],
   "source": [
    "#Create a list that we'll put our simulated data in\n",
    "sim_maxtp=[0]*12\n",
    "\n",
    "# Count how many values we have\n",
    "num=len(mx[11]['maxtp'])\n",
    "\n",
    "# Define our actual values as being for December 'maxtp' \n",
    "actual_values = mx[11]['maxtp']\n",
    "\n",
    "# Generate a KDE from the empirical sample\n",
    "sample_pdf = scipy.stats.gaussian_kde(actual_values)\n",
    "\n",
    "# Generate a random sample from the KDE\n",
    "sim_maxtp[11] = sample_pdf.resample(num).T[:,0]\n",
    "\n",
    "# Plot two histograms side by side\n",
    "fig, ax = plt.subplots(1,2)\n",
    "ax[0].hist(mx[11]['maxtp'], alpha = 0.5, color = 'r')\n",
    "ax[0].set_title('Actual data')\n",
    "ax[0].set_xlabel('Temp(C)')\n",
    "ax[1].hist(sim_maxtp[11], alpha = 0.5, color = 'g')\n",
    "ax[1].set_title('Simulated data')\n",
    "ax[1].set_xlabel('Temp(C)')\n",
    "plt.show()"
   ]
  },
  {
   "cell_type": "markdown",
   "metadata": {},
   "source": [
    "This gives us the same basic shape for the data. We'll use this method to generate our simulated data for the rest of the months that are not Normal (Jan, Mar, May, Jul, Aug, Sep, Oct, Nov), and numpy.random for those that are according to the Shapiro-Wilk test above (Feb, Apr and Jun).  \n",
    "Start with the non-Normal months, using the method above for December:"
   ]
  },
  {
   "cell_type": "code",
   "execution_count": 123,
   "metadata": {},
   "outputs": [],
   "source": [
    "for i in nonnorm:\n",
    "   num=len(mx[i]['maxtp'])\n",
    "   actual_values = mx[i]['maxtp']\n",
    "   sample_pdf = scipy.stats.gaussian_kde(actual_values)\n",
    "   sim_maxtp[i] = sample_pdf.resample(num).T[:,0]"
   ]
  },
  {
   "cell_type": "markdown",
   "metadata": {},
   "source": [
    "Get the mean and standard deviation for Feb, Apr and Jun, so we can generate the random simulated data using numpy.random.  \n",
    "(ref https://www.geeksforgeeks.org/python-pandas-dataframe-mean/)"
   ]
  },
  {
   "cell_type": "code",
   "execution_count": 124,
   "metadata": {},
   "outputs": [],
   "source": [
    "means=[0]*12\n",
    "stds =[0]*12\n",
    "for i in norm:\n",
    "   means[i]=(mx[i]['maxtp'].mean())\n",
    "   stds[i] =(mx[i]['maxtp'].std())"
   ]
  },
  {
   "cell_type": "markdown",
   "metadata": {},
   "source": [
    "Generate random values for Feb and check the histograms of actual and generated data:"
   ]
  },
  {
   "cell_type": "code",
   "execution_count": 125,
   "metadata": {},
   "outputs": [
    {
     "data": {
      "image/png": "[encoded data removed]",
      "text/plain": [
       "<Figure size 432x288 with 2 Axes>"
      ]
     },
     "metadata": {
      "needs_background": "light"
     },
     "output_type": "display_data"
    }
   ],
   "source": [
    "num=len(mx[1]['maxtp'])\n",
    "sim_maxtp[1]=np.random.normal(means[1],stds[1],num)\n",
    "fig, ax = plt.subplots(1,2)\n",
    "ax[0].hist(mx[1]['maxtp'], alpha = 0.5, color = 'r')\n",
    "ax[0].set_title('Actual data')\n",
    "ax[0].set_xlabel('Temp(C)')\n",
    "ax[1].hist(sim_maxtp[1], alpha = 0.5, color = 'g')\n",
    "ax[1].set_title('Simulated data')\n",
    "ax[1].set_xlabel('Temp(C)')\n",
    "plt.show()\n"
   ]
  },
  {
   "cell_type": "markdown",
   "metadata": {},
   "source": [
    "The histograms match well, so generate data for the other two months :"
   ]
  },
  {
   "cell_type": "code",
   "execution_count": 126,
   "metadata": {},
   "outputs": [],
   "source": [
    "num=len(mx[3]['maxtp'])\n",
    "sim_maxtp[3]=np.random.normal(means[3],stds[3],num)\n",
    "num=len(mx[5]['maxtp'])\n",
    "sim_maxtp[5]=np.random.normal(means[5],stds[5],num)"
   ]
  },
  {
   "cell_type": "markdown",
   "metadata": {},
   "source": [
    "We now have our simulated data for 'maxtp'. Go through the same steps for 'mintp':"
   ]
  },
  {
   "cell_type": "code",
   "execution_count": 127,
   "metadata": {},
   "outputs": [
    {
     "name": "stdout",
     "output_type": "stream",
     "text": [
      "Jan  'mintp' - sample looks Normal\n",
      "Feb  'mintp' - sample does not look Normal\n",
      "Mar  'mintp' - sample looks Normal\n",
      "Apr  'mintp' - sample looks Normal\n",
      "May  'mintp' - sample does not look Normal\n",
      "Jun  'mintp' - sample looks Normal\n",
      "Jul  'mintp' - sample does not look Normal\n",
      "Aug  'mintp' - sample looks Normal\n",
      "Sep  'mintp' - sample does not look Normal\n",
      "Oct  'mintp' - sample looks Normal\n",
      "Nov  'mintp' - sample looks Normal\n",
      "Dec  'mintp' - sample does not look Normal\n"
     ]
    }
   ],
   "source": [
    "# Check for Normal distribution\n",
    "i=0\n",
    "norm=[]\n",
    "nonnorm=[]\n",
    "for i in range(12):\n",
    "    stat, p = shapiro(mx[i]['mintp'])\n",
    "    alpha = 0.05\n",
    "    if p > alpha:\n",
    "        print(months[i], \" 'mintp' - sample looks Normal\")\n",
    "        norm.append(i)\n",
    "    else:\n",
    "        print(months[i], \" 'mintp' - sample does not look Normal\")\n",
    "        nonnorm.append(i)\n",
    "    i+=1 "
   ]
  },
  {
   "cell_type": "markdown",
   "metadata": {},
   "source": [
    "We see Jan, Mar, Apr, Jun, Aug, Oct and Nov have Normally distributed data, with the remainder being non-Normal."
   ]
  },
  {
   "cell_type": "code",
   "execution_count": 128,
   "metadata": {},
   "outputs": [],
   "source": [
    "sim_mintp=[0]*12\n",
    "for i in nonnorm:\n",
    "   num=len(mx[i]['mintp'])\n",
    "   actual_values = mx[i]['mintp']\n",
    "   sample_pdf = scipy.stats.gaussian_kde(actual_values)\n",
    "   sim_mintp[i] = sample_pdf.resample(num).T[:,0]\n"
   ]
  },
  {
   "cell_type": "code",
   "execution_count": 129,
   "metadata": {},
   "outputs": [],
   "source": [
    "fill=0\n",
    "for i in norm:\n",
    "   mean=(mx[i]['mintp'].mean())\n",
    "   std =(mx[i]['mintp'].std())\n",
    "   num=len(mx[i]['mintp'])\n",
    "   sim_mintp[i]=np.random.normal(mean,std,num)    "
   ]
  },
  {
   "cell_type": "markdown",
   "metadata": {},
   "source": [
    "Take a look at what the 'cbl' (pressure) data is like, using histograms, as for 'maxtp':"
   ]
  },
  {
   "cell_type": "code",
   "execution_count": 130,
   "metadata": {},
   "outputs": [
    {
     "data": {
      "image/png": "[encoded data removed]",
      "text/plain": [
       "<Figure size 720x720 with 12 Axes>"
      ]
     },
     "metadata": {
      "needs_background": "light"
     },
     "output_type": "display_data"
    }
   ],
   "source": [
    "fig, axes = plt.subplots(nrows=4, ncols=3, figsize=(10, 10))\n",
    "i = 0\n",
    "for i1 in range(4):\n",
    "    for i2 in range(3):\n",
    "        ax = axes[i1][i2]\n",
    "        ax.hist(mx[i]['cbl'], bins=10, color='blue', alpha=0.5)\n",
    "        ax.set_xlabel('Pressure (hPa)')\n",
    "        ax.set_title(months[i] + \" - cbl\")\n",
    "        ax.set_ylabel('Occurences')\n",
    "        i+= 1\n",
    "\n",
    "plt.tight_layout()\n",
    "plt.show()"
   ]
  },
  {
   "cell_type": "markdown",
   "metadata": {},
   "source": [
    "Like for temperature, the data for some of the months looks like it might be Normally distributed, and for others it clearly isn't. Go through the same steps of the Shapiro-Wilks test, then creating simulated data using numpy.random and the KDE."
   ]
  },
  {
   "cell_type": "code",
   "execution_count": 131,
   "metadata": {},
   "outputs": [
    {
     "name": "stdout",
     "output_type": "stream",
     "text": [
      "Jan  'cbl' - sample does not look Normal\n",
      "Feb  'cbl' - sample does not look Normal\n",
      "Mar  'cbl' - sample does not look Normal\n",
      "Apr  'cbl' - sample does not look Normal\n",
      "May  'cbl' - sample looks Normal\n",
      "Jun  'cbl' - sample looks Normal\n",
      "Jul  'cbl' - sample looks Normal\n",
      "Aug  'cbl' - sample looks Normal\n",
      "Sep  'cbl' - sample does not look Normal\n",
      "Oct  'cbl' - sample does not look Normal\n",
      "Nov  'cbl' - sample does not look Normal\n",
      "Dec  'cbl' - sample does not look Normal\n"
     ]
    }
   ],
   "source": [
    "i=0\n",
    "norm=[]\n",
    "nonnorm=[]\n",
    "for i in range(12):\n",
    "    stat, p = shapiro(mx[i]['cbl'])\n",
    "    alpha = 0.05\n",
    "    if p > alpha:\n",
    "        print(months[i], \" 'cbl' - sample looks Normal\")\n",
    "        norm.append(i)\n",
    "    else:\n",
    "        print(months[i], \" 'cbl' - sample does not look Normal\")\n",
    "        nonnorm.append(i)\n",
    "    i+=1 "
   ]
  },
  {
   "cell_type": "markdown",
   "metadata": {},
   "source": [
    "Generate the non-Normal simulated data:"
   ]
  },
  {
   "cell_type": "code",
   "execution_count": 132,
   "metadata": {},
   "outputs": [],
   "source": [
    "sim_cbl=[0]*12\n",
    "for i in nonnorm:\n",
    "   num=len(mx[i]['cbl'])\n",
    "   actual_values = mx[i]['cbl']\n",
    "   sample_pdf = scipy.stats.gaussian_kde(actual_values)\n",
    "   sim_cbl[i] = sample_pdf.resample(num).T[:,0]"
   ]
  },
  {
   "cell_type": "markdown",
   "metadata": {},
   "source": [
    "Now generate the Normal simulated data"
   ]
  },
  {
   "cell_type": "code",
   "execution_count": 133,
   "metadata": {},
   "outputs": [],
   "source": [
    "for i in norm:\n",
    "   mean=(mx[i]['cbl'].mean())\n",
    "   std =(mx[i]['cbl'].std())\n",
    "   num=len(mx[i]['cbl'])\n",
    "   sim_cbl[i]=np.random.normal(mean,std,num)    "
   ]
  },
  {
   "cell_type": "markdown",
   "metadata": {},
   "source": [
    "Check what the histograms look like for rainfall :"
   ]
  },
  {
   "cell_type": "code",
   "execution_count": 134,
   "metadata": {},
   "outputs": [
    {
     "data": {
      "image/png": "[encoded data removed]",
      "text/plain": [
       "<Figure size 720x720 with 12 Axes>"
      ]
     },
     "metadata": {
      "needs_background": "light"
     },
     "output_type": "display_data"
    }
   ],
   "source": [
    "fig, axes = plt.subplots(nrows=4, ncols=3, figsize=(10, 10))\n",
    "i = 0\n",
    "for i1 in range(4):\n",
    "    for i2 in range(3):\n",
    "        ax = axes[i1][i2]\n",
    "        ax.hist(mx[i]['rain'], bins=10, color='blue', alpha=0.5)\n",
    "        ax.set_xlabel('Rainfall (mm)')\n",
    "        ax.set_title(months[i] + \" - rain\")\n",
    "        ax.set_ylabel('Occurences')\n",
    "        i+= 1\n",
    "\n",
    "plt.tight_layout()\n",
    "plt.show()"
   ]
  },
  {
   "cell_type": "markdown",
   "metadata": {},
   "source": [
    "This data is very clearly not Normally distributed, but as stated above, a team at Maynooth university found a Gamma probability distribution may be used to model rainfall.  \n",
    "\n",
    "To use the numpy.random.gamma function to generate simulated data we need to calculate the parameters for it - shape and scale. The shape is given by $\\frac{mean^2}{variance}$, and the scale by \n",
    "$\\frac{variance}{mean}$  \n",
    "(ref https://stats.stackexchange.com/questions/280459/estimating-gamma-distribution-parameters-using-sample-mean-and-std)  \n",
    "\n",
    "Calculate the mean, variance, then scale and shape for each month for 'rain', and create a simulated dataset using numpy.random.gamma"
   ]
  },
  {
   "cell_type": "code",
   "execution_count": 135,
   "metadata": {},
   "outputs": [],
   "source": [
    "sim_rain=[]\n",
    "for i in range(12):\n",
    "   mean=(mx[i]['rain'].mean())\n",
    "   var =(mx[i]['rain'].var())\n",
    "   num=len(mx[i]['rain'])\n",
    "   scale=(var/mean)\n",
    "   shape=(mean*mean)/var\n",
    "   sim_rain.append(np.random.gamma(shape,scale,num)) "
   ]
  },
  {
   "cell_type": "markdown",
   "metadata": {},
   "source": [
    "Check what the simulated data look like :"
   ]
  },
  {
   "cell_type": "code",
   "execution_count": 136,
   "metadata": {},
   "outputs": [
    {
     "data": {
      "image/png": "[encoded data removed]",
      "text/plain": [
       "<Figure size 720x720 with 12 Axes>"
      ]
     },
     "metadata": {
      "needs_background": "light"
     },
     "output_type": "display_data"
    }
   ],
   "source": [
    "fig, axes = plt.subplots(nrows=4, ncols=3, figsize=(10, 10))\n",
    "i = 0\n",
    "for i1 in range(4):\n",
    "    for i2 in range(3):\n",
    "        ax = axes[i1][i2]\n",
    "        ax.hist(sim_rain[i], bins=10, color='blue', alpha=0.5)\n",
    "        ax.set_xlabel('Rainfall (mm)')\n",
    "        ax.set_title(months[i] + \" - simulated rain\")\n",
    "        ax.set_ylabel('Occurences')\n",
    "        i+= 1\n",
    "\n",
    "plt.tight_layout()\n",
    "plt.show()    "
   ]
  },
  {
   "cell_type": "markdown",
   "metadata": {},
   "source": []
  },
  {
   "cell_type": "code",
   "execution_count": 137,
   "metadata": {},
   "outputs": [
    {
     "name": "stdout",
     "output_type": "stream",
     "text": [
      "['maxtp', 'mintp', 'rain', 'cbl']\n"
     ]
    }
   ],
   "source": [
    "add=False\n",
    "cols=[]\n",
    "for col in df.columns:\n",
    "    if add:\n",
    "       cols.append(col)\n",
    "    else:\n",
    "       add=True\n",
    "print(cols)  "
   ]
  },
  {
   "cell_type": "markdown",
   "metadata": {},
   "source": [
    "Check if correlations exist between the variables, eg it would be unsurprising if days with lower minimum temperatures also had lower maximum temperatures. If this is the case we'll use the simulated values of one variable (eg maxtp) to rank the associated simulated values of variables that are correlated with it. We'll use Pearson's and Spearman's correlations to check for relationships between variables. A positive value for the correlation coefficient greater than 0.5 indicates a likely positive relationship, and a negative value of less than -0.5 indicates a likely negative relationship.  \n",
    "First exclude the 'date' variable from the list of columns, then check each column pair:\n",
    "(ref https://machinelearningmastery.com/how-to-use-correlation-to-understand-the-relationship-between-variables/)"
   ]
  },
  {
   "cell_type": "code",
   "execution_count": 138,
   "metadata": {},
   "outputs": [
    {
     "name": "stdout",
     "output_type": "stream",
     "text": [
      "['maxtp', 'mintp', 'rain', 'cbl']\n"
     ]
    }
   ],
   "source": [
    "add=False\n",
    "cols=[]\n",
    "for col in df.columns:\n",
    "    if add:\n",
    "       cols.append(col)\n",
    "    else:\n",
    "       add=True\n",
    "print(cols)  "
   ]
  },
  {
   "cell_type": "code",
   "execution_count": 139,
   "metadata": {
    "scrolled": true
   },
   "outputs": [
    {
     "name": "stdout",
     "output_type": "stream",
     "text": [
      "Jan maxtp mintp  Pearsons correlation : 0.738\n",
      "Jan maxtp mintp  Spearmans correlation : 0.715\n",
      "Feb maxtp mintp  Pearsons correlation : 0.664\n",
      "Feb maxtp mintp  Spearmans correlation : 0.667\n",
      "Mar maxtp mintp  Pearsons correlation : 0.550\n",
      "Mar maxtp mintp  Spearmans correlation : 0.575\n",
      "Apr maxtp mintp  Pearsons correlation : 0.446\n",
      "Apr maxtp mintp  Spearmans correlation : 0.411\n",
      "May maxtp mintp  Pearsons correlation : 0.535\n",
      "May maxtp mintp  Spearmans correlation : 0.517\n",
      "Jun maxtp mintp  Pearsons correlation : 0.500\n",
      "Jun maxtp mintp  Spearmans correlation : 0.499\n",
      "Jul maxtp mintp  Pearsons correlation : 0.465\n",
      "Jul maxtp mintp  Spearmans correlation : 0.465\n",
      "Aug maxtp mintp  Pearsons correlation : 0.480\n",
      "Aug maxtp mintp  Spearmans correlation : 0.463\n",
      "Sep maxtp mintp  Pearsons correlation : 0.496\n",
      "Sep maxtp mintp  Spearmans correlation : 0.441\n",
      "Oct maxtp mintp  Pearsons correlation : 0.609\n",
      "Oct maxtp mintp  Spearmans correlation : 0.568\n",
      "Nov maxtp mintp  Pearsons correlation : 0.744\n",
      "Nov maxtp mintp  Spearmans correlation : 0.704\n",
      "Dec maxtp mintp  Pearsons correlation : 0.801\n",
      "Dec maxtp mintp  Spearmans correlation : 0.768\n",
      "Jan maxtp rain  Pearsons correlation : 0.162\n",
      "Jan maxtp rain  Spearmans correlation : 0.257\n",
      "Feb maxtp rain  Spearmans correlation : 0.113\n",
      "Mar maxtp rain  Pearsons correlation : -0.227\n",
      "Mar maxtp rain  Spearmans correlation : -0.180\n",
      "Apr maxtp rain  Pearsons correlation : -0.302\n",
      "Apr maxtp rain  Spearmans correlation : -0.289\n",
      "May maxtp rain  Pearsons correlation : -0.291\n",
      "May maxtp rain  Spearmans correlation : -0.370\n",
      "Jun maxtp rain  Pearsons correlation : -0.314\n",
      "Jun maxtp rain  Spearmans correlation : -0.439\n",
      "Jul maxtp rain  Pearsons correlation : -0.212\n",
      "Jul maxtp rain  Spearmans correlation : -0.328\n",
      "Aug maxtp rain  Pearsons correlation : -0.128\n",
      "Aug maxtp rain  Spearmans correlation : -0.148\n",
      "Sep maxtp rain  Pearsons correlation : -0.203\n",
      "Sep maxtp rain  Spearmans correlation : -0.218\n",
      "Nov maxtp rain  Spearmans correlation : 0.103\n",
      "Dec maxtp rain  Pearsons correlation : 0.112\n",
      "Dec maxtp rain  Spearmans correlation : 0.317\n",
      "Mar maxtp cbl  Pearsons correlation : 0.234\n",
      "Mar maxtp cbl  Spearmans correlation : 0.219\n",
      "Apr maxtp cbl  Pearsons correlation : 0.286\n",
      "Apr maxtp cbl  Spearmans correlation : 0.297\n",
      "May maxtp cbl  Pearsons correlation : 0.318\n",
      "May maxtp cbl  Spearmans correlation : 0.300\n",
      "Jun maxtp cbl  Pearsons correlation : 0.400\n",
      "Jun maxtp cbl  Spearmans correlation : 0.417\n",
      "Jul maxtp cbl  Pearsons correlation : 0.336\n",
      "Jul maxtp cbl  Spearmans correlation : 0.309\n",
      "Sep maxtp cbl  Pearsons correlation : 0.169\n",
      "Sep maxtp cbl  Spearmans correlation : 0.166\n",
      "Jan mintp rain  Spearmans correlation : 0.182\n",
      "Feb mintp rain  Spearmans correlation : 0.235\n",
      "Mar mintp rain  Spearmans correlation : 0.122\n",
      "Apr mintp rain  Spearmans correlation : 0.156\n",
      "Aug mintp rain  Pearsons correlation : 0.132\n",
      "Aug mintp rain  Spearmans correlation : 0.207\n",
      "Sep mintp rain  Pearsons correlation : 0.151\n",
      "Sep mintp rain  Spearmans correlation : 0.258\n",
      "Oct mintp rain  Pearsons correlation : 0.121\n",
      "Oct mintp rain  Spearmans correlation : 0.214\n",
      "Nov mintp rain  Spearmans correlation : 0.112\n",
      "Dec mintp rain  Spearmans correlation : 0.216\n",
      "Aug mintp cbl  Pearsons correlation : -0.233\n",
      "Aug mintp cbl  Spearmans correlation : -0.226\n",
      "Sep mintp cbl  Pearsons correlation : -0.241\n",
      "Sep mintp cbl  Spearmans correlation : -0.258\n",
      "Oct mintp cbl  Pearsons correlation : -0.118\n",
      "Oct mintp cbl  Spearmans correlation : -0.130\n",
      "Jan rain cbl  Pearsons correlation : -0.373\n",
      "Jan rain cbl  Spearmans correlation : -0.514\n",
      "Feb rain cbl  Pearsons correlation : -0.370\n",
      "Feb rain cbl  Spearmans correlation : -0.500\n",
      "Mar rain cbl  Pearsons correlation : -0.444\n",
      "Mar rain cbl  Spearmans correlation : -0.656\n",
      "Apr rain cbl  Pearsons correlation : -0.435\n",
      "Apr rain cbl  Spearmans correlation : -0.590\n",
      "May rain cbl  Pearsons correlation : -0.406\n",
      "May rain cbl  Spearmans correlation : -0.571\n",
      "Jun rain cbl  Pearsons correlation : -0.391\n",
      "Jun rain cbl  Spearmans correlation : -0.624\n",
      "Jul rain cbl  Pearsons correlation : -0.384\n",
      "Jul rain cbl  Spearmans correlation : -0.593\n",
      "Aug rain cbl  Pearsons correlation : -0.387\n",
      "Aug rain cbl  Spearmans correlation : -0.535\n",
      "Sep rain cbl  Pearsons correlation : -0.436\n",
      "Sep rain cbl  Spearmans correlation : -0.604\n",
      "Oct rain cbl  Pearsons correlation : -0.347\n",
      "Oct rain cbl  Spearmans correlation : -0.525\n",
      "Nov rain cbl  Pearsons correlation : -0.355\n",
      "Nov rain cbl  Spearmans correlation : -0.476\n",
      "Dec rain cbl  Pearsons correlation : -0.267\n",
      "Dec rain cbl  Spearmans correlation : -0.484\n"
     ]
    }
   ],
   "source": [
    "from scipy.stats import pearsonr\n",
    "from scipy.stats import spearmanr\n",
    "\n",
    "for ix in range(3):\n",
    "   for iy in range((3-ix)): \n",
    "      for i in range(12):\n",
    "         corr, _ = pearsonr(mx[i][cols[ix]], mx[i][cols[(ix+iy+1)]])\n",
    "         if corr > 0.1 or corr < -0.1:\n",
    "            print(months[i], cols[ix], cols[(ix+iy+1)], \" Pearsons correlation : %.3f\" % corr)\n",
    "            \n",
    "         corr, _ = spearmanr(mx[i][cols[ix]], mx[i][cols[(ix+iy+1)]])\n",
    "         if corr > 0.1 or corr < -0.1:\n",
    "            print(months[i], cols[ix], cols[(ix+iy+1)], \" Spearmans correlation : %.3f\" % corr) \n",
    "                 "
   ]
  },
  {
   "cell_type": "markdown",
   "metadata": {},
   "source": [
    "There's a strong positive correlation for Jan, Feb, Mar, May, Oct, Nov and Dec between max and min temperature, with a weak correlation for the other months, and a weak negative correlation between rainfall and pressure (cbl).  \n",
    "For these two variable pairs check the correlation between the simulated data sets we've generated:"
   ]
  },
  {
   "cell_type": "code",
   "execution_count": 140,
   "metadata": {},
   "outputs": [
    {
     "name": "stdout",
     "output_type": "stream",
     "text": [
      "Jan maxtp mintp Pearsons correlation : -0.065\n",
      "Jan maxtp mintp Spearmans correlation : -0.056\n",
      "Feb maxtp mintp Pearsons correlation : 0.014\n",
      "Feb maxtp mintp Spearmans correlation : 0.013\n",
      "Mar maxtp mintp Pearsons correlation : 0.042\n",
      "Mar maxtp mintp Spearmans correlation : 0.026\n",
      "Apr maxtp mintp Pearsons correlation : 0.044\n",
      "Apr maxtp mintp Spearmans correlation : 0.052\n",
      "May maxtp mintp Pearsons correlation : -0.061\n",
      "May maxtp mintp Spearmans correlation : -0.054\n",
      "Jun maxtp mintp Pearsons correlation : 0.003\n",
      "Jun maxtp mintp Spearmans correlation : -0.003\n",
      "Jul maxtp mintp Pearsons correlation : -0.015\n",
      "Jul maxtp mintp Spearmans correlation : 0.005\n",
      "Aug maxtp mintp Pearsons correlation : -0.031\n",
      "Aug maxtp mintp Spearmans correlation : -0.035\n",
      "Sep maxtp mintp Pearsons correlation : -0.072\n",
      "Sep maxtp mintp Spearmans correlation : -0.061\n",
      "Oct maxtp mintp Pearsons correlation : -0.042\n",
      "Oct maxtp mintp Spearmans correlation : -0.041\n",
      "Nov maxtp mintp Pearsons correlation : -0.104\n",
      "Nov maxtp mintp Spearmans correlation : -0.095\n",
      "Dec maxtp mintp Pearsons correlation : 0.068\n",
      "Dec maxtp mintp Spearmans correlation : 0.043\n"
     ]
    }
   ],
   "source": [
    "for i in range(12):\n",
    "   corr, _ = pearsonr(sim_maxtp[i], sim_mintp[i])\n",
    "   print(months[i], \"maxtp mintp Pearsons correlation : %.3f\" % corr)\n",
    "   corr, _ = spearmanr(sim_maxtp[i], sim_mintp[i])\n",
    "   print(months[i], \"maxtp mintp Spearmans correlation : %.3f\" % corr)"
   ]
  },
  {
   "cell_type": "markdown",
   "metadata": {},
   "source": [
    "The above shows no correlation, so we'll order min temp according to max temp for these months, by ranking the values for both, and retaining the max temp order. Check the rain-cbl pair too:"
   ]
  },
  {
   "cell_type": "code",
   "execution_count": 141,
   "metadata": {},
   "outputs": [
    {
     "name": "stdout",
     "output_type": "stream",
     "text": [
      "Jan rain cbl Pearsons correlation : 0.045\n",
      "Jan rain cbl Spearmans correlation : 0.076\n",
      "Feb rain cbl Pearsons correlation : -0.098\n",
      "Feb rain cbl Spearmans correlation : -0.115\n",
      "Mar rain cbl Pearsons correlation : -0.088\n",
      "Mar rain cbl Spearmans correlation : -0.064\n",
      "Apr rain cbl Pearsons correlation : 0.012\n",
      "Apr rain cbl Spearmans correlation : -0.032\n",
      "May rain cbl Pearsons correlation : 0.024\n",
      "May rain cbl Spearmans correlation : -0.038\n",
      "Jun rain cbl Pearsons correlation : 0.141\n",
      "Jun rain cbl Spearmans correlation : 0.098\n",
      "Jul rain cbl Pearsons correlation : 0.024\n",
      "Jul rain cbl Spearmans correlation : 0.008\n",
      "Aug rain cbl Pearsons correlation : 0.061\n",
      "Aug rain cbl Spearmans correlation : -0.092\n",
      "Sep rain cbl Pearsons correlation : -0.034\n",
      "Sep rain cbl Spearmans correlation : -0.028\n",
      "Oct rain cbl Pearsons correlation : 0.013\n",
      "Oct rain cbl Spearmans correlation : -0.008\n",
      "Nov rain cbl Pearsons correlation : -0.005\n",
      "Nov rain cbl Spearmans correlation : -0.018\n",
      "Dec rain cbl Pearsons correlation : -0.081\n",
      "Dec rain cbl Spearmans correlation : -0.033\n"
     ]
    }
   ],
   "source": [
    "for i in range(12):\n",
    "   corr, _ = pearsonr(sim_rain[i], sim_cbl[i])\n",
    "   print(months[i], \"rain cbl Pearsons correlation : %.3f\" % corr)\n",
    "   corr, _ = spearmanr(sim_rain[i], sim_cbl[i])\n",
    "   print(months[i], \"rain cbl Spearmans correlation : %.3f\" % corr)"
   ]
  },
  {
   "cell_type": "markdown",
   "metadata": {},
   "source": [
    "Again, there is no correlation between the two, so we'll apply an order to the simulated data here too.  \n",
    "\n",
    "First maxtp mintp:  \n",
    "We'll check the impact of applying order to one month, December, where there is a high coefficient between 'maxtp' and 'mintp'.  \n",
    "Get the average of the 2 correlation coefficients for the actual data, and subtract the average of the 2 coefficients for the simulated data, then rank the values in the simulated data for 'maxtp' and apply that rank to a proportion (according to the coefficient values) of a sorted version of the 'mintp' data. The remaining 'mintp' simulated data will be left unranked. We'll display the coefficients for the actual data, the unprocessed simulated data and the processed simulated data.\n",
    "(ref https://stackoverflow.com/questions/32655605/python-rank-a-list-of-number-string-convert-list-elements-to-ordinal-value)  \n",
    "(ref https://thispointer.com/find-the-index-of-a-value-in-numpy-array/)\n",
    "(ref https://thispointer.com/delete-elements-from-a-numpy-array-by-value-or-conditions-in-python/)"
   ]
  },
  {
   "cell_type": "code",
   "execution_count": 142,
   "metadata": {},
   "outputs": [
    {
     "name": "stdout",
     "output_type": "stream",
     "text": [
      "Pearsons correlation actual data: 0.801\n",
      "Spearmans correlation actual data : 0.768\n",
      "-------------------------------\n",
      "Pearsons correlation unsorted simulated data: 0.068\n",
      "Spearmans correlation unsorted simulated data: 0.043\n",
      "-------------------------------\n",
      "Pearsons correlation sorted simulated data: 0.719\n",
      "Spearmans correlation sorted simulated data: 0.732\n"
     ]
    }
   ],
   "source": [
    "sim_save=sim_mintp[11]\n",
    "corr1, _ = pearsonr(mx[11]['maxtp'], mx[11]['mintp'])\n",
    "print(\"Pearsons correlation actual data: %.3f\" % corr1)\n",
    "corr2, _ = spearmanr(mx[11]['maxtp'], mx[11]['mintp'])\n",
    "print(\"Spearmans correlation actual data : %.3f\" % corr2)\n",
    "print('-------------------------------')\n",
    "corr3, _ = pearsonr(sim_maxtp[11], sim_mintp[11])\n",
    "print(\"Pearsons correlation unsorted simulated data: %.3f\" % corr3)\n",
    "corr4, _ = spearmanr(sim_maxtp[11], sim_mintp[11])\n",
    "print(\"Spearmans correlation unsorted simulated data: %.3f\" % corr4)\n",
    "\n",
    "corr=(((corr1+corr2)/2)-((corr3+corr4)/2))\n",
    "\n",
    "l = np.array(sim_maxtp[11])\n",
    "s = pd.Series(l)\n",
    "ln=s.rank(method='dense')\n",
    "num=len(sim_mintp[11])\n",
    "num=int(num*corr)\n",
    "sim_mintp_sorted=np.sort(sim_mintp[11])\n",
    "sim_mintp_new=[]\n",
    "for i in range(num):\n",
    "    lni=int(ln[i])\n",
    "    val=sim_mintp_sorted[(lni-1)]\n",
    "    sim_mintp_new.append(val)\n",
    "    result = np.where(sim_save == val)\n",
    "    sim_save = np.delete(sim_save, result[0][0])\n",
    "\n",
    "num=len(sim_save)\n",
    "for i in range(num):\n",
    "    sim_mintp_new.append(sim_save[i])    \n",
    "    \n",
    "print('-------------------------------')    \n",
    "corrx, _ = pearsonr(sim_maxtp[11], sim_mintp_new)\n",
    "print(\"Pearsons correlation sorted simulated data: %.3f\" % corrx)\n",
    "corrx, _ = spearmanr(sim_maxtp[11], sim_mintp_new)\n",
    "print(\"Spearmans correlation sorted simulated data: %.3f\" % corrx)    "
   ]
  },
  {
   "cell_type": "code",
   "execution_count": 143,
   "metadata": {},
   "outputs": [
    {
     "name": "stdout",
     "output_type": "stream",
     "text": [
      "Jan  - Pearsons correlation actual data: 0.738\n",
      "Jan  - Spearmans correlation actual data : 0.715\n",
      "Jan  - Pearsons correlation unsorted simulated data: -0.065\n",
      "Jan  - Spearmans correlation unsorted simulated data: -0.056\n",
      "Jan  - Pearsons correlation sorted simulated data: 0.768\n",
      "Jan  - Spearmans correlation sorted simulated data: 0.787\n",
      "Feb  - Pearsons correlation actual data: 0.664\n",
      "Feb  - Spearmans correlation actual data : 0.667\n",
      "Feb  - Pearsons correlation unsorted simulated data: 0.014\n",
      "Feb  - Spearmans correlation unsorted simulated data: 0.013\n",
      "Feb  - Pearsons correlation sorted simulated data: 0.668\n",
      "Feb  - Spearmans correlation sorted simulated data: 0.662\n",
      "Mar  - Pearsons correlation actual data: 0.550\n",
      "Mar  - Spearmans correlation actual data : 0.575\n",
      "Mar  - Pearsons correlation unsorted simulated data: 0.042\n",
      "Mar  - Spearmans correlation unsorted simulated data: 0.026\n",
      "Mar  - Pearsons correlation sorted simulated data: 0.589\n",
      "Mar  - Spearmans correlation sorted simulated data: 0.568\n",
      "Apr  - Pearsons correlation actual data: 0.446\n",
      "Apr  - Spearmans correlation actual data : 0.411\n",
      "Apr  - Pearsons correlation unsorted simulated data: 0.044\n",
      "Apr  - Spearmans correlation unsorted simulated data: 0.052\n",
      "Apr  - Pearsons correlation sorted simulated data: 0.358\n",
      "Apr  - Spearmans correlation sorted simulated data: 0.372\n",
      "May  - Pearsons correlation actual data: 0.535\n",
      "May  - Spearmans correlation actual data : 0.517\n",
      "May  - Pearsons correlation unsorted simulated data: -0.061\n",
      "May  - Spearmans correlation unsorted simulated data: -0.054\n",
      "May  - Pearsons correlation sorted simulated data: 0.676\n",
      "May  - Spearmans correlation sorted simulated data: 0.657\n",
      "Jun  - Pearsons correlation actual data: 0.500\n",
      "Jun  - Spearmans correlation actual data : 0.499\n",
      "Jun  - Pearsons correlation unsorted simulated data: 0.003\n",
      "Jun  - Spearmans correlation unsorted simulated data: -0.003\n",
      "Jun  - Pearsons correlation sorted simulated data: 0.531\n",
      "Jun  - Spearmans correlation sorted simulated data: 0.498\n",
      "Jul  - Pearsons correlation actual data: 0.465\n",
      "Jul  - Spearmans correlation actual data : 0.465\n",
      "Jul  - Pearsons correlation unsorted simulated data: -0.015\n",
      "Jul  - Spearmans correlation unsorted simulated data: 0.005\n",
      "Jul  - Pearsons correlation sorted simulated data: 0.452\n",
      "Jul  - Spearmans correlation sorted simulated data: 0.467\n",
      "Aug  - Pearsons correlation actual data: 0.480\n",
      "Aug  - Spearmans correlation actual data : 0.463\n",
      "Aug  - Pearsons correlation unsorted simulated data: -0.031\n",
      "Aug  - Spearmans correlation unsorted simulated data: -0.035\n",
      "Aug  - Pearsons correlation sorted simulated data: 0.504\n",
      "Aug  - Spearmans correlation sorted simulated data: 0.504\n",
      "Sep  - Pearsons correlation actual data: 0.496\n",
      "Sep  - Spearmans correlation actual data : 0.441\n",
      "Sep  - Pearsons correlation unsorted simulated data: -0.072\n",
      "Sep  - Spearmans correlation unsorted simulated data: -0.061\n",
      "Sep  - Pearsons correlation sorted simulated data: 0.484\n",
      "Sep  - Spearmans correlation sorted simulated data: 0.521\n",
      "Oct  - Pearsons correlation actual data: 0.609\n",
      "Oct  - Spearmans correlation actual data : 0.568\n",
      "Oct  - Pearsons correlation unsorted simulated data: -0.042\n",
      "Oct  - Spearmans correlation unsorted simulated data: -0.041\n",
      "Oct  - Pearsons correlation sorted simulated data: 0.620\n",
      "Oct  - Spearmans correlation sorted simulated data: 0.617\n",
      "Nov  - Pearsons correlation actual data: 0.744\n",
      "Nov  - Spearmans correlation actual data : 0.704\n",
      "Nov  - Pearsons correlation unsorted simulated data: -0.104\n",
      "Nov  - Spearmans correlation unsorted simulated data: -0.095\n",
      "Nov  - Pearsons correlation sorted simulated data: 0.846\n",
      "Nov  - Spearmans correlation sorted simulated data: 0.826\n",
      "Dec  - Pearsons correlation actual data: 0.801\n",
      "Dec  - Spearmans correlation actual data : 0.768\n",
      "Dec  - Pearsons correlation unsorted simulated data: 0.068\n",
      "Dec  - Spearmans correlation unsorted simulated data: 0.043\n",
      "Dec  - Pearsons correlation sorted simulated data: 0.719\n",
      "Dec  - Spearmans correlation sorted simulated data: 0.732\n"
     ]
    }
   ],
   "source": [
    "for ix in range(12):\n",
    "   sim_save=sim_mintp[ix]\n",
    "   corr1, _ = pearsonr(mx[ix]['maxtp'], mx[ix]['mintp'])\n",
    "   corr2, _ = spearmanr(mx[ix]['maxtp'], mx[ix]['mintp'])\n",
    "   corr3, _ = pearsonr(sim_maxtp[ix], sim_mintp[ix])\n",
    "   corr4, _ = spearmanr(sim_maxtp[ix], sim_mintp[ix])\n",
    "   corr=(((corr1+corr2)/2)-((corr3+corr4)/2))\n",
    "   l = np.array(sim_maxtp[ix])\n",
    "   s = pd.Series(l)\n",
    "   ln=s.rank(method='dense')\n",
    "   num=len(sim_mintp[ix])\n",
    "   num=int(num*corr)\n",
    "   sim_mintp_sorted=np.sort(sim_mintp[ix])\n",
    "   sim_mintp_new[ix]=[]\n",
    "   for i in range(num):\n",
    "      lni=int(ln[i])\n",
    "      val=sim_mintp_sorted[(lni-1)]\n",
    "      sim_mintp_new[ix].append(val)\n",
    "      result = np.where(sim_save == val)\n",
    "      sim_save = np.delete(sim_save, result[0][0])\n",
    "\n",
    "   num=len(sim_save)\n",
    "   for i in range(num):\n",
    "      sim_mintp_new[ix].append(sim_save[i])  \n",
    "   print(months[ix], \" - Pearsons correlation actual data: %.3f\" % corr1)\n",
    "   print(months[ix], \" - Spearmans correlation actual data : %.3f\" % corr2)\n",
    "   print(months[ix], \" - Pearsons correlation unsorted simulated data: %.3f\" % corr3)\n",
    "   print(months[ix], \" - Spearmans correlation unsorted simulated data: %.3f\" % corr4)    \n",
    "   corr3, _ = pearsonr(sim_maxtp[ix], sim_mintp_new[ix])\n",
    "   corr4, _ = spearmanr(sim_maxtp[ix], sim_mintp_new[ix])    \n",
    "   print(months[ix], \" - Pearsons correlation sorted simulated data: %.3f\" % corr3)\n",
    "   print(months[ix], \" - Spearmans correlation sorted simulated data: %.3f\" % corr4)     "
   ]
  },
  {
   "cell_type": "markdown",
   "metadata": {},
   "source": [
    "Sorting 'mintp' according to the 'maxtp' values for December has given us a correlation between the two similar to that for the actual data. We'll apply this to all months for 'maxtp' and 'mintp': "
   ]
  },
  {
   "cell_type": "code",
   "execution_count": 169,
   "metadata": {},
   "outputs": [
    {
     "name": "stdout",
     "output_type": "stream",
     "text": [
      "0\n",
      "[999.4997724893559, 998.3627842859493, 995.9159543578683, 1024.1104617997978, 1004.434253865813, 986.7755723458647, 994.0522795449791, 1015.3921026394919, 994.028624746971, 1017.700657555564, 1000.1687962369502, 998.0766968649697, 996.0853222344729, 975.3710183171329, 1019.9988482803197, 998.4670424308817, 1013.4317707973593, 1006.2325140281381, 980.3945599018641, 1000.2385187529367, 1002.2865076852013, 1012.1868838298954, 1030.295569067833, 1012.9847920306795, 981.3844653428491, 989.0331335208535, 994.3060903815273, 1016.5679752153054, 1021.6506368817797, 1014.4342152325463, 985.0671592648786, 1042.3983455471894, 987.5080626905263, 1014.0563022437783, 1003.5590117580905, 1031.6091373891084, 1026.795494973505, 1021.4033241737721, 982.6572644175106, 1012.9977488826067, 982.6756355537032, 1030.511088315302, 1001.1186822528853, 980.3303280662692, 983.7358396289593, 997.9887717154749, 996.4946551424993, 1005.6720892726362, 1021.6835598588718, 1025.093299514889, 1007.1220353170685, 1034.3671389513145, 1002.1173092664842, 984.8498442845723, 1012.5782602613655, 976.8493184535124, 972.4907638763435, 1010.5143073272396, 1002.3685997563665, 1000.0967545194949, 1008.7392554106636, 981.513318209252, 1002.232491887902, 1006.3396455675972, 1017.01186818373, 1005.0039822953983, 973.9735445494986, 1018.8556405943895, 1010.240228242002, 1003.605810017053, 980.7563455055005, 1018.8581710712914, 1010.8340987645194, 990.3684483503388, 1015.9857688339928, 985.2141678937337, 1005.3264369853081, 1014.485204178041, 1021.790574399523, 1018.2843965004498, 1030.0447003709414, 1005.8094605619193, 994.5604353011471, 1019.0347892857517, 1026.9029639109142, 985.5473460961207, 1000.054054177235, 1013.8917952344704, 1002.9190714220845, 1001.4667114308926, 996.6368573662776, 1008.4962369928747, 1002.1591703121959, 1004.1364287439425, 994.1824081747477, 1018.1058674941927, 963.3267432112164, 1005.9115048624398, 1008.6388413580411, 1026.1930621044262, 1007.4725576178001, 1020.9849115148866, 1011.0336410257121, 1018.0029244489543, 1038.4148255779571, 1017.7774587147047, 1003.8134631001019, 978.2108939886882, 1010.269062042259, 998.1110746962531, 1010.536675046481, 998.0990042663992, 1036.5768484281066, 1024.576433791554, 984.0464297607006, 1000.5220251699122, 995.8034486705478, 1012.390024196405, 986.2157432127339, 1015.1963442892139, 1009.4325057767235, 1011.0140305640332, 1031.6743867247053, 1022.7770419018921, 993.6491556861588, 1008.4678916622705, 1023.449135647513, 1003.4826530085231, 1026.8493168260902, 1023.9994622183473, 999.5021624237995, 1022.9225420209432, 977.6163211212371, 982.8181372766485, 1000.180046919444, 1018.1093522530075, 1024.5353583840765, 1013.492882319611, 1003.2306594946922, 997.2335121753367, 1008.9181460506794, 996.9246195551062, 988.5542992803786, 1020.4746214606705, 979.9263269172599, 1009.3705441929486, 1003.4402738857492, 983.1753673296408, 985.5493580437472, 1011.5461968009852, 1012.3603276339901, 1011.041094023868, 986.6679434676263, 1006.2936807160575, 986.1706973228224, 986.2450115466513, 1019.8989958706088, 998.1848188458922, 1026.742128167422, 990.6057932721085, 996.8277726003083, 1019.4189447332631, 1018.7973054099933, 1009.0763316698489, 1018.9172171421894, 1015.344707267521, 1011.931477958285, 994.4967202196624, 988.4631313359819, 977.8546036047951, 1011.5414854283476, 1004.414304345455, 988.8535550643143, 1028.1521632097301, 1012.9792040837114, 1022.0414660028016, 996.9746761909615, 1022.0256856812665, 980.6246628002057, 1016.9906772986064, 1033.263383545562, 1006.5670349311433, 988.8704014892148, 1039.8111745773708, 1014.1943720685043, 1010.6519307805783, 1007.5363513467009, 1009.7046013200304, 1020.7573512123209, 1026.300101557839, 991.1726722883261, 1008.905381588769, 999.8716457456534, 1013.9310481851713, 1009.7820400208966, 1018.0360155409243, 1001.8284705279732, 991.9786916450312, 1008.7120600102434, 1004.7257079663093, 995.5236534374142, 978.5324322415885, 975.6179232159138, 1018.2431281405611, 980.1292237907675, 979.2720182871203, 996.3562744265536, 1014.2793351651314, 993.5477709853208, 994.4890805188442, 1021.5486662333183, 1007.5566829503011, 1021.219974512401, 1018.6127000699186, 1003.5589637138745, 989.7750632620684, 1016.1616005793769, 1024.1397146440856, 981.9478681298374, 998.637687898574, 1014.0668118919577, 1001.6843932778737, 980.8131742032259, 1000.5986093561213, 1015.7185027578594, 1006.2441339916361, 985.0259783292743, 992.4738636380803, 997.154477367719, 1015.7518665115877, 1011.0381270427768, 1033.3425899786116, 1019.6153430960062, 997.3019589897013, 1010.7259909244866, 1003.7997872098209, 1018.6428251055216, 1023.1846619995852, 976.3470415632893, 1021.3797135123522, 972.3702339962003, 1030.1654359198699, 1007.4320483077969, 1005.9972429730627, 1002.2457474042247, 982.8844958268107, 1023.7767094984563, 1003.0116149978668, 984.0125692163202, 1008.7412268436076, 1003.1127036956491, 968.3503089623846, 997.0557230953301, 992.0332515946565, 1026.3096439197086, 1014.8595533500123, 1019.816754766093, 983.4844921319044, 995.2555124157441, 982.0748398329808, 1006.8486365653587, 1016.6152644585419, 975.5109614867015, 1022.4366814459756, 1024.5881425713546, 1027.3039381751162, 999.5033476762895, 993.2854037330856, 1028.3613532041263, 1010.4020120739491, 998.2744384300208, 1020.3755132088135, 999.1669260815552, 1008.4386552658505, 999.4331816859853, 993.0332083918984, 1002.7649512489285, 1025.2924922771426, 981.7577910117266, 1023.2336208306348, 984.5292512969694, 1018.2972266836886, 994.7946144258428, 994.9404679835404, 1021.8999872487888, 1019.8428328134542, 1000.9614533078922, 981.3186314692144, 1024.4261367947531, 1001.2181668117021, 1027.5766107318807, 1017.5409586784623, 1036.6851723252994, 989.7735381285624, 1018.8375058372305, 1024.0431656190408, 983.7201620497943, 1006.3912516021953, 994.2765206347586, 1000.0535954151852, 986.2891171759348, 994.7132660378718, 1021.076782577427, 1027.2276693008125, 985.5043985032421, 1006.7240433209968, 1021.2261305297271, 1024.272296795524, 1005.4946789591747, 1005.7189953328569, 1034.7309998266874, 989.0731831254169, 1021.2387981036693, 1031.358232653344, 994.6844292444764, 1009.7102931255947, 1029.1865742257626, 981.0199635237128, 1007.2591340197009, 975.5192864364659, 1019.7599869574735, 1020.2631574156338, 1026.504029148625, 978.1349864786769, 1018.7746008924236, 1005.0783553892227, 1004.187010900785, 1009.6755968117257, 994.2921250799664, 1020.7095918578839, 1005.061992859031, 1013.6165012268225, 1020.4216648579904, 996.601201166437, 1001.9672354291798, 1019.1487432195378, 1024.634024218533, 1018.3993809114112, 993.0918922467245, 999.9498483275632, 1021.1631134901021, 1019.8329553603578, 1025.4853001630024, 991.6266599823381, 1017.9494524731272, 980.089103335173, 995.2451726666775, 971.355575731612, 995.2502426977558, 1024.8210007303257, 1003.4024289981425, 1033.469149096601, 1003.3207413856093, 992.9430084271575, 1025.8320219609996, 1021.3171447524442, 1003.121162374505, 1027.229418673651, 1012.3035493964023, 1009.0093360187664, 977.5528243262355, 1011.9565480147354, 1024.2120756803554, 1029.6198566998748, 1008.3238770955212, 1006.2168425852223, 1006.6121623352923, 984.7413189939883, 975.5916524108391, 1039.4832291174357, 981.8986244021532, 1018.0329187808283, 992.2217591296268, 1015.474129974933, 1026.2589060198225, 1005.3706043568584, 1003.8710607317332, 1019.8433778266092, 1009.3352310042873, 997.5544132962256, 999.4417842067785, 1003.4882159500535, 988.2941706545296, 994.2280220289125, 1007.3943067476735, 1016.2486793344458, 986.0052168433429, 1029.0090702696357, 974.5114043030435, 1012.6344603343049, 1023.6245704604135, 982.637117839141, 1042.2276864487262, 997.1264759623265, 1010.8672842352173, 1023.6038051497221, 979.5087588573141, 998.2869498579994, 1015.4134106844597, 978.4454608219206, 1021.6394369277334, 1021.5543382683901, 1010.1362377611301, 978.014902095355, 1017.339213655144, 997.2806221599017, 997.3374724322401, 991.1941047227506, 992.0860814361167, 1016.1383031160376, 983.1056161043699, 1030.157877907524, 973.4323131556976, 1007.523293658768, 1013.1696120522646, 1019.6862353620855, 1031.7050809557334, 1013.0717991049544, 1005.9943212290622, 991.6307787094883, 969.09630519304, 984.5222961878419, 1021.0490290206743, 1019.0983841373227, 997.6407353709811, 1022.4434018058919, 1010.476858551619, 996.4757422347017, 1005.4005184757169, 1017.5023062445443, 1018.4916143149231, 985.7942707541954, 1023.8671623791815, 977.7922456332851]\n",
      "1\n",
      "[996.7145997531464, 1018.2848664253428, 1012.1165388129227, 1010.9576236864393, 1025.4931284148913, 1004.5456618166676, 1026.840006060622, 995.9625650977833, 1033.0669517589981, 994.1446577164422, 1013.624113594419, 986.3360738771869, 1017.5426325948589, 989.716170801619, 989.9848663706588, 1001.7839662525137, 985.1755723906379, 1015.1886991450875, 1012.6064197684198, 964.3360438824036, 1014.0167209911441, 960.5229695899286, 1009.2351126425672, 1006.6050213755819, 1007.1351695071573, 1021.8840979081685, 990.2140930704799, 1022.5386011947701, 1006.0492890900841, 989.1346594741174, 1009.1864213854, 1010.8719961676774, 997.5129558139993, 1029.0600055704688, 1014.0949996405774, 996.2783449698595, 997.411598416554, 975.3183294467815, 1016.817547219982, 983.9032066886491, 975.1690702041649, 983.226007245612, 1019.0976645312455, 986.9010161786629, 1011.8739544335947, 1015.8038826288531, 1015.0344016144766, 996.601588296897, 1024.9336599145988, 1003.8705317043915, 981.3170687448527, 999.3739515776939, 1018.9872821489317, 1020.7195962765772, 1013.7234584267393, 971.4775088951483, 1001.5503221349924, 1007.6143369214, 1022.3757105572541, 1008.9627531409732, 998.790045038764, 1008.8208453102254, 1026.3727158337676, 1020.6609504801387, 1026.330765297964, 1010.6382493867951, 1017.4613790165355, 995.4045957022175, 1018.9937245857024, 971.6230291201254, 1022.8542343328122, 970.4306269284282, 1017.5962334552228, 979.0759862016257, 1020.8679859675359, 985.4836643339561, 1025.0745782692757, 1029.886963578412, 1006.395954326727, 1008.8661509454982, 1010.2829380073051, 997.8178360108927, 1009.0886019965977, 1033.9814410475578, 1017.6403245951675, 1018.6139990410724, 999.5886387563139, 1008.1921613351413, 1006.344697755702, 975.4866408371934, 1005.2885329166189, 1030.0067611636066, 1014.0604718590116, 1019.9570568362176, 1015.9098341359376, 987.0742090775319, 1018.1225510751079, 1008.4431068914112, 1004.7577583043646, 1006.2827760947864, 1029.7817221123005, 984.7506890295493, 1003.3695783330957, 1015.3778354355298, 1035.6414427499014, 992.7398946741869, 1027.115227515154, 1006.5830449237396, 1001.8180364178471, 998.6754076290113, 1012.5329666461611, 1021.4705643584532, 1004.8994505454963, 975.2018328529483, 1016.1874743405909, 1008.2271101198038, 968.0950227978046, 1022.4199459141379, 1018.3138206276897, 1004.7118923654643, 998.8815335225046, 979.1888182289879, 1010.6668989956279, 987.5838268151239, 1007.9328807770212, 990.4841452479869, 1012.5282517919386, 1015.5133211226229, 999.7410436613693, 1019.2487430161981, 1000.7969446630623, 1012.0918950274449, 1020.212623880673, 1004.8314077683984, 998.8939457288116, 1020.2006452626791, 1022.1954328293482, 1031.8545612959301, 1022.1795706514038, 991.2820355370376, 1001.3788665275417, 995.6716943348714, 984.4291615355643, 1020.0838350667935, 1018.2243211816168, 993.7503385122965, 1002.5590938384638, 982.0728721203993, 973.176363367288, 1004.8091064241022, 1003.723838674765, 1011.2058531075172, 1017.1243460758154, 988.3702126177244, 1004.3049144923938, 1006.3277383818211, 994.8305943139022, 1013.9826939757826, 1002.6667176852944, 1031.357229171629, 964.3053014747973, 983.077225658505, 1016.6391426130215, 1009.0467584087069, 994.946938358871, 969.2676852570003, 1004.7921252184425, 992.6286954971256, 1015.3278217125501, 991.4131096228238, 982.318331733823, 1022.9106638112073, 1016.4583459852172, 1016.0013909964014, 1006.9355292577249, 994.8535356831597, 1019.0605748082339, 996.0232990012992, 1014.9238918929656, 992.7389604636969, 1010.0731540803058, 1025.0774793571843, 996.7274801175736, 1007.7507674227409, 1017.2104105865076, 1018.4620733431067, 998.3090234724185, 1006.3653446242206, 989.6305806838124, 1025.8417597845817, 999.7268493018647, 1023.1207060118379, 992.6824657289015, 1003.7401170775455, 986.383725224858, 1036.7364083118873, 1017.9803227243967, 1014.7757917521883, 1013.3603709351986, 1015.546270026985, 1013.4007582459259, 978.4427481936657, 1032.754856396379, 998.8165609513692, 985.4056834491658, 1005.4268486238688, 1026.4987734654699, 1016.8015462349737, 1006.9558833513208, 982.564938470689, 1030.0268619154663, 981.8273278698045, 1012.8912809771492, 1013.0490561429104, 1002.5273053792444, 973.3087459861695, 1017.5363424183184, 994.72860568275, 977.7220084366451, 1021.4863754119169, 978.438174783487, 1017.8445038616726, 981.3583615938725, 1016.689594186867, 998.0500125500762, 1022.4114240249831, 1026.9921514458276, 1018.6532299266353, 1003.1101905386222, 1017.4703054468067, 998.7734539121071, 989.3625903366369, 990.9575832676568, 977.3461700814535, 1022.6206639388641, 958.6067346371323, 994.3739377147633, 1006.2918132071695, 1019.6909876591976, 1021.9792236011452, 1013.064300801934, 1030.999240316722, 1024.9065051167252, 1008.4071195141445, 989.1066001277846, 1008.6314062042472, 1018.7545101742854, 1016.925740561026, 1008.4612560602657, 1026.672020215248, 977.1297370112416, 971.1592574073164, 1018.5024693972666, 1008.768636572217, 1002.1830510472122, 1017.325418387121, 1038.4361424586423, 1018.8583161891626, 985.0854975019166, 1010.2305082497767, 981.2424596355143, 978.1058691471884, 1007.0865857819269, 1013.6408796132431, 1006.3891498151751, 984.1961311522505, 1028.0714803394399, 1027.3839736887276, 980.166112720141, 1035.1426503566418, 1005.4367633288333, 984.2053318558814, 1016.8079335746628, 996.6781746548561, 1027.219400615127, 1000.6323470869037, 984.6121305850389, 1014.5404258022785, 1027.2837249111587, 984.3107004104711, 1029.8550133730882, 990.8936430881758, 1009.240517938611, 1014.4585011349371, 1008.8224908543964, 982.1885754947026, 1027.1286978075761, 1025.6870698247844, 1007.1904527904128, 1020.7193951598248, 982.8072786812832, 1024.3257793303737, 1012.7215273732949, 1025.0591309817207, 1018.1467328098838, 1029.7264539319387, 1018.4852861530013, 990.0145676232377, 1009.0590770900309, 1024.1703199375143, 1011.9288900717887, 990.4894340786648, 1028.8353665577524, 1029.0505723577633, 987.9414451417525, 988.2165488413716, 1001.6967137631323, 1004.2063327318581, 999.6861335487555, 1013.1740779964211, 1011.7234395457593, 1014.0559424889548, 997.7776061010335, 986.378927754039, 1013.9318866203579, 1011.3455255719753, 990.8685051526973, 1026.6207584804383, 1009.6978783695132, 994.4721750425144, 1020.4834725503397, 990.7535110334342, 1003.8697634056633, 975.1238414648539, 1026.2076486342644, 1012.379531696881, 971.7847286191795, 1042.957565562568, 1019.4213494963983, 1001.8815060702825, 999.4993152223676, 999.4736316707572, 993.5394339131544, 1029.0157941576526, 1023.8447233727234, 988.6638444359984, 990.7226244046411, 1022.6045452186614, 1024.9082225441764, 994.4033021149346, 1043.0715904768128, 986.2095800978369, 987.8705845409092, 1014.4876750522658, 976.6249837707611, 985.5270613166036, 1012.6183027448878, 1004.3815869085211, 1020.8092816800745, 1032.034403820999, 1032.8413795672484, 961.6522945085301, 1000.6901477853944, 1006.6384231028012, 1010.9085728063336, 991.2931565119445, 1015.4757396763947, 1020.8452138390935, 1009.2959141908434, 998.4531178363262, 976.7396931948405, 1014.3249115510914, 1030.3851610727245, 1020.8026707194125, 1014.4878387422593, 1035.2168604448486, 1028.4550106376275, 1022.6821490502241, 1008.2938894419245, 1013.4548799571322, 978.6379302910152, 1005.6719380124656, 1002.356240260716, 1013.4137842189273, 1039.8643086769093, 980.5880451954841, 1007.4291359549615, 975.5470294802207, 1003.6631605641654, 1022.6153364715095, 986.6468511203541, 1003.7350710470263, 1006.7228802641104, 981.8896432971211, 1000.7098132209395, 972.4496746850982, 1005.8276866224902, 995.5651343076614, 993.944586454926, 1010.9984125420929, 1010.6155644722398, 1012.6191374410738, 1006.0916158872444, 995.4576825914534]\n",
      "2\n",
      "[1004.575504811655, 1005.1513436713192, 1023.5478366803889, 1005.2488546812652, 1001.1970706230736, 1019.2923895938245, 988.2711070890437, 1010.8247472677099, 1000.3084741356083, 1020.3357222070925, 1014.7373700807418, 990.0493373734414, 1010.8477560241942, 992.5899172057536, 997.6719983902594, 991.5353585318182, 1010.093714269023, 994.3217153745919, 1013.6106975071351, 1018.0109754168467, 1017.103033215914, 1027.2159614258617, 1007.86171647473, 986.4387798240883, 988.4632541936187, 1010.2728520931096, 1026.1371904712141, 988.7659224035943, 1005.684606927279, 1004.046984887091, 1035.5797213400695, 1022.6200803308151, 1034.662982889224, 1026.8302988394996, 1016.5177794975847, 1011.5201336372496, 1001.8401424993123, 979.9555659849856, 1000.7243909207469, 1015.3069984238555, 1030.7418371419174, 1018.1599711819971, 1006.4306500213548, 1031.2391522946739, 1010.5062402563284, 987.4983660883717, 1031.2717593560274, 1024.8129478395663, 1019.6178980578351, 1004.4583865137963, 1029.677316600155, 1020.9844961456204, 978.5790490172486, 1027.0014971311953, 1018.7451670112476, 1015.7153371423262, 991.2231146141639, 1029.1287922310062, 994.2769403273684, 1012.3371190479702, 1003.1431802753021, 998.3906517423817, 971.2621369846382, 998.6701206192469, 1004.4551785846912, 1004.8856856528636, 992.5794455015731, 1021.7765490085343, 1033.2539351687592, 984.8828706698008, 1020.0606639252594, 1000.0689697053832, 996.2141991422916, 1000.1642360666596, 1032.2008851842747, 999.1872992242902, 977.4508096815076, 1026.1161654428865, 1015.2393444774316, 980.4522148744259, 1006.6646659521377, 1031.247892855726, 1010.264856679602, 997.1941741911397, 1024.1726527108553, 1010.5624947669345, 988.6661970298336, 993.501185726936, 978.237055671797, 988.7265729261914, 1028.1078175510804, 982.0457030518229, 997.9573023044467, 993.5492259983445, 1011.564797384823, 989.3093296765388, 1031.3202824481712, 1010.2536063789734, 1004.9308233651525, 1028.6178157781362, 1000.8833857877448, 1026.5653197649099, 1028.7587474943452, 1022.7403973408758, 1006.502902863243, 1016.7916715876601, 1023.3941172557659, 992.3251817404956, 991.8473918036364, 993.2137302464685, 1009.0888307495197, 1009.5312944724598, 1020.4171066059743, 996.2787777325641, 1003.305066233239, 983.4727367142461, 992.7796455616503, 1018.6339670748239, 1035.4294852785097, 1011.1132249111616, 1016.7262699549057, 999.2698241558862, 1017.7827296802288, 990.4727988901468, 995.0456744421975, 988.1140473350462, 1020.6022931205061, 1011.5886238756408, 1014.1623482626597, 1017.4568495715113, 994.7347159626571, 1004.4556698388724, 998.3515693044487, 987.554157785545, 1009.8717035736721, 999.7245601608779, 1034.9428973473769, 975.9369527547441, 987.734153842436, 1027.638882780824, 1006.542103606918, 996.5592035669124, 996.36980093547, 1028.7925157722334, 1021.6510601342804, 982.8747529669885, 1033.781775944941, 1018.4162393399168, 973.2243491808117, 992.4695732271048, 1023.7583534939923, 997.9882126319321, 993.8772787338789, 981.7026668626825, 1003.6207643316034, 985.061532498901, 1009.9051322395742, 1016.2536210768199, 977.5884518885599, 1003.3972396635481, 1000.5862970343056, 1012.2511752147175, 1008.1302969922914, 1006.9864210563827, 1013.9671075903399, 996.3960783624215, 1000.5923914357672, 1009.7501259588756, 997.1283530658266, 984.0373081398645, 1017.5237643643486, 1028.3577837460118, 1030.4843721803286, 1021.5755529371266, 1007.4370140047923, 981.8260209473435, 988.434980744265, 1023.0405076446461, 996.7219414815943, 1022.1815803654935, 979.7458095870352, 1025.0870952692412, 1021.0152610321808, 986.9651109675045, 978.1777339114938, 978.9651652082274, 977.5068045326417, 1014.3997372241353, 1001.0248323716856, 1016.0469148681289, 1027.7374014437642, 1014.2592558769943, 1008.6984852186475, 1001.0588010194102, 1017.4356203866389, 1002.2940165582143, 1029.1454080720894, 988.7489215807252, 1000.8699886791976, 1030.4739288499113, 990.3265948023584, 1018.5106578656274, 1002.3882086777853, 1009.0460736957648, 1006.7599812487753, 1007.5435604359973, 985.6580077507446, 981.0865539331129, 1023.9589106441332, 1002.5488714786368, 1023.8726699145373, 1003.5993068266778, 1026.6031479623964, 1022.2935385065693, 993.5632852495114, 997.1337336484207, 1011.0699144837486, 1011.3043093245768, 980.281660969799, 1012.1659365501403, 1003.5945763207429, 985.3985522875449, 995.7804026850645, 1016.2774297743381, 1024.631582392513, 1025.0675600254754, 1004.4882185039781, 987.6360099555889, 1026.1444829973977, 1028.431909676707, 1000.2980485205032, 996.0542247246267, 1002.5642866059379, 988.6239351522861, 987.3639228069771, 998.9762359875058, 963.1430636882952, 1006.9888268856519, 1034.37004325846, 991.6074506787326, 981.4920247469282, 1025.2129947998035, 1002.7756787313011, 1015.3485657510968, 1031.0631321097237, 1006.3558410905309, 1023.3909080727277, 1023.95362469991, 1022.2961437964481, 1028.835172003188, 1024.7951488659278, 998.4016281191053, 1022.6310645469364, 1030.2724597585097, 1004.8290467772646, 989.9131343182338, 1006.7811985822012, 1017.5132391658607, 997.4259782803219, 1014.7163007743453, 995.6683794584733, 1012.4837456197606, 1010.5772410678786, 1001.8315290135193, 1001.8500865198343, 983.2942941157203, 994.3210103271444, 1006.3773143211846, 1038.2770399694703, 1005.2247150021659, 1027.5190056265512, 1007.4800318835015, 1018.380700775922, 1027.9179849964203, 987.860016629315, 1002.8849982400742, 1016.4445452904941, 999.1219604054733, 1024.790240257014, 1016.2006705736251, 1032.4889970359122, 989.8048474745824, 1020.6225294560184, 1001.5082636702284, 992.9580763446279, 1008.2452326487478, 1022.1683185045179, 1027.950266211495, 999.5545655982045, 1021.0650606564928, 1022.0137290505588, 993.8549157087509, 1007.0510653347624, 1016.4913337308757, 1006.2297384074313, 1002.1574142323474, 988.7790079403931, 1011.0874189850967, 980.7517164825404, 1018.7936713237998, 1000.3127478554848, 1002.8779589771016, 1012.2838071731328, 989.8946084954412, 1027.9328441203263, 1011.5327071526574, 987.5985911097749, 1023.4200930248511, 992.7013424315642, 1003.5124917202307, 1008.1018490630075, 978.9513423034097, 993.2407586816636, 987.0185166721639, 1008.9503112172, 997.3401881220609, 1007.6887360092929, 981.0031932993942, 1019.7255511031166, 1002.2594347353845, 1026.5399804872127, 999.1887014062953, 1018.7327680011208, 988.8864543667842, 1030.47662019468, 1018.8169106451214, 1011.009038563875, 995.5285542254126, 993.3997934390217, 1010.6007366188069, 1019.8897726713404, 1010.241744899546, 990.288644773112, 1028.0265372696056, 998.9577102655802, 1013.9524378422402, 1008.8976124850636, 1024.0144135119176, 981.0682714344103, 1020.4027046460757, 985.3449325580227, 1022.7740845243344, 1024.667302413077, 1006.2210243014096, 1019.4770055071427, 987.2217416704254, 1043.562413386101, 1026.7020617788075, 990.81623404209, 1005.0671139431272, 1028.240227722571, 999.813424273714, 1030.5382765254856, 1005.3714849958747, 1002.255707828406, 1021.9618894878738, 1009.8286415738916, 998.9524388478961, 986.6574010073754, 1012.6781512018589, 1026.5564967311093, 994.2176737178031, 1018.2780787411764, 1001.2091512087311, 983.9846393924607, 1002.9695490890139, 999.5902025788705, 1010.197915085469, 1014.4307936573362, 991.0952281156754, 993.2354425027928, 1017.1392193701251, 1013.0170494030345, 988.0614533313965, 1005.8489018001872, 999.8209470345092, 986.1367059590417, 1020.842772158073, 1022.0298548782388, 1003.4536872377877, 997.361440371599, 1017.1834728118163, 999.8275352427223, 1006.8508782137648, 992.7955484521302, 1030.9540249761324, 1028.1737713452237, 990.8489168066845, 994.5509525717894, 1022.2100960378511, 999.9600737175913, 1003.4413533071756, 1019.2181588803297, 1019.6164462323773, 999.8058401569191, 1029.905232861395, 979.7557201812997, 1017.6854042527256, 1024.3741946447249, 1002.31814665772, 983.4690746811024, 1009.4969537200465, 988.9931214368015, 996.5994411883942, 1011.9833182063211, 1025.0965024281932, 1023.1577450012386, 1006.4097902198952, 1003.2298860714029, 1032.0787834899768, 989.3601823294445, 1012.9772962273086, 1006.1471882766734, 1011.6105055840844, 986.2141406688087, 1019.7931436587703, 1027.77921109966, 1003.8717017496939, 1021.2917196043941, 981.7912241891497, 1000.0772358859907, 1018.239567337596, 996.8717169557691, 1021.0965419033224, 1005.2364962274175, 1008.8893754631698, 1022.8708696620615, 1001.8661676883391, 1025.0033004710924, 1012.0604166962338, 991.7394897695123, 987.5698541980295, 997.3290019519484, 1000.250798065131]\n",
      "3\n",
      "[997.4493344537748, 1026.132982563167, 1007.6778917045643, 999.5059156025892, 1021.1012927584013, 987.0859770366544, 999.8209074860988, 995.8720382988062, 1026.9847072508053, 1008.5094836645982, 1011.0546548026592, 1023.6113289102121, 1007.88266300636, 1003.4415076895846, 978.478575249465, 982.4874205395396, 1019.2350752834136, 1020.8866497755183, 1006.9087132906126, 1013.4126509660836, 1022.2247295587455, 1002.1128807801298, 1020.0558251113068, 1015.438308026806, 1018.3344390833137, 1007.2110437924778, 1006.2014247663925, 1009.8590399043873, 1021.6809044889677, 983.7925684333842, 1002.9155914656735, 1000.555986691986, 1006.4595288888962, 1021.760439010559, 996.4802660290048, 1022.2326402326182, 1002.0027181791443, 1018.5144555695136, 992.1706111795783, 1022.2302598657071, 998.3317702180215, 995.7631779313981, 1009.6668298969064, 1025.0337834571112, 998.2820715089663, 1022.5860010727017, 1009.3072059203272, 1013.6687441226511, 1003.6067837594296, 1016.8377292005908, 1011.8159298434645, 1009.5947670833586, 1006.6753883053618, 1007.5735072151388, 1010.4497366359225, 992.0390789031126, 1032.4176476520188, 1003.5624927739807, 1004.6592102688408, 1015.3195768566217, 1019.4027308365274, 988.0122520944407, 1006.0781003772914, 1018.0939383421266, 1012.3522407044481, 1012.219781966037, 1006.998901091882, 1011.1341461778593, 1003.4835032585435, 1001.6108210340391, 1009.3341854434138, 1015.8963159860699, 1013.7253844502873, 1004.9927055407671, 1013.6667900560591, 1015.7309612375664, 1007.7249349959825, 1014.1520839806354, 1023.9428623415818, 1013.7038992043173, 1020.9503826933719, 1012.248675175971, 1021.4868999084408, 997.2643809126151, 1006.9409671365479, 1009.0215782014649, 1005.9015178237913, 997.8067119293781, 1013.7133957772495, 1023.934540884222, 1001.1601169313428, 1015.9104397174609, 1010.3428905928838, 1017.3574336862519, 1003.5248226689243, 1003.3068264619009, 995.0159104261191, 1015.5119636234695, 1007.7469280677906, 1012.8327544640501, 1023.7742496509563, 1014.6678653792842, 1018.5516849228677, 996.121734728803, 1018.1090765623092, 994.4516889223604, 1002.1410004448471, 1008.9796613917739, 1021.2442079262903, 1022.8756805919081, 1000.6125737992841, 1013.9613925897013, 999.2711247429527, 1007.5403662181378, 1031.9645793440868, 986.7343873095755, 979.8302665634792, 1005.0727840943989, 1009.9896374111313, 1017.610301111692, 1015.7786266495801, 1026.2286856542623, 991.5983096472442, 998.5432994689572, 1002.839478649744, 1010.8683534711415, 992.2443870040439, 1010.809412301975, 1011.9738951897652, 1006.1225597749644, 1008.8636660659523, 997.4693091731915, 1006.7072050793107, 996.395994109788, 1002.5641595877097, 1013.3260196850036, 1004.6397474312381, 1011.8011820567183, 987.2255585208775, 1024.3537458830515, 996.8274847413759, 1017.2473096017794, 1002.8847595536824, 1028.9355981481801, 997.6077830755545, 1001.9812515725757, 1020.944267086653, 1020.7217080170437, 1021.1946432666692, 1018.6979170193681, 993.7137734701166, 1019.1585268409755, 1020.2059104482065, 995.0549949284514, 1002.4688434726922, 1019.3300264908286, 1017.598565819933, 997.2780780137427, 1001.5019380383251, 1012.2117005671009, 993.6637044016788, 1014.5196654813932, 1017.1868796692692, 1009.6301411435367, 1028.320252277232, 1014.8052763309794, 1011.39274749918, 1019.3829961418068, 1008.029844187822, 1022.0512362751273, 1014.0546920291129, 1027.0456171245087, 1017.7875573326406, 1000.3059907857719, 1020.6373134620553, 1004.9520147604655, 997.2825603776048, 994.4385883575518, 1021.8372708197364, 1010.1206378617119, 1007.6067793938608, 1028.0117341898103, 997.6502381962326, 1009.4789915956653, 1009.3470123306945, 1029.7064687380564, 1019.3321718997265, 1010.7586929426811, 1017.0619936703447, 1004.9005670966429, 1008.9556580948051, 1002.4105408222041, 994.5367448398267, 1003.2908649328168, 1014.7058097495297, 1019.5388891858654, 996.9494195550699, 1023.4039823794498, 981.35247055624, 1013.1544873781063, 1013.0986639086442, 1020.8327025102678, 1003.4230813107772, 1027.5039711190423, 1000.4234913384859, 1023.4622761878019, 999.7146582277948, 1021.9980703050772, 1012.022221516211, 993.9020156383467, 1005.6659070014182, 998.229895029536, 1017.8756206012221, 1017.845091824478, 1013.0506865563752, 1002.9975563423887, 1019.0391164766739, 1002.0335896414772, 1020.9253283319375, 991.7347608605534, 1005.6862854407643, 1009.0307883198644, 1000.8574773257519, 1014.8906870622302, 1006.1175085030853, 1015.2906587165601, 995.8308877986922, 1012.5632102721505, 990.3292585204271, 1015.5816497610678, 1015.570503144819, 997.5565433920667, 1006.3751215101116, 1001.5973529207992, 992.6686244114484, 996.6525697102801, 998.9978352699527, 1022.6315134011087, 1005.7586543096179, 989.8680208732392, 999.8237253442409, 1004.2422193731824, 1012.4034691314315, 995.0187591989696, 1017.0071324912467, 1023.7470450454463, 1007.5055861534227, 1000.9084116293506, 1027.9313603376304, 996.3380607181324, 1018.3589909842259, 977.9018422772651, 1027.187221486853, 1029.050222313325, 1012.4915918158524, 1023.1072388234677, 1014.1369570167211, 1016.5612852084639, 986.7252553347845, 1015.7495709961831, 1018.7252805387993, 1008.8265380615917, 1006.3226851027689, 999.7710631900745, 1018.6042200754647, 1021.0509313366459, 997.9126176825588, 1013.9730446518697, 1020.8042247247458, 1012.4574807279826, 1015.1231197042518, 1017.3360315698344, 988.6746998440839, 1000.7550073633247, 1010.4253449911001, 1004.0195471176361, 1020.6220277241324, 1026.8682301215338, 1007.9888771864952, 1016.7185411538419, 1006.3158034429111, 988.2425624833886, 1015.1379040507411, 1019.4028473744835, 998.1396986270928, 1010.384754722225, 1014.5155829729878, 998.2618938162381, 1019.8962042426987, 1007.3586924564424, 1000.6342393665551, 1005.21827330869, 1024.3078595254092, 995.069291483104, 1027.8961960956906, 1006.9505198512117, 1007.6677406015634, 1012.1511772036803, 1020.9978450068907, 994.0709500854407, 1015.3434534039302, 1018.591025160472, 1005.0627237579071, 1024.575035412758, 1017.7187403518277, 1014.7844938233895, 990.550860034707, 1004.1525953735812, 987.4321919736158, 1014.2054341129793, 1004.936575636178, 1011.1234161642948, 1014.9482992345537, 1015.3994709517344, 1003.6361909014245, 995.6160126841972, 980.9741635795287, 1005.6452859880351, 1003.471101708897, 1011.0920766792723, 1004.7269729583113, 1018.9045164483312, 1013.601854144488, 996.7320446734791, 989.9473518335293, 1021.674635805017, 1000.8084882709134, 1000.9066622717992, 1015.9535495369408, 1009.7333172093602, 1026.1864980133896, 1000.6470836016902, 1015.4660291131297, 992.956704926707, 991.0926412984354, 1009.7605873996667, 1001.7688815729866, 1015.6133962819171, 988.5098094935552, 1001.2672931309205, 1009.3899304221939, 989.4179365509711, 1015.9329788926218, 1003.6080397651531, 1012.4818724883193, 993.8878525341748, 1020.4704058624924, 1007.3616169105592, 990.4171246368287, 1027.3988060282156, 1030.6259946828197, 995.6185054104651, 999.8375879060939, 1004.2217436316396, 1013.6065264236531, 1006.0532459005414, 1022.9531170040477, 987.8373219396916, 1023.1839652196614, 1019.94086196667, 997.846718724026, 1016.6173385410724, 1003.3426832029241, 1026.0932068776895, 994.488339935934, 1031.4724356071422, 1014.4193132500618, 996.4029966140781, 1000.9588965929842, 1016.3980249192391, 1030.8426574081511, 1001.4540699757538, 997.1126050068063, 986.8568372014234, 1013.343052420992, 1014.4517265313532, 1021.8793791307869, 1005.8919458154171, 1004.6844101266117, 1019.8999263806622, 1025.496959095209, 1015.5773472684691, 1008.9765222247914, 1017.1970932663523, 1008.6848037609036, 1027.0482009031655, 1013.1642661595984, 1015.5000920425266, 1019.7048672135209]\n",
      "4\n",
      "[1011.657793978846, 1009.0143287266793, 1000.5811394523521, 1004.1292464237696, 1005.1049153146274, 993.8096169004992, 1007.8850850640044, 998.851613596865, 1008.1392079929296, 990.6347077399705, 1015.5251721526919, 1007.2570827121889, 1004.2348216374658, 1013.6676875395747, 1002.6947995654075, 1008.2127079096801, 1021.2591516565958, 1019.8298859206419, 1009.4910489634582, 1010.5265137227158, 1005.4169733504392, 1027.3889061769733, 1006.1968180006619, 1008.2669736884683, 1013.4473407591402, 1007.5587547490011, 1017.1867955241394, 1021.752361418057, 1001.5052821672832, 1006.3010610585617, 1015.3442085325479, 1013.4086355159292, 1006.8562525503047, 1009.5772591342541, 1002.7904767765541, 1004.1583135162916, 1017.8723545846724, 1029.2463358914104, 1009.2301673137968, 1012.9083088634102, 1019.6564405536797, 1001.0138674883331, 994.9880159808863, 1008.5957891470476, 1007.9036124981633, 1009.7217301187206, 1017.3059907281444, 1031.9842412864823, 1017.5277976753432, 1011.6935980654526, 1023.235675204092, 1019.4851762664656, 1015.3334592582455, 1015.2401675189925, 997.6090801739176, 1011.7661218792052, 1008.4635851872215, 998.1401536009438, 1020.6372979401327, 1007.2172857988628, 1006.9288827848283, 1018.4142888578706, 1005.2288523311431, 1002.0088468487841, 1014.6967130434031, 1007.7095291100584, 1021.5068679743215, 1015.2552256532626, 1005.0847177377184, 992.6871897495845, 1013.8155367425452, 1006.429698749565, 1015.7674615650858, 1015.510654991317, 996.5336210903417, 996.3916506344417, 1003.6465958148876, 1017.4590267625277, 1007.3772727111254, 1016.4215138926202, 1030.670398681784, 1012.9330088788847, 1015.1614903585698, 1002.3146767962246, 1017.3663732843936, 1006.9097335216874, 1007.9308180363595, 1014.6944077691959, 1016.7617242629475, 1005.6362798440038, 1003.5803330153681, 1023.5585908443293, 1010.92913707135, 1006.081152119181, 1014.9098840970352, 998.1374319621193, 1009.7145013799625, 1004.9151244367621, 1020.7056208027119, 1002.3657423724881, 993.9686029054564, 1017.2206536484036, 1002.5938006404447, 1016.1511440183394, 1011.6288052977462, 1009.6862281818738, 1018.684466287232, 1021.6175258006684, 1026.1746254779264, 1005.8655953557598, 1012.0118742335943, 1010.8619034887761, 1003.5034707979796, 999.2322725422385, 1033.1665240364136, 1014.4700546119673, 1024.1265697225833, 1008.8284007573708, 1016.7140553787634, 1010.0986781797632, 1010.2293831421398, 1001.7705386945403, 1001.7288446045994, 1006.9212264937352, 1007.5419236696761, 1019.0932141422793, 1006.641231472206, 1014.7368178475165, 1017.9212989025957, 1003.1614643753398, 991.8469620324287, 1019.0990373243844, 1008.4483141598721, 1017.4922290303736, 1017.4187316204285, 995.8366339805241, 1014.5499288520908, 1012.8818297648431, 1003.4556325921725, 997.3923722290135, 1018.8290751004034, 1007.2826187310617, 1015.7674336945379, 1006.3617349242526, 1006.7064985833641, 995.7887033870273, 1018.4948890490035, 1001.4459584629593, 1004.5604557448167, 1003.1737095286245, 1018.0308817267172, 1018.9374816384069, 1009.2342927420231, 1017.4762083455644, 1007.2641811028902, 999.2622135427254, 1013.654303352008, 1001.7560475344512, 1011.2522759001322, 1021.66909282076, 1001.5759787741158, 1003.8804640846074, 1005.2588926275431, 1006.1039210270966, 1009.1353718345131, 1000.659302886743, 1005.4403858696079, 1007.6463454958429, 1005.3738674064745, 1010.0003294696887, 1010.463041975421, 1013.2025800338025, 1024.7455200948723, 1013.7049459555834, 1003.0207453490221, 1031.0733151498375, 1007.4221012675646, 1011.5606934657762, 1001.4301904463065, 1002.0867997426069, 994.1501169857629, 1017.2113275367562, 997.3407292693046, 1002.802357782033, 1011.6289403635319, 997.3704562460159, 993.1024447914267, 1009.344256968599, 1014.9744022786934, 1001.8577220435628, 1017.0851951015666, 1011.824200662765, 1012.420739917662, 1000.8873568177031, 1018.0112326307603, 1013.1232386172012, 1012.8223619821777, 1007.1026909687401, 1008.5573445707416, 1008.7827843627429, 1023.5584690624482, 999.0112631534687, 997.5959643463434, 1010.8483992003879, 1010.1760987472811, 1011.9162793428836, 1020.2928281674534, 1013.254242682798, 1005.1583483234846, 1025.807063176466, 1013.3557233407626, 1009.9190099837392, 1028.8850554975306, 1020.0397904479438, 1002.0161737847548, 1010.7795002878322, 1014.3607926946189, 1024.7403673239573, 1008.0877325560199, 1018.6902171757611, 1024.3833488690143, 1008.21918626069, 1005.9735863615927, 1021.5740286730587, 1022.5418964439154, 1007.7395422557697, 1011.3679359583845, 1010.0255775971065, 1009.9345794965195, 1019.3388349899199, 1010.5610302078376, 999.9501171994342, 1005.7620542568675, 1012.3904856980288, 1014.1100504115528, 1008.5345965481596, 1010.0850531313404, 1021.1569841424281, 997.3916799636283, 1008.2066404730119, 1016.8363210153789, 1015.6990320781861, 1015.5309577911636, 1021.8478473458431, 1007.4577258490856, 1000.0244618833175, 1011.7797304867804, 1000.462325738924, 1022.2099761156154, 1028.478374939542, 1021.1411355323637, 1011.7396889393218, 1019.4860439880435, 1001.5023946097294, 1006.1728192666345, 1029.4538441064583, 1017.9853368399374, 1008.9189491391104, 1015.5162541213183, 1025.6833764138798, 1014.0700670084532, 1010.136781204567, 999.9706980293214, 1020.6523976029234, 1015.4133262324933, 1009.8524132779337, 1011.376221037951, 1000.5797061799282, 1011.0507915805329, 1000.9620363093771, 1011.2557503270759, 1016.2071779238727, 1025.3827300199605, 1017.7443412564319, 1009.3518476087211, 997.9397603819486, 1003.9649819440302, 1009.4096533401909, 1016.4422756057587, 987.8577091242764, 1007.9323747051249, 1017.5748373288745, 1000.1114044715874, 1007.4738391013914, 1013.8478212768246, 1007.1063974055427, 1013.2949219015604, 1014.4413308310375, 992.8503944344903, 997.3879044949177, 1004.6745143784044, 1017.7901165403637, 1017.4802358934087, 1019.0481418139038, 1014.8901275872399, 1008.7343494555397, 1012.8234711244596, 1022.785476105093, 992.753557294276, 1002.7004295100385, 992.953033394257, 994.6852760090296, 993.7619958435273, 1008.9322317576972, 1007.5473308183996, 1013.0137791603441, 1016.6847326623578, 1018.9900636992372, 1004.1131431187428, 1016.3154838129923, 998.614561375532, 1004.7499035322733, 1018.9105912174863, 1010.0278126889202, 1011.7262581165261, 1017.7797930432213, 1004.9448086818533, 1001.6408449211895, 1013.166105319386, 1009.5072498375532, 1008.7802685526385, 1012.8524755873206, 1015.4008475597491, 1013.6188002815082, 1005.895883316664, 1008.7645530216396, 1007.4438303415938, 1014.1697986853563, 1010.9780784451253, 1014.362030915104, 1016.8387495004138, 1004.7532308118622, 1017.5813749691531, 1004.8528501834577, 1026.363588147598, 1009.512520893094, 997.0561693353324, 1019.8261977751889, 999.6091418423355, 1007.8645768390985, 1011.6990656896232, 1002.0535131036877, 1011.0412777594557, 999.3413209132743, 1006.0576155844631, 1011.5805262374563, 1010.1967274397947, 1014.2624885705144, 1005.3386096037933, 993.1115635209131, 1013.049907451953, 999.0721827261418, 1024.0041239144416, 1023.9450679936483, 1017.636527390313, 1000.6668725525045, 1005.052894240255, 1014.8994161259161, 1010.5044300714185, 1005.5918748333829, 1002.1642213742955, 1013.419564405418, 1007.3412808521252, 997.6121556741584, 1013.0347591919226, 1021.4866788964478, 1012.3295311442789, 1003.1935580280549, 1011.0290372834426, 1009.5903267258351, 1008.7761434579922, 986.951711028561, 1016.0405371573988, 998.7499112947198, 1008.459880716667, 1010.7599296548952, 1010.262158499446, 1020.9970726639349, 1007.8372496527472, 1018.2764570742119, 1029.4322830986125, 1012.6493710312849, 998.2225469804948, 1008.6386238371643, 1013.0529726459068, 1004.1899824212632, 1002.1854961864839, 1003.349453578534, 998.5899367060268, 1020.539247396889, 1014.8261864622018, 1011.6414457649485, 1020.3484416387982, 1018.681039807086, 1002.9400202081299, 1017.7406775032689, 1009.0265220281835, 1009.1155579964762, 1000.62619695758, 1013.8002908686442, 1013.578250217925, 1013.2369471854702, 1002.9590645751771]\n",
      "5\n",
      "[1005.884433834059, 998.8226110738101, 1021.9867268212762, 1012.012814766537, 1008.7230414014191, 1002.4269480932082, 1005.5029419599026, 1008.3957694303276, 1006.334370830377, 1008.3542436557516, 1002.0309681925007, 1002.4765632195795, 1001.3459975105033, 1004.2751402056379, 995.8619953212267, 997.3994615685599, 1014.0179007094813, 999.6728933542336, 1027.2084452395375, 1006.1603436317885, 1011.9507672848621, 1025.6921940225761, 1011.9250623898744, 998.6179099249987, 1019.1043336959452, 1008.7677650526846, 1019.1331890488962, 1006.7682224970525, 1016.1302448884358, 1015.7346719019778, 1013.7217442357021, 1012.1528986850338, 994.4858585828406, 1018.1559679172943, 1023.8375540159595, 1009.9833549234548, 1014.9077387201393, 997.2483462396343, 1005.822485155243, 996.1667573749531, 1010.407033901705, 1007.1074310832377, 1007.005106594558, 1019.9897557090438, 984.912268926048, 1005.6775936411176, 1019.962095504505, 1001.4073316636957, 1013.8203486509643, 1009.3122964265219, 1007.146428890796, 1009.9749778336312, 993.4290667230782, 1026.8894548263158, 1009.5738135693756, 999.0682432491244, 1021.1537490648136, 1010.2023520140547, 998.515304529547, 1008.7263228693637, 1007.3381210407488, 1007.5579091057407, 1033.6371450209838, 1024.9864147372077, 1008.8191869573053, 1002.5294572333629, 1001.8485787603623, 1007.6384525609266, 1012.5901441700923, 1012.1961029839221, 996.0665645258144, 1001.1556053351703, 1000.3969065973841, 1001.7383375143037, 1008.8562599301566, 1022.2111399073785, 1012.527971298867, 1007.9353090088591, 1020.0069258025475, 991.6072408128016, 1009.9236340621319, 1004.9178441281415, 1011.4645370204082, 1019.800525594173, 1008.1136671557803, 1016.0222894695904, 1001.6398559933383, 1013.6340136433245, 1017.9765190437791, 1019.0758897295109, 1011.4958996050227, 1023.6798190350498, 1018.5206870436712, 1000.9665382000411, 993.3424569532345, 1006.3662250538333, 1012.6282274294448, 989.1658072373123, 993.422126620063, 1003.6146151358156, 1013.29313699413, 1007.7518997970433, 1002.2763223723762, 1009.9512434621402, 993.1088359137774, 1012.749107259089, 1011.780010155456, 1003.2995532242686, 1032.592601287198, 1013.6969598320718, 1007.5040225486362, 1021.0185131011, 1012.4705589166175, 1019.7424310074722, 1019.3923448939452, 1006.1710344599652, 1001.1921546396401, 1004.4405367185283, 1001.4372293959544, 998.186229411873, 1012.9257648181652, 1014.7692227938694, 1018.8825552865154, 1016.6687633932302, 1004.7733541943356, 1017.4934208359876, 1004.9726389262954, 1021.4125938065279, 1000.8982247023926, 1011.6949063276006, 1005.5112994748058, 997.0908226762951, 1005.4612691853806, 1016.5291280689457, 1017.035625308675, 1018.0107406130043, 1013.6058859173943, 1008.6613343858934, 1004.5299707274022, 1005.6086655606849, 1015.888863126189, 1008.673235700374, 1014.5231010421546, 1020.127469644237, 1013.1673827097856, 1011.4328881859616, 1001.2214719808896, 1016.0261834956175, 998.6792822920985, 1015.5771362945021, 997.5004352070042, 1009.6940787597881, 1004.5993321576352, 1022.1615611254988, 1011.3414746598899, 1000.5125206970351, 996.8946138214369, 1010.3818697167287, 994.6402895108455, 1002.7120055091016, 1005.9344951243887, 1014.314700610368, 1015.4092062315266, 998.7189617424252, 1010.9736931700457, 1009.2024204923684, 1004.7133532696262, 1016.1064665901514, 1010.245143488448, 1002.223673581726, 1016.1499956172695, 991.6206369705778, 1009.2756323451385, 1008.4845421344143, 1009.3699634023624, 1016.408351941628, 1019.6546174540131, 1009.1366315511609, 1009.3329565909548, 1014.0164430896276, 1011.7653693100308, 1023.1733872712131, 1012.1750678530542, 1009.0684137653543, 1025.9872145360694, 1007.1855920619909, 1021.1045234962804, 1012.9151925840688, 1011.3626126608358, 1009.9783226686852, 1001.56443882241, 1015.7573364776933, 1026.1495441151292, 1011.7747089896055, 1008.8066744335775, 990.9435594969614, 1007.6805344746934, 1007.4450721193881, 1008.3127462073112, 1017.3083948796386, 1014.8219324279397, 1015.621438451396, 1010.2648489032878, 1015.4862408131502, 1012.825688519882, 1022.3676562479108, 1014.1802336573635, 1006.044987260041, 1009.1135834921605, 1000.1546462063578, 1005.7131207144654, 1011.3931901932443, 1008.812658379159, 1012.7581261831388, 1010.2422861002029, 1005.8607399223026, 1004.9151818935165, 1021.8647104840832, 994.1743296219173, 1009.3093214904078, 1003.6530619895293, 1016.2271174143306, 1014.8340884782123, 1011.7063190496112, 1008.3187035242782, 1017.0289052220031, 1017.0705131943212, 1009.9384857811624, 1023.1212021780279, 1022.2105906626672, 1002.7354506683326, 1010.1613880959674, 1012.6278304662386, 1006.7257454931238, 999.2053752571911, 1010.6172768000488, 1014.9113120382885, 1005.0029300095277, 1010.4019462684693, 1009.690280412886, 1009.6081690703983, 992.7333549140573, 1008.759613953441, 1006.8232214825526, 1002.1707770115843, 1011.0316442242448, 1007.4935207745618, 997.2272441871339, 1019.2267037527571, 993.7608846264048, 992.9356660381508, 1012.3194451526797, 1021.1626061413962, 1014.0912009579904, 1009.6718567786095, 1002.5096042704371, 1018.5954567378175, 998.5210129773229, 1012.4238321411726, 1024.499933744481, 1017.0135802591684, 994.1239030587021, 1003.2089367070964, 1004.2871964592285, 1010.8227852599765, 1002.9147135654814, 994.6198355658709, 1009.8264837854399, 1006.0169674346396, 1006.9013934385393, 1021.0419145915995, 1022.4337835756648, 1005.5655562216493, 994.9852817924649, 1009.7593039341098, 1008.3402841503315, 1010.96972676022, 1006.3694711247618, 1006.5758555775004, 997.7926791519726, 1021.1608963656121, 990.8447800833729, 1012.3337455477304, 1003.0882964331117, 1008.9186928498203, 1018.2820744578594, 1010.2042882159611, 1011.9738100474069, 1014.6316719039324, 1018.951657896111, 1012.8782680722974, 1010.0752963185653, 1009.2725154245663, 998.2233240705896, 997.1282874485623, 1005.9309910910762, 1010.778051357862, 1006.7931061801922, 1032.6806461274057, 1011.2670449331647, 1023.0243410458407, 1006.2421920047904, 1031.3814421600584, 1014.9582859219314, 1021.0444007129739, 1020.8388396580756, 999.939609691572, 996.51457270594, 1003.7313787410202, 1010.4071464803166, 1010.6943014375659, 991.7977057895367, 1009.9943860907982, 1022.4957506174017, 998.1532145235626, 1009.5059397376499, 1022.8329807340818, 1000.0375757317327, 1011.3101552644838, 1016.3852294008797, 1005.7362003503954, 1000.3530642601796, 1004.756228877177, 1020.4530329682275, 1002.0063357457127, 1007.9542972532153, 1005.1761041112684, 1005.9659386688146, 998.7121149744212, 1025.437619538553, 1013.9351613780199, 1017.3266184161415, 1016.9270693317374, 1015.5369909946958, 1006.5012871032953, 1011.5192986536949, 1003.3728818751289, 1005.7404211868859, 1007.5672740716104, 1021.2011146667279, 1014.7792058408124, 1011.2230477093331, 1013.2117055252868, 1018.5708424178816, 1027.3095692727077, 1018.8722862414077, 1013.2501012415426, 999.5986148478714, 1005.5825140785726, 1012.6998140133945, 1000.980031452678, 1025.056878900829, 1006.7976065584528, 1006.3669965244909, 994.7395111804499, 1002.4709771198374, 1013.7255803152844, 1018.7426982866548, 1003.4686398015779, 1017.4598664681242, 998.4840871002048, 1020.7117188059095, 1012.8780954670023, 1015.377435274005, 1000.6815019760056, 999.2328217859284, 1015.5042684044681, 1008.14308803839, 1020.4550527677858, 992.0611162183549, 1012.721848767209, 1019.7889808846942, 996.9609776291137, 1024.4883134475022, 989.8486370671036, 1011.100231863975, 1011.2092055165328, 1005.0936595107997, 1028.5088740631188, 1000.0522853548384, 1012.6960899994083, 1014.3289631876344, 1005.7111268349486, 1008.3990023449019, 1003.2492809524097, 1007.2305191493397, 1005.8455780024063, 993.7759514225778, 992.6617047894318, 1018.7488755078264]\n",
      "6\n",
      "[1019.5573708332664, 1001.0252057768176, 1008.5933531672322, 998.0253230883627, 1003.1915059919371, 1004.120018646197, 1025.2717975135101, 1004.5788178300824, 1009.1719112579573, 1013.6438208793171, 1014.3559113431875, 1004.9216758726042, 994.6673562848387, 1005.4684446489028, 1021.0124665153742, 998.9180738609534, 1008.9049783566846, 1026.236403500491, 1004.2646369453856, 1002.8783100481634, 1026.4246000022563, 996.2182673784293, 1008.6603310549098, 1012.5326070371301, 1007.1839989987194, 1014.3633618454456, 1017.5946031041536, 1008.8242126490717, 1011.7027233199067, 1007.1161493366595, 1009.1927907454385, 998.8562408842079, 1005.2636067132333, 1007.5319124832545, 1013.9838934088756, 995.3084204384818, 1009.1174846589349, 1004.2357495785382, 1004.2309136566099, 1011.5100987460758, 1003.2350004419357, 1012.5565945945914, 1019.6111271746335, 1006.8092974688434, 1005.2835170885493, 997.063734318328, 1012.3248093765379, 1012.2417083062547, 1013.8534441924508, 1014.3120553760987, 1015.74119644769, 1009.3299655467148, 1010.1626876964857, 1018.651449323676, 998.2593877230611, 1010.5471963848914, 1013.4454973357301, 1013.3565020042723, 1001.7339059261482, 1009.4530348899251, 1008.2506860088091, 995.4607359722179, 1007.7959691863567, 1019.9498555357858, 1010.2319526894374, 1014.6439712083738, 1012.0074718093953, 989.9385120895633, 1009.6039041440109, 1008.7830831278624, 1016.8562677426623, 998.508373010436, 1008.5802351340865, 1008.032094121337, 1009.6753464222343, 1003.131636296899, 1007.3589721609369, 1012.1265824455636, 1006.9235129151393, 1005.0653907821077, 1017.3444827070356, 1016.0933160840196, 1011.533304673213, 1006.9355414766371, 1011.5045487751164, 1008.3672593253183, 1013.9078027301969, 997.7823816231011, 1001.6083903966829, 1013.4550206879891, 1004.6840974729977, 1010.4876917354011, 1015.7503623384333, 1001.095419334181, 1007.9572640489357, 1010.5113707737163, 1005.6359166610005, 1015.7763868803181, 1013.7738458805424, 1024.5392553448435, 997.3374879976927, 1005.5927555998467, 994.3539090042202, 1007.1566518128114, 1013.1773824945884, 1012.9553677880955, 1004.371876653517, 1027.270547697457, 998.3260174760684, 1005.1260111006229, 1011.4722970194287, 993.0764465234283, 1014.1834557634919, 1019.0750008618505, 1001.8044452708012, 1014.574520284044, 1009.9951291679782, 1004.799555855071, 1008.6757894470511, 1002.0926394453841, 1005.5485410997857, 1002.428224518601, 983.9465216468936, 1013.9467716650024, 994.8430377032801, 997.3523233708441, 992.6954211322857, 1007.670003899696, 1000.3647267130839, 1011.4690173204174, 996.4164831491194, 1017.1724941992454, 1009.0903535826636, 1000.5032807414079, 1011.2447840521207, 1008.6932867510616, 1000.5231564661833, 1009.869620124591, 1007.8809302698162, 1005.7280543306468, 1012.2129820735589, 1006.5615464932501, 1006.4651947851379, 1007.2174744763855, 1002.8253837004701, 1011.5129454941434, 995.9407698030568, 1003.0587967818815, 990.4585416070951, 1028.7712391554405, 1014.6876467815978, 1019.7980430422882, 1010.554198065438, 998.428799569188, 996.2428222219962, 1000.3134058232854, 1006.2382822305675, 1017.25863923138, 1014.3113380087422, 1003.4481353720413, 1005.6128874384309, 1002.6047948974134, 996.3901130496647, 1015.8833552866702, 1012.3489142798041, 1018.6963068461183, 1012.623105831787, 1000.6352374851763, 1002.187390216155, 1010.2941636255772, 998.7373962668743, 1001.5585712911735, 1004.4955146328232, 1009.0050352743849, 1016.3588417299472, 1016.9389412383524, 1009.8847067992547, 1001.4485193483569, 1003.8675021646285, 1003.4529651842256, 1018.8259900908309, 1006.1791523641771, 1001.4053338026193, 1013.3383728762085, 1006.2104621895635, 1003.9217034880916, 1002.7869691130021, 1003.2339916353245, 1001.5645103091671, 1005.919300043003, 1012.7002952793204, 1012.6845428887187, 1003.7199274445176, 1012.915530087882, 998.0052069775697, 990.6229180412673, 1023.3110185547802, 1022.2329376994746, 986.9441761108845, 1009.9142132212694, 991.4534939917623, 1023.2208004047562, 1008.0146209998235, 1024.584961449245, 994.6128178412932, 1002.0108743191853, 1018.749177675155, 1017.2000638915683, 1005.8945565093151, 1004.1143231128492, 1002.0668792282257, 1013.2389741370229, 993.7454110583925, 999.7770105482426, 1009.3717559651465, 1007.6582446327569, 1002.7025916954289, 1013.3178750414534, 1003.2910698613475, 990.6600705329139, 1013.8945657733544, 1005.6356172200149, 1011.2095979363328, 1008.3033874024068, 1025.8993414667627, 1001.4718447251133, 991.1937103577069, 1006.209760396097, 1004.7337303152012, 1006.3548823345823, 1009.2329086216693, 1011.6801181981649, 1006.1691263867108, 1020.5483675604759, 999.648440968973, 1002.0081374288643, 1011.7416502154457, 1001.5217203209135, 1003.1151413462748, 1016.1883064548188, 1009.1828119303808, 1014.7545375539299, 999.9023370996096, 1010.6451924700611, 1011.0552355097191, 1004.5817307957332, 1009.8376967247723, 999.183984584332, 1014.3449399962628, 1008.8240223464142, 1024.844667169272, 993.5606737506606, 1015.6325171987565, 1006.6753762922261, 1006.2635370978827, 1003.3585229699984, 1010.0176883973168, 1007.2562753112227, 998.9698048446919, 1012.9940987022875, 1017.1573774071062, 1011.7094131719282, 990.4366204127298, 1010.9300122966332, 1012.1758618487615, 1011.2635826649474, 1009.6740814060456, 1006.1672656021939, 1007.5280205455244, 1008.9778567752276, 1010.8201975862231, 1002.1023866657627, 1020.7351994216115, 1020.6353886272494, 1015.958827839171, 1014.5372821535491, 997.7581597033475, 1012.6718837561795, 1015.2146666768786, 1009.6518902443481, 1005.6650862877788, 1009.591625976952, 1001.7087301914815, 995.7799928670747, 1017.4048477480429, 1020.1930377897331, 1010.82256277001, 992.1371400549386, 1018.5665285270919, 1015.8487188047666, 1007.9173520387328, 1005.0721152190689, 1010.048034329021, 1007.9836370724547, 1005.9053345008326, 1009.7680836054706, 996.6456343469463, 1007.0072903862877, 995.1554552097263, 997.1537618061453, 999.7273824825846, 999.3500058604245, 1017.2806370239152, 989.2660124575955, 1017.2870334427987, 996.6215085601701, 1003.3288375493332, 1018.3688323620089, 1011.013446581272, 1012.2239737058837, 999.8387017039322, 1004.5080605250026, 1009.3836411428853, 1008.4728675880991, 1002.2991458422483, 1012.093624344811, 1017.727262957233, 1005.808917642119, 1000.1079732187827, 1003.0898672773087, 1006.8509672885018, 1011.4781826311071, 1015.9684835480022, 1014.6010164880186, 995.292904560719, 1018.0907117804434, 1020.4522198059057, 1004.8200580732184, 1004.5672229314262, 1004.9179648006583, 1009.1554734697545, 1008.9768201422926, 1011.6587123384811, 1002.2358110553805, 1012.7969013710407, 1019.571648857383, 1012.4951631880805, 1013.1234128530308, 1017.8618339039142, 1011.1645966710792, 1009.3182357161953, 1007.4432829270597, 1008.8190471196122, 1016.8979157574456, 996.4367873569263, 988.6980809348453, 997.346096487157, 1015.7558779510667, 1000.4970241989904, 1010.4351307323728, 1023.3735467531419, 1009.3163842930865, 1023.3324989912891, 1009.9444428210786, 1000.7521591438443, 1008.4619090178483, 1003.1777399018424, 1006.9129857122359, 1005.5206330831178, 993.4123299533649, 1014.0047482869201, 998.2961858947176, 1015.6835158985093, 1008.1086244734024, 1016.0103690699248, 1008.440366257278, 1009.4710713689155, 1001.8662439068004, 1005.1842735542405, 1011.6442146817757, 999.045755571919, 1004.2348245094404, 1011.7450973280938, 1018.9585851796469, 1008.8400389913926, 999.6568138647415, 992.1454597917024, 1014.9688327319478, 1019.3095270959254, 1015.9548156559686, 1013.6601561470702, 1007.353692160866, 1019.1659156547462, 1005.7119370036052, 1004.6278346171569, 1015.6933907133695, 1019.3892685301336, 994.6925296665094, 1008.2146314587801, 1012.7259153635097, 1010.2845728863332, 1008.4420605364024, 999.1303578696222, 1009.392077255019, 1016.4807097896039, 1007.9757763505232, 1002.2460887132543, 1013.2912544288846, 982.9461128311472, 1009.2886563304215, 1004.0519850185282, 1009.5667081144793]\n",
      "7\n",
      "[1012.1415925025815, 1016.3364140400225, 1005.1614646693322, 1006.0488852247969, 1006.0525143844518, 1011.9620522256752, 1006.2341448805099, 1014.9456893281724, 1008.7877305933462, 1008.287059375777, 994.4615951486609, 1003.3455428721384, 1002.096419396651, 999.933780015965, 1002.940526500274, 1004.3750873554977, 1010.1098760839589, 994.9242966308401, 1002.8938892844815, 1014.7979746821662, 1007.4236693270376, 1010.8935792406234, 1009.9214286049788, 999.4510623236555, 995.9454124102399, 1008.214797149189, 1002.6673691593883, 998.3079419728854, 1013.4385123542162, 1017.888389252883, 1009.8627171790027, 1004.640880895038, 1004.9263679649501, 1007.85047773583, 998.4161956926338, 1004.6896855419327, 1008.7336870340918, 1010.2511920042905, 995.8286545098216, 1008.0189041322495, 1021.9132290500473, 998.7225625105791, 998.005564437041, 1005.6151508744683, 1001.7410295066263, 1012.8991466526132, 996.8893648631666, 1019.0973102399429, 1004.969475439109, 1020.3935763797837, 1005.9043478225763, 1010.9585993809203, 1013.0489242290707, 1000.6210160046106, 1002.7014343023864, 988.7083607353497, 1001.2944839347638, 1012.1979377649453, 992.406677263132, 1004.5974834146607, 993.2643332040899, 1012.3689123880076, 1016.6494219176167, 1012.0065379038945, 1012.9122291254197, 995.3691473665813, 1001.5115150498403, 1012.9142603859966, 1021.4949059821657, 1008.0571155356254, 998.7585754870167, 1019.8630321722692, 1008.46556382229, 1003.5413659437686, 1005.687398003267, 1011.3640076239099, 1004.740384846881, 1005.7717726175038, 1005.5132235619769, 1021.0349287504167, 1003.078313138123, 1000.6263029248969, 1007.0303280509605, 1009.1554839448987, 1013.4734040174947, 1009.9810761557375, 1012.4248793607095, 1014.9294356890199, 1015.009353938365, 1010.5191719741845, 993.9371931029999, 1000.5758157143216, 1012.2274725299261, 1006.3630487232658, 1009.7275010795953, 1002.1855718917295, 1016.7849019489643, 1008.6136338695452, 1012.3665128137256, 1006.652887395736, 1008.1028610357746, 1016.0005355237247, 1014.5006377884375, 1008.5885150110001, 1010.646727955231, 995.9435775350406, 1005.409519383211, 999.7855572863136, 1023.4146059482788, 993.280115713888, 1004.2885337389375, 1009.470013624241, 1008.7650537285325, 1012.8690062729045, 1003.013807295515, 1011.3895768357719, 1000.0962429511362, 1006.3948237340958, 1009.1464494359765, 1000.9484632823953, 1008.7449813414579, 1005.3618431488443, 1001.1031793472142, 1004.8330362596705, 1001.6814278831356, 1008.2090648458751, 1004.4776022127766, 1011.4681580114053, 1003.9023984586312, 1013.4683407305878, 994.1604741749779, 1009.0593317032825, 1017.4791819562993, 997.9715443172105, 1001.648250303358, 1015.9142403256752, 1012.3821162154185, 1008.7225044835156, 1008.9310204300718, 1004.6425258173242, 999.860994750599, 1012.6341570268098, 1010.149338815263, 999.1254397249479, 1010.5837466914327, 1009.440369093931, 1012.2085615065523, 1016.8132930692113, 1011.1835009864068, 1008.1016645085799, 1005.0741091921271, 1013.4129852268171, 1009.1745458901205, 1024.3931740422192, 1012.6753391175437, 996.1870646864261, 1017.1221034997968, 1011.5233659687274, 1010.613240952718, 1012.6998441072295, 1007.8621150503786, 1010.0961616905641, 1004.6715964327598, 1008.4471627267261, 1017.4588663406842, 1008.8327458904638, 1016.8684584882004, 1005.678607042324, 1014.2194670639286, 1004.1345994041942, 996.2803458473352, 989.1632242768956, 1000.1233711257044, 1011.6208919596145, 1009.4912886940757, 1002.332442144205, 1015.0054486391045, 1004.2360480236979, 1006.5827197335382, 1014.5862543471538, 1018.2156863338153, 1001.983784714513, 1011.5581221888372, 991.8093907973551, 1013.8160408746647, 1007.1691874507984, 1014.9002700676225, 1000.1321283145538, 996.6027163652592, 1005.6410491103926, 1004.610483315104, 999.1851472729973, 1006.3144484419076, 1000.4259227695511, 1007.8337748735496, 1000.5544265264001, 1010.0779361083004, 1011.3233916211625, 1002.6147510239122, 1009.9769323862124, 1016.7505601073167, 992.5160577484063, 1010.8593935915451, 1000.507907725411, 1011.6390915785058, 1007.0448319126103, 1002.6178908031635, 1020.1183246556191, 992.5724661808049, 1005.4796169713176, 1012.6348711906526, 1002.8840329475015, 999.1906471700921, 997.3455477542453, 998.3979595058839, 1004.4659015088564, 1003.2291830862144, 998.0062673616465, 1016.375487908025, 1012.9327543325489, 1001.3727468557141, 1005.9707765445037, 1015.3947434588948, 1011.0091855548868, 1012.5806228298354, 1013.2115005648568, 1015.4526529710481, 1016.7928965588551, 1021.7574417472009, 1006.6675921383633, 1009.4680221184981, 1007.4196109366632, 1011.2068295391866, 1011.1670455060138, 1012.9725672314397, 1003.7176571906109, 1000.6742316972777, 1003.5670026746722, 1002.253241355914, 1007.3304016012896, 1009.2833407249301, 1012.1689648250051, 1010.1948737943253, 996.7121474865096, 1009.0020959255169, 1007.3500647736046, 1010.3993727342082, 1001.0993424112947, 997.8301027810949, 1011.0764382147061, 1001.2631739931206, 1010.5410860390577, 1010.3046287943855, 1003.7235417861353, 1019.9831910905563, 1013.0808223344089, 1013.6553019358704, 1001.4263100650866, 1010.3039788474885, 996.694915533474, 1009.3194161775907, 997.1161248562213, 1012.510280288538, 1004.8630455327249, 1004.8501966576191, 1010.8284372629618, 996.9308899654897, 1002.6046474732349, 1007.8291273855498, 1001.5407660431368, 1008.7392553959027, 1002.5908421301349, 1008.1670659807261, 1008.4820277965268, 995.0630596207412, 1009.113902305613, 1005.7517004539623, 1006.9035923090391, 1021.654540481762, 1002.3773100124923, 997.7666915585617, 1015.9338105735428, 1012.7491083696943, 1010.4875900679029, 1010.8869967882952, 1005.5213621234191, 1000.0161685452615, 1021.6801691773705, 1007.1404771022214, 1007.5107321429672, 1014.1696065653314, 1002.7814862134009, 1004.2900369564617, 1011.5265183097971, 1008.9128562523784, 1006.6261596884418, 1009.9174160154747, 1004.8088373457416, 1024.8926392935136, 1013.2322337797182, 1006.548422523982, 1006.590806840033, 1012.6304272449739, 995.8949334228589, 1006.840368724829, 1015.446684642156, 1008.2134163345457, 1003.021952409525, 1003.011285184154, 996.825964978077, 1011.2892699926872, 1002.9153717860542, 999.8062158724413, 1001.8787571158206, 1009.5077100020308, 996.5757403920337, 996.9444470485631, 1000.4121520820391, 1008.210201542449, 998.8894189579665, 1022.2734313409179, 1003.6035874613224, 1014.1773130194035, 1010.3158351742184, 1007.4692265251059, 1008.4602183718055, 1016.0306692424558, 1002.6761044309262, 1015.9638457036057, 1016.154655693332, 996.5206912668344, 1004.2947192910661, 997.5686706412494, 1001.7498422084002, 1001.3819505109217, 1008.1310385699412, 1017.3168816428994, 1007.2552097002214, 1004.119564576335, 1012.9506272402782, 998.1529561275398, 1001.0630650447642, 1005.5264890838691, 1012.4293594113149, 992.4823506693641, 1007.3981499180272, 1002.0172553238039, 1004.7433301982213, 997.3430616280544, 986.6768682890887, 1007.1597548081983, 1020.9124013911905, 1000.9537801852388, 1014.8138419419986, 997.4628253810197, 992.1977956329508, 1021.2744370204126, 1011.6505627786646, 1007.6662601302701, 1011.6703668214042, 1003.0972207915249, 997.2454062040127, 1001.4029569769208, 1019.3936208734598, 1010.157381636129, 1001.4208169606043, 1006.3209534954358, 1006.0316331572018, 1005.2613181797379, 1019.4983893253632, 1005.109274069176, 991.9536767339682, 1012.8640251893161, 1008.172494344689, 1022.0120873349662, 1022.1792428044984, 1005.8526545674971, 1011.057591478677, 1015.9186965898485, 1003.7056321780774, 1016.5799302034612, 1017.9332179178606]\n",
      "8\n",
      "[1009.848582286622, 1010.8956215258909, 997.5332428811878, 1002.7669675179092, 1011.0983505908765, 1010.09106111765, 1003.8491410857074, 1017.3755354155542, 1012.6525028659515, 1010.270803231789, 1001.7744737830803, 998.6784057247902, 1017.8280097136715, 1005.8611332627, 1004.3710715533475, 998.9375378719517, 1006.3084289443227, 1012.8673313658988, 1006.9608523544689, 995.0568475285991, 1021.659456916285, 994.38858676091, 1027.5291478873226, 1005.1052252966699, 1008.2044028200239, 1017.6702313729309, 1005.5280388646714, 1010.8569542013558, 1022.6773094830035, 1003.6937666489191, 1029.5672325327753, 1021.1706532182199, 1013.6088267448193, 993.4146930426567, 991.0820122175327, 1010.1401651496856, 1008.9306156033608, 1021.3723404555427, 1011.9861116268391, 1006.8779958261367, 1025.5896425461333, 1028.699673227882, 996.0624804224766, 1005.1782372381806, 992.8124377405385, 990.3933292511765, 1023.518345581585, 1007.4650675309448, 989.8321869697907, 989.743171515239, 1019.370980788474, 1019.7028822120529, 1023.6497745446214, 1014.7141530517281, 1004.9564609879187, 1005.6388234409088, 1024.8024602492835, 1019.1777852635122, 1002.9890286291414, 1011.0315327587251, 1005.7959049359949, 996.3352085469868, 1015.5462671591146, 1005.0722523322638, 1017.3900819227557, 1011.5484498219581, 1018.3504643687105, 1008.4828728402873, 1014.9009495371749, 985.2410551922767, 1019.4440340478918, 996.7997178542803, 1006.4686141816903, 995.740835673071, 1009.0054813123163, 1017.2770622700575, 1006.8366192519846, 1001.0144546068698, 1004.0146471760778, 1005.6093065604217, 1000.0909026740547, 1011.1875245430888, 1011.5023327604691, 1022.9585940969479, 992.9487090751219, 1007.7848469715299, 1002.6593793389621, 1008.7889112943728, 1016.3223939161496, 1004.8027073659109, 1007.0511490791116, 999.0745026115603, 1013.4634969607237, 1011.312687020826, 1022.0145556096782, 1007.2925559294606, 991.0780371982594, 1009.8896160425637, 1011.296117142029, 1008.9415089684096, 1002.895219042629, 1022.1761575278459, 1002.762557922422, 1029.7022609743033, 1017.4616990412657, 1009.0651186833253, 1016.631474515679, 1004.3718704930769, 1013.5131783727562, 998.7262106790348, 1024.2584621924386, 1008.1464776615692, 1008.4117434235154, 1011.3371588971129, 1015.9147224774323, 997.5769202034228, 1017.2914428505374, 1005.4792895235036, 1000.6992018820848, 1010.618473807055, 1018.3423595314927, 1014.7249791761366, 1012.2346789972956, 1022.6365065399506, 1010.905844028316, 996.9859786975624, 1009.7703852471518, 1003.4823863576457, 1004.1662346286814, 989.2935561454806, 1009.9514271081854, 1019.771750245199, 1001.2907408660418, 1004.7142223840834, 1001.0622975238439, 991.0090729230941, 1003.5489197851508, 1012.7676815903361, 992.562981816886, 1007.8710691509956, 1014.8078755529044, 1017.8541226917222, 1013.5983619449262, 1016.7811872289406, 1015.7227148231285, 1004.1715895690278, 996.1261430888904, 1018.3551112794548, 1019.9495499097549, 1009.4750117291351, 995.9919723723508, 1017.0049214238246, 998.1675188534982, 1011.9491955787594, 1025.2988138372134, 1017.1184051346547, 1021.7347052330877, 998.8214637316809, 1023.7266780028501, 1003.7823746478379, 1018.4640938043444, 1015.6994725128025, 1002.3524259422563, 990.1794962707315, 1004.3621419933147, 1023.050259465472, 1004.9523063657074, 1016.5295373121164, 1003.8964496492225, 1001.8277397174626, 989.8897393956499, 991.5890259571152, 994.5298969577017, 993.755278502933, 984.1526397369356, 1010.754466266137, 1016.4440243592909, 1020.0671679901478, 1006.769661660565, 1020.2703531084256, 998.639431385184, 1015.9680492283965, 1017.3476240144333, 1019.35594745166, 1013.9576099513469, 1024.531686890021, 1010.630708335425, 1017.9816817178937, 987.3586433638343, 1009.330625639152, 995.7706551722202, 1005.4245373795826, 992.226772931311, 991.0401308537033, 997.3862453351579, 999.3301315206897, 1008.9745733732278, 1009.6730365112767, 1019.1803324195389, 1011.8083065442901, 1019.9715465678578, 999.7512532180733, 1010.1424961755566, 993.3368585221349, 1012.7882927599319, 1014.0298958656343, 994.9315013683652, 1026.984159057752, 997.451252226777, 1024.0043160482762, 1011.0561005698187, 1009.0138611450276, 999.1488236188762, 1001.3629436698535, 1003.1134416397088, 1029.2130924899977, 1022.6704999235801, 1015.3250104623062, 1024.9792922077886, 1027.6817457121147, 995.6147473747528, 1014.903828716073, 1009.9366329294852, 1003.2330387938896, 1015.7158006568496, 1025.9844042951331, 992.9295971345692, 1018.1339227103678, 1019.350989048266, 992.4822584969095, 990.5650948179261, 1020.3887187818776, 1027.7423993260136, 987.6788110052509, 1007.4788089114194, 987.4218519260046, 1018.8620819867014, 1006.9405720893874, 1024.4196407334202, 1008.9237937926109, 1012.9938809106866, 1017.5822340582381, 1016.591343569577, 1017.4276947496448, 1025.449673402067, 1001.5133604755483, 1012.4178669766617, 1026.3779955742089, 1030.4738063762234, 1002.20983582592, 996.2474916260223, 1010.7927576381551, 1017.2689554825937, 998.9271868288355, 998.322649951318, 1019.0350856428148, 1004.2046644017934, 1024.6854304705769, 1017.8763663080381, 1012.0806801129938, 1010.6820104096465, 1012.1400440042281, 993.3834634798087, 1034.4923846999116, 991.8814589307451, 1017.2770466761676, 1001.9972485896672, 1028.0599118842533, 1010.7704852867668, 1013.158915730449, 1017.8980253256938, 1019.3629657464754, 1010.1444788723916, 1011.6757392775697, 1017.0230081725194, 1006.1824944552316, 993.051763686679, 1011.6700496510643, 1014.2941332608981, 1026.961306757433, 1030.5185740595045, 1024.5934686491235, 1011.4748188628995, 1015.373940286582, 1029.0113184155266, 1013.0549763114133, 1003.6088866049175, 1015.6009467592506, 1002.0017065984844, 1024.021786048823, 1008.0575514864407, 1005.3605419363494, 1018.2169811262024, 1010.3050920222474, 1008.8771954072354, 1030.4657358010454, 1018.7739347686108, 1014.8325177177528, 1000.6883628978693, 1005.2129354832268, 1028.1612464172174, 1019.3323286539113, 1014.828718573819, 991.9499716951767, 1013.4047134847376, 993.1797625338788, 1009.5731736498755, 1020.776150137775, 1013.034563201104, 1022.6523970493032, 1009.9354173036425, 1000.4189862090337, 1013.057453361324, 996.6594896113695, 1011.8077966074109, 1028.5031664927076, 1019.0548435727251, 1016.927382075786, 1009.4061111815694, 1019.5250037129967, 1023.3369659707105, 1001.0428902033733, 1010.5900314390332, 1014.2779013910666, 990.0896463272251, 1018.3676986290752, 1027.7845595376682, 998.6803925962264, 1009.9442309746499, 1008.8517215517951, 1011.1763624900357, 1015.8009323524456, 1018.4178175039361, 1028.9428220575228, 1013.1456083170015, 991.5340893108373, 1020.5672489401712, 1011.4650898107019, 999.4029185459239, 1017.9051473727342, 1016.5856243081276, 1010.6627849930318, 1007.9448176534269, 1014.7011383850441, 1007.7146265045217, 1030.758018275407, 1007.5737486792493, 990.0457754096417, 996.3484823570494, 1031.6523666221735, 1011.0648378779356, 1002.012163184023, 1011.4823416460077, 1002.5607568304315, 1018.4092499623305, 1000.5987415737162, 1007.818357551516, 1015.2820640280428, 1013.905058103457, 1002.0132989256936, 991.8064214354201, 1020.1838760450164, 1020.8749869259073, 1024.619223698533, 1006.3522466483572, 1029.5983142162488, 1005.0410179350773, 1019.5269909670075, 987.347977562232, 1010.3638521573744, 1014.8832668760966, 1014.7979823900062, 989.1025367852062, 997.0288447639912, 993.5932555613008, 1022.5141878384588, 1023.7090278047402, 1019.9550711465512, 1020.0296734736403, 1000.0892978960736, 1022.1748640135589, 1012.813385432386, 1002.8291139156618, 1015.1912344632826, 1031.0005979791274, 1021.4494902637842, 1025.5892340495163, 1017.6792599220286]\n",
      "9\n",
      "[998.6978446492479, 1016.9809768454089, 998.2766197484771, 994.1749387009845, 989.7330719474182, 995.1212374764391, 1000.571130453758, 1022.705663961646, 995.6920564018037, 1011.7268842673616, 1023.874742190121, 982.5622692154672, 1020.7614835999592, 988.0874944398216, 1010.2154477022054, 1000.4165888170791, 1022.3056149565275, 988.0167871999608, 1002.9742851320376, 993.5875766616944, 994.911123421056, 1009.4256837754247, 1003.2550867015974, 985.3706057761381, 1014.8077927228697, 998.1719474795864, 1021.7269920226103, 996.3307414233377, 1001.1569712115005, 992.7156164291492, 1019.194399320425, 1024.6720967374824, 1019.8411276502334, 985.3823416633087, 995.3196627431336, 1003.2863238311713, 995.7909732764948, 999.3817055743681, 999.019694632098, 1007.8214634966799, 993.2526764043863, 1007.4382237466564, 1005.5468009637075, 1006.671181448162, 1019.0846511842207, 1004.5352695174678, 1012.5001622555284, 1008.6391686589462, 1009.6309329379457, 1007.3208369410092, 1020.8940199331995, 993.7627880150633, 999.8918666321248, 1014.1828505278099, 1008.4903118924304, 1018.8154524419831, 1021.7809961071134, 990.3733755132199, 1010.7580471941686, 1008.1680837291661, 986.5291124318724, 1024.1426444524254, 1000.5996980653603, 1020.009565564479, 998.6485866974845, 1001.6097212937699, 1016.1897897144747, 1008.8146419641942, 1009.2865148625381, 988.8067839475143, 1013.2261965806954, 1031.4595716896167, 996.2743597721179, 1002.5292614459852, 1005.8633973110606, 1014.1565534342858, 1015.1286468771966, 1013.2941829588929, 1031.8550886928801, 1016.2721919151428, 988.646982373002, 1024.5867016968953, 1015.5926574694939, 1005.2062198928754, 1018.2255197336401, 1014.3818287426668, 997.1545253407828, 1014.5775856897102, 1008.429312567863, 998.2432653627526, 1023.7235199472071, 1014.7643909538504, 997.7626138280649, 1010.8432909987498, 1016.6461089099786, 1006.0252440270098, 1021.9005495593208, 1012.0269272976498, 991.8683430612217, 1018.5084917267866, 1013.2859763853157, 1011.2731268160113, 1006.8881603773951, 1016.7447469451058, 1006.5586826964659, 1027.2135091018458, 1007.3900323075808, 1006.924598158656, 1018.3874601676089, 995.5022703814647, 1017.0088828372972, 1004.228534617099, 1012.1878036181673, 1017.6253364345158, 1021.0170833303921, 1000.9634392815434, 998.2050406409867, 1030.4874935039293, 996.0248506330661, 990.3357279404921, 1019.6614485207303, 991.7616684529704, 1017.353172240191, 1008.0310796482146, 990.4669985544238, 1000.0250586409978, 990.780206214304, 998.3800256635577, 1009.0032720207071, 997.3017472001552, 1005.698244332302, 997.7320203815138, 1006.0522485505767, 1010.3984186461463, 992.2480328495351, 1009.4078158845571, 1021.0970778828323, 1008.4615588932901, 1011.9356587737942, 1001.5284303170661, 1008.9645464465827, 1009.1292074875959, 1016.6332158019319, 1019.8630720846603, 997.3766412661037, 1023.5924289037117, 1006.1912375715928, 1002.0393898521969, 1013.366921066296, 1007.9692714527014, 999.3827703845362, 1017.4038568690261, 1011.1758223208961, 1021.2832563730782, 1004.3645574939659, 1004.6934434031238, 1015.3485028703518, 1005.2931264265286, 1025.9887343760586, 993.171191413866, 1021.7802011660715, 1007.5403617458833, 1015.248802820207, 993.7756710761157, 999.4946963441259, 1002.134767479157, 1018.0426114735733, 996.0203303989855, 988.610444488786, 1009.1202726022066, 998.7459248197497, 998.6420982859901, 996.5511847541931, 1007.59456257002, 996.5078430611236, 1005.307669239528, 1018.8262883107714, 1020.4713109690326, 1027.7824261698743, 998.2967563948995, 1014.0729972029826, 1004.9588690757524, 972.9952498446221, 1018.0502247964104, 996.7961541272574, 1003.0632769654652, 994.5035154895, 1000.5947848758091, 1007.1719454897946, 1000.8280088518969, 1021.0109388671965, 1003.0532085135455, 1006.629508296172, 989.6859763527765, 1007.0147748837653, 996.0478869231857, 999.933952167123, 1009.2568790516375, 1004.8809013427078, 978.831125360094, 1024.22698172748, 1008.4995089078681, 1013.9037585696963, 998.0956389305439, 1013.7303507633724, 1012.2037205186487, 1029.6560681686276, 1000.5622151803403, 1010.687800973471, 998.7812567424314, 1004.0890493928702, 1012.6399713830056, 984.2109999471131, 1021.742751878159, 1017.6304962271557, 989.9510551710946, 1024.2932247975407, 1011.8623594255236, 1009.9157410610343, 995.5591738867404, 985.9586858934958, 1011.2229746999578, 1004.380455472048, 1014.9071676691821, 1008.2627298204469, 1019.0448121731688, 1010.6391083964911, 996.403597581421, 1003.08087321257, 992.5156690130477, 1001.3118015788604, 1014.1728457189972, 1015.7406766204383, 1025.0641274530055, 1012.9764697010394, 1010.1657366415742, 996.4713914411133, 1015.454241464092, 1018.6301514253372, 1013.1815881127119, 1002.8964948288638, 1020.3074888462882, 987.867349531034, 1027.134213061481, 1003.3986931902124, 995.0729490465972, 1010.858230078661, 1009.2002874742669, 1018.205436454704, 1021.4323490494305, 980.1697398424876, 996.3375977344417, 1008.6610718549114, 1009.694628182945, 1006.8203081125511, 996.3983675050358, 996.776281349428, 993.6523999072556, 1007.338986672586, 1020.8738692409116, 1011.5779428493767, 1003.2874089404866, 1000.9935261711521, 1020.7682274982916, 1014.5471540547634, 989.0177527052028, 1000.1666060815413, 1022.4243822186068, 985.7247901397917, 1027.762317387058, 1012.5195495504954, 997.2376670810637, 1017.9457807725834, 997.7980301162772, 1000.13136441416, 1006.6335094317749, 997.3976905010114, 987.6122628367677, 990.1338671227767, 1006.2203817508672, 1024.5162362557303, 1024.4234837587355, 1023.6967352945902, 987.5344410238415, 1001.9725443933731, 1000.0896434285637, 1003.4427543458481, 1000.7433028427746, 1000.3659771320848, 1019.7420262252507, 1006.7920101976484, 1013.263670223849, 1023.433721132852, 1021.0442245066511, 1002.7122349760454, 995.1366911585296, 1011.1538608631233, 1016.4575486550856, 1009.7999929851483, 994.7383208399513, 1016.555853064699, 1027.0077884837585, 1003.8035599093015, 1025.285543113646, 980.4383753191553, 1014.0613405609961, 1021.5517411491387, 1014.3690792338097, 1016.052345014226, 1009.3986491471061, 1009.4778606459995, 999.2721489671296, 1017.0527548766997, 1021.2807991081542, 994.0938707559098, 998.2645032238463, 988.5613423675703, 1002.381523817097, 996.5499447259184, 1016.471635977974, 990.5087010502053, 1012.9479518005714, 1020.6913707634355, 997.1901881496995, 1013.2445164263179, 1012.9869573348384, 1003.5421684062353, 1016.7355492380024, 1034.6130203036398, 1030.8431851980667, 1024.1263524126614, 990.2031572182949, 1019.2563473729872, 1004.7196981808048, 1019.713245163176, 1005.1240262866119, 1000.4115247300545, 1011.6557906193044, 1018.6078178790776, 992.1632094564533, 1012.879360244759, 989.2846414360821, 1005.4278223040546, 996.7316207930945, 1009.2547163654336, 1022.2955167912255, 1007.2612695728809, 998.9486888943129, 1012.5951637819627, 1017.6163006931337, 1015.7865902118438, 997.5427689926322, 997.4834289680248, 983.9791732169341, 1003.0212353673494, 1000.7222718181756, 1008.1834357987586, 1006.4627635283354, 1004.7371710447057, 1009.3072370926353, 983.0738623507538, 991.9341096984319, 1007.5835800875136, 1014.3762472333278, 999.8506038687013, 995.9415530151596, 1019.2407737336318, 1004.0282524221574, 1007.7743773157397, 1005.1460717266757, 992.5784642561831, 1005.75290049761, 1005.9614755356226, 994.915374832423, 998.2313798769046, 1013.6488125927146, 996.3489818805398, 1020.4234353855709, 1011.3468611750108, 994.8778605267236, 982.2696548386474, 1008.6192558945237, 1019.4165138762844, 1020.4268474430065, 1019.973311403822, 1004.3153444040304, 1003.5719172469626, 1002.9256800574909, 993.5616838145818, 1014.7277410925728, 987.4592804895645, 1016.3141531162061, 1018.9626370513856, 1008.5565095023123, 1004.9370121282096, 995.8289881991535, 990.7873204451402, 1002.142520825123, 1012.2483288314413]\n",
      "10\n",
      "[997.5398564156321, 999.4850547180972, 1000.541627172759, 984.047122280867, 1032.9262440500859, 1017.2931385510216, 1022.2204671499842, 987.5095069087721, 995.4833193886294, 1006.6182623234076, 1013.8025926469594, 1004.7908284793136, 998.9305145839129, 1025.1885535724473, 996.5364626228553, 1033.7566642454212, 996.7288758549055, 977.8540499011879, 993.3280469607427, 988.2610141911531, 1029.2013164916466, 1006.9379985991017, 997.2961359910163, 993.6750534754216, 1012.0132570094221, 1025.8439226382477, 1007.1185672685249, 1010.4761681299609, 1015.6598069264252, 992.5619269759304, 1017.5954726464871, 1028.8712173005192, 1019.104664748991, 1008.6088036574814, 1014.1597776828654, 1008.965556620334, 993.7701318742107, 1005.8713634463571, 1006.7010172550074, 988.0188621867322, 1010.5702959690567, 1007.2370040499213, 1001.9136097632887, 1012.7938930075795, 1006.5289729325311, 999.8306497788021, 1005.1599562064692, 1025.5446650680392, 1000.0660944729199, 1001.8799786239969, 1023.2355562634622, 1017.6052632414303, 1010.3726334297971, 1012.7103251433957, 1023.4883052976747, 1001.2256989300812, 1002.8961760039148, 1002.0866024739664, 1001.925480716686, 1019.7453319973692, 1019.8932487849263, 998.8785234333106, 993.6067825580125, 999.5017154258726, 1012.9366828324112, 993.6710808685359, 1016.2075025110965, 995.8048738725828, 1016.3117995589002, 984.2651874758673, 994.4200874418412, 1021.0598455857657, 1004.9893673859776, 996.1715835968587, 989.3075285832012, 1012.9712650028289, 1008.277571955706, 990.6464587729265, 998.3835165379093, 1004.5995578489926, 998.771345091614, 1009.5254394931754, 1008.7788275154569, 1017.8702617816964, 1000.1409278312665, 1001.0964132487726, 1011.6570903646748, 992.5365121225493, 1011.6695881700338, 1001.2294615078457, 1005.257934532616, 1015.0253710688361, 1010.2177773910216, 999.8011610955419, 1009.0577434093068, 983.2848027053064, 1014.7325384261875, 1014.7234311293628, 1004.221233124133, 1021.8607803818082, 992.4436556380574, 1007.871846297145, 988.5268549296418, 1019.5291598040017, 1017.8366572920065, 1019.8141686435928, 1007.5634966371307, 1008.5769782644352, 1009.8021915775231, 1005.8434620662141, 1010.4420031318017, 981.5257291751705, 1025.4676028871577, 1000.649840717698, 982.1568374945583, 1033.6815894284116, 1004.5986217531505, 1005.5293562815538, 1016.4503120290075, 1026.4282551250076, 982.3099583821801, 995.7690438261253, 989.2622575264489, 1007.5673647705518, 998.4569750144946, 986.596173458848, 993.838055062028, 996.1562027761393, 981.8276861698756, 1009.8754982918581, 1006.309330057157, 997.8021502997204, 1008.5226739090474, 1022.9687998255879, 1005.0451513542833, 977.010520841576, 1006.7476856423228, 993.6235346495542, 994.3650410451147, 1033.3330119218267, 1016.5149380959465, 993.2148283042532, 1030.8252785358281, 993.8458599692632, 987.9426892806821, 975.2544777268315, 1016.5993380555356, 1015.4410622516236, 984.2608394761411, 995.2429288649538, 1007.3083040437407, 973.3350958235438, 984.024328223224, 1016.2689200449813, 1005.0048809126312, 993.6107001460236, 1013.8385159963382, 993.6443136409497, 1006.0603304782036, 1002.7908955789483, 1009.4099032306265, 996.9338760090972, 997.0628442113455, 1012.0332836313468, 986.1261326604598, 1021.6543306613502, 1008.8787817146157, 988.9613027743751, 1018.8878753905735, 1009.1113666023969, 1018.1143459229834, 1003.4761639860059, 987.6364467632959, 1017.1939240808683, 1006.1460821158533, 1006.4325785673534, 996.7341819990078, 1007.3862327195476, 992.6452405507424, 1022.5498841410666, 1008.893693077327, 999.0829999886624, 1007.2923721384898, 991.5858243374132, 1019.3701522378044, 978.6910257657241, 996.5804918701549, 1006.0850807478907, 1002.6913766006357, 992.8998104872773, 991.8134542074044, 1009.70809278083, 999.5893870270016, 1002.6038879798587, 1007.1545902967106, 1024.6529906355122, 1005.2211443618297, 1017.6046441435111, 991.2364689850624, 977.5994826011488, 988.4748775899276, 1018.529174318375, 1008.682097717277, 992.2284266737627, 1016.7137959588899, 994.2445546551764, 1030.7870508089964, 991.8162354945509, 1014.5931930381155, 1007.42801232322, 994.0698268509428, 987.401295400346, 1024.886424877048, 1020.1247953752882, 1014.1645702326838, 994.1938010954487, 1005.7519136763416, 977.2350108783477, 988.2578466321477, 1014.3874442874695, 1008.3054294522912, 1025.6187240540523, 1018.8503357874478, 1009.5968443324683, 1004.3004820205371, 1015.7547894133176, 984.4379045238165, 1006.3272595596824, 1010.6421944857689, 990.5101511847213, 1026.2585987515633, 1007.6562102961425, 1015.3711448657631, 1003.9590111436689, 1029.3551403689003, 1011.3016462077808, 1015.8024622541063, 998.1544225639163, 1011.9350546230219, 1023.8581993064873, 1004.3200958369316, 1006.8222352445908, 985.2698318915748, 995.9767924120869, 1000.5299216433326, 1011.6105840182813, 977.0810531091407, 991.9121805233187, 1003.1938191102066, 1020.3928721202367, 1019.0770823972971, 1005.0438581632118, 998.2058590573012, 995.2412276210734, 984.825708468309, 1008.111742014599, 986.3302475270845, 1011.4328696994442, 1004.8468053461602, 1019.3822400481847, 984.75206026263, 997.8743028076024, 1021.4932038382775, 1006.1043580354055, 981.209280874587, 1018.9630944853992, 1030.2729066728596, 1016.1543611823637, 1009.2085849830995, 977.4734924286677, 1017.7014807780604, 1015.6169575062299, 1011.0488243658714, 1034.292784190864, 1022.6670396404897, 1015.4745975782531, 1017.5199926607343, 1008.9904454655598, 998.2849440207891, 1002.1102209913872, 998.3964610972861, 982.2903161101839, 994.2097368029345, 1032.6464510325602, 1021.4348849670765, 989.3724314132076, 992.0633646902545, 992.5298617001212, 1006.5679670275575, 1006.8912523626291, 989.2332568570308, 1010.375564285426, 1016.0125485493812, 1022.470533266267, 1009.5991360841793, 1005.3527938075301, 992.9784116549785, 1024.067938738722, 1001.9351676752702, 1002.1528233693635, 979.114257737088, 995.3402595954019, 1000.9027046764418, 1016.375284458835, 1008.1875653003747, 1004.853887125502, 1003.967429064464, 989.8651662956019, 1015.1207876908138, 993.5557936126721, 1003.9349448416604, 983.9028962191725, 1006.4928242996967, 993.7936465057845, 1007.0349687193528, 1000.0804338631882, 998.5760096567064, 1009.924104167765, 1006.6150826169225, 1007.0360565621835, 1014.8401564769767, 1015.5941772683332, 1014.0342310878701, 997.7077163155946, 1011.2297833537893, 1018.1190227773658, 1011.7636175768379, 1001.23525790319, 1005.7007200989932, 1012.9302235558741, 1006.9989782813137, 1021.0047538344086, 996.0563483807264, 1012.6526389409088, 1033.1030943412652, 1004.0158608053038, 986.8938838162636, 1015.9237877494985, 1014.7474738915711, 1010.8958908275056, 1022.7580747669632, 1014.6001126257407, 996.0764615797843, 1005.7628812967064, 996.4838064257438, 990.8384847115886, 990.8757061479075, 995.8282662157892, 994.0964581612438, 998.4768142683204, 1030.5931507530968, 1025.2152100299359, 1009.7408525267874, 1020.5441804348244, 978.2425154417649, 1015.5603036232259]\n",
      "11\n",
      "[1027.4156509940333, 1023.3308996180057, 979.9097903287771, 999.533313813526, 1005.9053158316575, 1022.8091288388084, 1002.508270693591, 1000.6853212504958, 1007.6493640100821, 1013.0518344421588, 1012.6980571700327, 1020.2606996941003, 997.826083448244, 990.2081817665845, 972.9246073395598, 1030.7596471969198, 981.7709021691362, 1013.2497126132134, 1007.1883584217309, 1017.3954537767721, 1016.0587860571262, 1003.1811671000829, 1028.5410038615414, 991.8202244058818, 1030.7807757925832, 997.6222634755791, 998.8626398710362, 998.6126970654152, 1016.0401630812818, 1015.0920056173709, 991.4928698632689, 1002.3725330550957, 1011.1776998238316, 1004.5624690247148, 1012.984524200373, 1010.1122130545906, 977.6400677104672, 999.9091620226583, 1013.926928465368, 1004.0692376765617, 982.1422451304754, 983.3545721146896, 1006.2196047978902, 992.5930377781099, 1003.7101536380915, 1013.1751976256948, 996.7994400458603, 1009.288016451385, 1007.1454293737797, 996.448751557218, 996.3690800377135, 999.3590399256177, 1000.6157348681245, 1024.2046061004005, 1020.3747947173567, 996.6607469066137, 1013.2553298128245, 1028.1000269835804, 1022.3356452223076, 987.798166721252, 1009.6569632397193, 995.9986323218801, 989.2108083499642, 990.85334688019, 999.5233236735171, 980.1669902207731, 1027.6474616753392, 1009.9659331411859, 999.2864504820816, 1005.4484361539577, 986.3511027445843, 1010.1387766234802, 1024.4013338196837, 1015.3818966478165, 1009.3534052238971, 1017.0178701460483, 997.0393916453542, 1003.2751841641093, 1012.8781987583081, 995.6926635342902, 1021.6844830341705, 1007.1286933299976, 994.9385884560345, 1014.4499810787481, 998.8014853968401, 991.260946224166, 1012.4758526021393, 1011.3309008026964, 983.7371463092014, 1025.5037350491855, 978.3359895805212, 1019.0092850256788, 1007.0433645214963, 1018.7755986307237, 1018.2991254378929, 1012.7296634929203, 1006.4805115406875, 1016.538161350952, 1008.3408627869054, 996.7417580334921, 1027.506734749124, 1025.889023495466, 1000.106791226803, 1033.2678191764792, 1025.4129687960694, 1029.4953272901655, 999.7214567146601, 1003.9850928890952, 1008.564516053446, 1012.8375678192217, 1010.4176811267629, 1007.1427387526275, 1028.2598979091197, 1000.0681758234736, 994.8025142559453, 1015.4454499370732, 1012.5667670902277, 968.405833914434, 1016.303688761489, 1018.4156968057525, 1010.5261942695361, 1009.2506354079762, 1029.7679902513814, 999.1427435154003, 982.3983599207437, 1024.0716763761066, 988.6664176746767, 1014.9363519956482, 1031.7923200384907, 1009.1544651173242, 1004.1942669716983, 983.3291841496754, 973.0764132988611, 1010.2699301953213, 1002.6274319589655, 993.8020908188952, 991.7296003079406, 986.7014455966336, 1032.4464314597542, 1018.3335661117374, 977.3137923136226, 1003.026638343818, 987.2722306928275, 1017.8253501209549, 988.6423970263478, 995.3762504035734, 989.9672765095802, 988.0958353371338, 1009.3891639704182, 999.0125610828371, 1008.2817702315339, 1022.219585697026, 997.81957095616, 1006.6613106281843, 1008.2239706008321, 1013.6387844055542, 989.7007493386909, 1020.828821586905, 997.0969982641785, 1019.0713718930909, 1025.3980883281806, 989.3839727877416, 1024.4921144762313, 1016.4042366828221, 1019.7087717156558, 991.8354312667636, 997.6191522018772, 1011.2847352287299, 992.5777844846274, 979.9810324205447, 1025.2805027970214, 993.2193303710303, 1022.266636838937, 1016.0723431409035, 1017.8103755816759, 1024.2852170040787, 988.1614341835913, 1029.3491517877999, 1025.1300236716284, 1020.4861639527987, 1005.9157668595418, 1005.1626456294694, 1005.5851230951606, 1016.9927909054828, 1035.799476893506, 971.4844866468806, 982.3596125511873, 1014.9409106311037, 1005.0412709210781, 1028.0219705261907, 1016.6062843482281, 1014.0504204125762, 1002.5051993617872, 1016.895924868742, 1000.0077575593639, 1019.6177886621033, 998.2084987954589, 1008.4821109917435, 994.4112826963791, 1025.1142395717216, 1006.5882048585867, 983.3749401100617, 1020.3525352792999, 1019.0201593875779, 993.9766672944937, 1007.48591591751, 989.6485994836637, 969.1725086641171, 1019.5184543452276, 999.5017711646044, 996.3607737417137, 1022.2399238255692, 999.8405974126863, 1004.4844954681287, 1006.7690447300822, 1022.1977564561564, 1005.6541970332792, 1027.7816912860976, 983.4232436982198, 1017.4140795903738, 1007.2609607531945, 1025.452147895109, 984.639436685818, 1008.4471543292384, 986.2215910487416, 976.9745625277184, 1029.7164070953227, 1026.7420622468528, 1018.9040982098019, 1012.6654797749984, 1026.1565676914984, 975.7809056006256, 1019.7730704602953, 1004.2588570784749, 1008.5140947054163, 995.3376139509178, 1025.1746644981954, 1012.8006332503543, 1015.0659847166646, 1004.6227390628263, 994.1724810671908, 1028.082044790625, 994.8123722279877, 998.2128972007812, 991.2064880707239, 1000.4263215530244, 1000.0149187754955, 983.7001804196325, 1008.3479142702604, 1005.4042722140292, 1012.8436612831401, 1009.0719944754622, 1013.9815519458343, 995.3473830921986, 1029.6630204744433, 1009.2968669301562, 1032.397903083323, 1007.1080553650077, 1000.7862309872486, 1020.8913931131316, 1005.7355651091486, 996.3734733456135, 1006.2605320940143, 1024.6501146679711, 1030.382819655792, 987.0424063363902, 1022.7947790569806, 1010.4160377179855, 985.2300284128117, 1018.8407335544633, 1013.3919898945977, 1016.8452618348393, 1019.3611441198507, 984.9285119473192, 984.0489118448332, 992.0199626357388, 1018.5113723282634, 1022.5735960044996, 982.7135151798765, 1002.9089531339996, 979.4109754866595, 1027.3952263216997, 1016.6172455877954, 996.7465546622749, 1007.8913421584398, 1027.0766371304637, 1012.6292714285572, 986.8376078250926, 1002.9991856167549, 1014.122267178469, 1016.5387284295584, 1012.3023396424943, 1015.4486306973818, 992.8609296705856, 1001.060668455448, 1003.9901050357944, 1017.60085887406, 998.4378692702105, 1005.3684500154611, 1008.4768528463308, 1028.3576237970758, 983.5716617663848, 1018.0112954433139, 1019.1989891015322, 1007.1372895511738, 1015.1535646265635, 1000.3288742538768, 1000.2120604424472, 1009.5193772245826, 980.8113572787797, 1024.9417699101211, 996.2132217513099, 996.4377220993986, 1008.8265173117098, 1025.3315637508815, 1014.38963024293, 1000.7824546512774, 997.3748203764717, 1005.1898528807831, 1022.2729843249382, 1007.657068272167, 1026.5928355636188, 1032.0435410040225, 1019.9468954319566, 1013.7384702733925, 1009.2167294951695, 998.2487806464437, 1016.4602355530385, 1002.0745496540883, 1014.6756893444386, 986.708099660492, 1004.966374091974, 1026.3448686596566, 1022.3666618446337, 994.0392515341293, 997.1453139632741, 994.5320913838169, 1011.560700415665, 1033.097322156974, 1021.2063830456999, 995.0231101060131, 1010.5622932105957, 1001.4153684461579, 1013.4213214124416, 988.471112595235, 994.7346549574129, 1016.1834408644639, 1022.6835419102016, 986.2047143804722, 986.3918797970344, 1024.4966499181105, 985.9069684277035, 1003.19004685719, 1009.2830778232988, 986.5898566435363, 992.0950550858859, 1011.8482308455913, 1028.1598221063498, 963.9166167303121, 999.1238701012062, 1008.7197038928201, 1003.9081130785877, 979.5869913718238, 1004.1514741140776, 967.9819584120294, 998.666263669173, 997.795519457573, 983.0501079479893, 993.4332225653889, 1008.0369091387078, 1022.9279238272605]\n"
     ]
    }
   ],
   "source": [
    "#sim_cbl_new=[]\n",
    "for ix in range(12):\n",
    "   sim_save=sim_cbl[ix]\n",
    "   corr1, _ = pearsonr(mx[ix]['rain'], mx[ix]['cbl'])\n",
    "   corr2, _ = spearmanr(mx[ix]['rain'], mx[ix]['cbl'])\n",
    "   corr=(-1)*((corr1+corr2)/2)\n",
    "   l = np.array(sim_rain[ix])\n",
    "   s = pd.Series(l)\n",
    "   ln=s.rank(method='dense')\n",
    "   num=len(sim_cbl[ix])\n",
    "#   sim_cbl_new=num*[0]\n",
    "   num2=int(num*corr)\n",
    "   sim_cbl_sorted=np.sort(sim_cbl[ix])\n",
    "   sim_cbl_new[ix]=[]\n",
    "   for i in range(num2):\n",
    "      lni=num-int(ln[i])\n",
    "      val=sim_cbl_sorted[(lni-1)]\n",
    "      sim_cbl_new[ix].append(val)\n",
    "      result = np.where(sim_save == val)\n",
    "      sim_save = np.delete(sim_save, result[0][0])\n",
    "\n",
    "   num=len(sim_save)\n",
    "   for i in range(num):\n",
    "      sim_cbl_new[ix].append(sim_save[i])  \n",
    "   print(ix) \n",
    "   print(sim_cbl_new[ix]) \n",
    "#   print(months[ix], \" - Pearsons correlation actual data: %.3f\" % corr1)\n",
    "#   print(months[ix], \" - Spearmans correlation actual data : %.3f\" % corr2)\n",
    "   corr3, _ = pearsonr(sim_rain[ix], sim_cbl_new[ix])\n",
    "   corr4, _ = spearmanr(sim_rain[ix], sim_cbl_new[ix])    \n",
    "#   print(months[ix], \" - Pearsons correlation sorted simulated data: %.3f\" % corr3)\n",
    "#   print(months[ix], \" - Spearmans correlation sorted simulated data: %.3f\" % corr4)     "
   ]
  },
  {
   "cell_type": "code",
   "execution_count": 149,
   "metadata": {},
   "outputs": [],
   "source": [
    "spx_maxtp=[]\n",
    "for i in range(12):\n",
    "    spx_maxtp.append(np.random.choice(sim_maxtp[i],ndays[i],replace=False))    "
   ]
  },
  {
   "cell_type": "code",
   "execution_count": 83,
   "metadata": {
    "scrolled": true
   },
   "outputs": [],
   "source": [
    "my={}\n",
    "i=0\n",
    "ymeans=[]\n",
    "labels=['Max Temp (C)','Min Temp (C)', 'Rainfall (mm)', 'Pressure (hPa)']\n",
    "a1=np.array(years, dtype=float)\n",
    "for mon in months:\n",
    "   ymean=[]\n",
    "   for y in yearx:\n",
    "      my=mx[i][mx[i]['date'].str.contains(y)] \n",
    "      ymean.append(my['maxtp'].mean())\n",
    "   ymeans.append(ymean)\n",
    "   i+=1 "
   ]
  },
  {
   "cell_type": "markdown",
   "metadata": {},
   "source": [
    "(ref https://stackoverflow.com/questions/28647172/numpy-polyfit-doesnt-handle-nan-values)\n",
    "(ref https://stackoverflow.com/questions/54603873/bokeh-plot-regression-lines-on-scatter-plot)"
   ]
  },
  {
   "cell_type": "code",
   "execution_count": 187,
   "metadata": {},
   "outputs": [
    {
     "data": {
      "image/png": "[encoded data removed]",
      "text/plain": [
       "<Figure size 432x288 with 1 Axes>"
      ]
     },
     "metadata": {
      "needs_background": "light"
     },
     "output_type": "display_data"
    }
   ],
   "source": [
    "i=0\n",
    "madds_maxtp=[]\n",
    "for mon in months:\n",
    "   a2=np.array(ymeans[i])\n",
    "   idx = np.isfinite(a1) & np.isfinite(a2)\n",
    "   par = np.polyfit(a1[idx], a2[idx], 1, full=True)\n",
    "   slope=par[0][0]\n",
    "   madds_maxtp.append(mfac*slope) \n",
    "   if i==0:\n",
    "      intercept=par[0][1]\n",
    "      plt.plot(a1, a2, 'k.')\n",
    "      plt.plot(a1, (slope*a1)+intercept, 'b-')\n",
    "      xlab='Year - '+months[i]\n",
    "      plt.xlabel(xlab)\n",
    "      plt.ylabel(labels[0])\n",
    "      plt.show()\n",
    "   i+=1"
   ]
  },
  {
   "cell_type": "code",
   "execution_count": 194,
   "metadata": {},
   "outputs": [],
   "source": [
    "my={}\n",
    "i=0\n",
    "madds_mintp=[]\n",
    "for mon in months:\n",
    "   ymean=[]\n",
    "   for y in yearx:\n",
    "      my=mx[i][mx[i]['date'].str.contains(y)] \n",
    "      ymean.append(my['mintp'].mean())\n",
    "   a2=np.array(ymean)\n",
    "   idx = np.isfinite(a1) & np.isfinite(a2)\n",
    "   par = np.polyfit(a1[idx], a2[idx], 1, full=True)\n",
    "   slope=par[0][0]\n",
    "   madds_mintp.append(mfac*slope) \n",
    "   i+=1 "
   ]
  },
  {
   "cell_type": "code",
   "execution_count": 195,
   "metadata": {},
   "outputs": [],
   "source": [
    "my={}\n",
    "i=0\n",
    "madds_rain=[]\n",
    "for mon in months:\n",
    "   ymean=[]\n",
    "   for y in yearx:\n",
    "      my=mx[i][mx[i]['date'].str.contains(y)] \n",
    "      ymean.append(my['rain'].mean())\n",
    "   a2=np.array(ymean)\n",
    "   idx = np.isfinite(a1) & np.isfinite(a2)\n",
    "   par = np.polyfit(a1[idx], a2[idx], 1, full=True)\n",
    "   slope=par[0][0]\n",
    "   madds_rain.append(mfac*slope) \n",
    "   i+=1 "
   ]
  },
  {
   "cell_type": "code",
   "execution_count": 196,
   "metadata": {},
   "outputs": [],
   "source": [
    "my={}\n",
    "i=0\n",
    "madds_cbl=[]\n",
    "for mon in months:\n",
    "   ymean=[]\n",
    "   for y in yearx:\n",
    "      my=mx[i][mx[i]['date'].str.contains(y)] \n",
    "      ymean.append(my['cbl'].mean())\n",
    "   a2=np.array(ymean)\n",
    "   idx = np.isfinite(a1) & np.isfinite(a2)\n",
    "   par = np.polyfit(a1[idx], a2[idx], 1, full=True)\n",
    "   slope=par[0][0]\n",
    "   madds_cbl.append(mfac*slope) \n",
    "   i+=1 "
   ]
  },
  {
   "cell_type": "markdown",
   "metadata": {},
   "source": [
    "(ref https://docs.scipy.org/doc/numpy-1.13.0/reference/generated/numpy.random.choice.html)"
   ]
  },
  {
   "cell_type": "code",
   "execution_count": 235,
   "metadata": {},
   "outputs": [
    {
     "name": "stdout",
     "output_type": "stream",
     "text": [
      "[0.0, 5.0, 2.0, 0.0, 1.0, 1.0, 8.0, 9.0, 2.0, 0.0, 3.0, 4.0, 1.0, 2.0, 4.0, 1.0, 0.0, 1.0, 1.0, 0.0, 4.0, 2.0, 2.0, 0.0, 2.0, 0.0, 14.0, 12.0, 0.0, 1.0, 0.0, 0, 12.0, 0, 1.0, 0.0, 0.0, 3.0, 20.0, 0, 5.0, 0, 0, 1.0, 3.0, 2.0, 1.0, 1.0, 0.0, 0.0, 0, 0, 0, 0, 0, 0, 0, 0, 0, 24.0, 0.0, 1.0, 1.0, 10.0, 0.0, 1.0, 2.0, 3.0, 1.0, 1.0, 0.0, 1.0, 1.0, 1.0, 1.0, 1.0, 2.0, 1.0, 3.0, 0.0, 9.0, 2.0, 14.0, 1.0, 0.0, 0.0, 4.0, 0.0, 0.0, 2.0, 1.0, 1.0, 1.0, 1.0, 1.0, 5.0, 1.0, 1.0, 2.0, 1.0, 2.0, 2.0, 4.0, 1.0, 7.0, 1.0, 1.0, 1.0, 1.0, 1.0, 1.0, 1.0, 5.0, 3.0, 1.0, 1.0, 1.0, 1.0, 12.0, 1.0, 3.0, 1.0, 0.0, 0.0, 0.0, 0.0, 0.0, 1.0, 0.0, 6.0, 0.0, 7.0, 8.0, 0.0, 0.0, 0.0, 3.0, 0.0, 10.0, 7.0, 1.0, 0.0, 2.0, 0.0, 0.0, 0.0, 2.0, 1.0, 0.0, 0.0, 15.0, 3.0, 0, 0, 0, 5.0, 0, 10.0, 0, 0, 0, 11.0, 12.0, 0, 0, 0, 11.0, 10.0, 0, 0, 4.0, 3.0, 0, 0, 0, 29.0, 2.0, 0, 0, 4.0, 0, 0, 0, 0, 4.0, 0, 0, 3.0, 0, 7.0, 0, 0, 0, 0, 0, 0, 0, 12.0, 0, 0, 0, 0, 0, 8.0, 1.0, 0, 0, 0, 0, 0, 13.0, 0, 0, 10.0, 0, 0, 1.0, 0, 0, 0, 0, 3.0, 0, 1.0, 4.0, 0, 1.0, 10.0, 0, 15.0, 0.0, 0.0, 0, 0, 10.0, 0.0, 0, 0, 0, 38.0, 0, 0, 3.0, 0, 0.0, 5.0, 0.0, 0.0, 1.0, 1.0, 3.0, 0.0, 0.0, 0.0, 0.0, 8.0, 6.0, 14.0, 1.0, 0.0, 0.0, 0.0, 0.0, 0.0, 0.0, 0.0, 2.0, 1.0, 3.0, 1.0, 0.0, 0.0, 1.0, 3.0, 0, 0, 0, 3.0, 0, 1.0, 1.0, 0, 0, 0.0, 0.0, 0, 0, 0, 18.0, 0.0, 2.0, 0, 0, 7.0, 0, 0, 13.0, 0, 1.0, 0, 0, 0, 0, 6.0, 0, 8.0, 0.0, 0.0, 0.0, 0.0, 0.0, 2.0, 7.0, 0.0, 0.0, 0.0, 8.0, 12.0, 3.0, 0.0, 0.0, 7.0, 26.0, 0.0, 0.0, 13.0, 6.0, 4.0, 0.0, 2.0, 16.0, 5.0, 2.0, 0.0, 2.0, 1.0, 1.0, 1.0, 1.0, 3.0, 2.0, 6.0, 1.0, 1.0, 11.0, 1.0, 3.0, 1.0, 1.0, 1.0, 1.0, 3.0, 3.0, 4.0, 3.0, 1.0, 3.0, 27.0, 1.0, 1.0, 4.0, 4.0, 1.0, 4.0, 5.0, 1.0]\n"
     ]
    }
   ],
   "source": [
    "rxs=0\n",
    "spx_maxtp=[]\n",
    "spx_mintp=[]\n",
    "spx_rain=[]\n",
    "spx_cbl=[]\n",
    "spx_maxtp_new=[]\n",
    "spx_mintp_new=[]\n",
    "spx_rain_new=[]\n",
    "spx_cbl_new=[]\n",
    "for i in range(12):\n",
    "    spx_maxtp.append(np.random.choice(sim_maxtp[i],ndays[i],replace=False)) \n",
    "    spx_mintp.append(np.random.choice(sim_mintp_new[i],ndays[i],replace=False))  \n",
    "    spx_rain.append(np.random.choice(sim_rain[i],ndays[i],replace=False)) \n",
    "    spx_cbl.append(np.random.choice(sim_cbl_new[i],ndays[i],replace=False))  \n",
    "    for num in range(len(spx_maxtp[i])):\n",
    "        spx_maxtp_new.append(round(spx_maxtp[i][num] + madds_maxtp[i],1))\n",
    "    for num in range(len(spx_mintp[i])):\n",
    "        spx_mintp_new.append(round(spx_mintp[i][num] + madds_mintp[i]))\n",
    "    for num in range(len(spx_rain[i])):\n",
    "        rx=spx_rain[i][num] + madds_rain[i]\n",
    "        if rx < 0:\n",
    "           rxs=rxs+rx\n",
    "           rx=0\n",
    "        else:\n",
    "           if rx > 0 and rxs < 0:\n",
    "              if (rx-rxs) < 0:\n",
    "                 rxs=rxs+rx\n",
    "                 rx=0\n",
    "              else:\n",
    "                 rx=rx-rxs\n",
    "                 rxs=0\n",
    "        spx_rain_new.append(round(rx))\n",
    "    for num in range(len(spx_cbl[i])):\n",
    "        spx_cbl_new.append(round(spx_cbl[i][num] + madds_cbl[i]))        \n",
    "print(spx_rain_new)    "
   ]
  },
  {
   "cell_type": "markdown",
   "metadata": {},
   "source": [
    "(ref https://stackoverflow.com/questions/993358/creating-a-range-of-dates-in-python)"
   ]
  },
  {
   "cell_type": "code",
   "execution_count": 206,
   "metadata": {},
   "outputs": [
    {
     "ename": "NameError",
     "evalue": "name 'curr_datetime' is not defined",
     "output_type": "error",
     "traceback": [
      "\u001b[1;31m---------------------------------------------------------------------------\u001b[0m",
      "\u001b[1;31mNameError\u001b[0m                                 Traceback (most recent call last)",
      "\u001b[1;32m<ipython-input-206-0d31323b2c3d>\u001b[0m in \u001b[0;36m<module>\u001b[1;34m\u001b[0m\n\u001b[0;32m      2\u001b[0m \u001b[1;32mfrom\u001b[0m \u001b[0mdatetime\u001b[0m \u001b[1;32mimport\u001b[0m \u001b[0mdatetime\u001b[0m\u001b[1;33m\u001b[0m\u001b[1;33m\u001b[0m\u001b[0m\n\u001b[0;32m      3\u001b[0m \u001b[1;33m\u001b[0m\u001b[0m\n\u001b[1;32m----> 4\u001b[1;33m \u001b[0mcurr_year\u001b[0m \u001b[1;33m=\u001b[0m \u001b[0mcurr_datetime\u001b[0m\u001b[1;33m.\u001b[0m\u001b[0myear\u001b[0m\u001b[1;33m\u001b[0m\u001b[1;33m\u001b[0m\u001b[0m\n\u001b[0m\u001b[0;32m      5\u001b[0m \u001b[0mnext_year\u001b[0m\u001b[1;33m=\u001b[0m\u001b[0mcurr_year\u001b[0m\u001b[1;33m+\u001b[0m\u001b[1;36m1\u001b[0m\u001b[1;33m\u001b[0m\u001b[1;33m\u001b[0m\u001b[0m\n\u001b[0;32m      6\u001b[0m \u001b[0mreq_date\u001b[0m \u001b[1;33m=\u001b[0m \u001b[0mdate\u001b[0m\u001b[1;33m(\u001b[0m\u001b[0myear\u001b[0m\u001b[1;33m=\u001b[0m\u001b[0mnext_year\u001b[0m\u001b[1;33m,\u001b[0m\u001b[0mmonth\u001b[0m\u001b[1;33m=\u001b[0m\u001b[1;36m1\u001b[0m\u001b[1;33m,\u001b[0m\u001b[0mday\u001b[0m\u001b[1;33m=\u001b[0m\u001b[1;36m1\u001b[0m\u001b[1;33m)\u001b[0m\u001b[1;33m\u001b[0m\u001b[1;33m\u001b[0m\u001b[0m\n",
      "\u001b[1;31mNameError\u001b[0m: name 'curr_datetime' is not defined"
     ]
    }
   ],
   "source": [
    "from datetime import date\n",
    "from datetime import datetime\n",
    "\n",
    "curr_year = curr_datetime.year\n",
    "next_year=curr_year+1\n",
    "req_date = date(year=next_year,month=1,day=1)\n",
    "print(req_date)\n",
    "#base = datetime.datetime.today()\n",
    "#date_list = [base + datetime.timedelta(days=x) for x in range(numdays)]"
   ]
  },
  {
   "cell_type": "markdown",
   "metadata": {},
   "source": [
    "(ref https://stackoverflow.com/questions/15834244/how-to-map-multiple-lists-to-one-dictionary)"
   ]
  },
  {
   "cell_type": "code",
   "execution_count": 232,
   "metadata": {},
   "outputs": [
    {
     "data": {
      "text/plain": [
       "{'01-Jan-20': [3.0, 13.0, 0.0, 1018.0],\n",
       " '02-Jan-20': [5.0, 7.9, 0.0, 1026.0],\n",
       " '03-Jan-20': [3.0, 5.7, 1.0, 1005.0],\n",
       " '04-Jan-20': [6.0, 10.3, 0.0, 1011.0],\n",
       " '05-Jan-20': [3.0, 12.3, 2.0, 982.0],\n",
       " '06-Jan-20': [2.0, 10.6, 3.0, 1004.0],\n",
       " '07-Jan-20': [1.0, 8.9, 0.0, 999.0],\n",
       " '08-Jan-20': [0.0, 11.5, 0.0, 997.0],\n",
       " '09-Jan-20': [1.0, 13.9, 0.0, 1020.0],\n",
       " '10-Jan-20': [3.0, 4.6, 2.0, 1015.0],\n",
       " '11-Jan-20': [2.0, 13.3, 0.0, 996.0],\n",
       " '12-Jan-20': [5.0, 11.0, 0.0, 978.0],\n",
       " '13-Jan-20': [4.0, 11.4, 0.0, 1016.0],\n",
       " '14-Jan-20': [-2.0, 12.6, 0.0, 985.0],\n",
       " '15-Jan-20': [2.0, 11.4, 2.0, 1020.0],\n",
       " '16-Jan-20': [-0.0, 4.6, 0.0, 996.0],\n",
       " '17-Jan-20': [2.0, 3.4, 0.0, 987.0],\n",
       " '18-Jan-20': [3.0, 5.0, 1.0, 1023.0],\n",
       " '19-Jan-20': [7.0, 9.6, 2.0, 1005.0],\n",
       " '20-Jan-20': [0.0, 4.6, 2.0, 1009.0],\n",
       " '21-Jan-20': [-2.0, 5.5, 0.0, 988.0],\n",
       " '22-Jan-20': [2.0, 12.7, 0.0, 982.0],\n",
       " '23-Jan-20': [-4.0, 6.3, 1.0, 1006.0],\n",
       " '24-Jan-20': [1.0, 8.3, 3.0, 1041.0],\n",
       " '25-Jan-20': [6.0, 12.7, 1.0, 977.0],\n",
       " '26-Jan-20': [5.0, 9.8, 1.0, 1029.0],\n",
       " '27-Jan-20': [1.0, 6.5, 3.0, 1021.0],\n",
       " '28-Jan-20': [0.0, 6.3, 1.0, 1006.0],\n",
       " '29-Jan-20': [-1.0, 13.5, 13.0, 973.0],\n",
       " '30-Jan-20': [2.0, 11.2, 4.0, 1008.0],\n",
       " '31-Jan-20': [-2.0, 4.9, 1.0, 1005.0],\n",
       " '01-Feb-20': [2.0, 10.2, 2.0, 1019.0],\n",
       " '02-Feb-20': [4.0, 13.7, -0.0, 1003.0],\n",
       " '03-Feb-20': [5.0, 9.1, 2.0, 1013.0],\n",
       " '04-Feb-20': [10.0, 12.9, 0.0, 1013.0],\n",
       " '05-Feb-20': [7.0, 10.0, 1.0, 986.0],\n",
       " '06-Feb-20': [-1.0, 13.1, 0.0, 1009.0],\n",
       " '07-Feb-20': [-3.0, 9.6, 6.0, 994.0],\n",
       " '08-Feb-20': [-1.0, 16.1, 0.0, 1001.0],\n",
       " '09-Feb-20': [6.0, 8.8, 5.0, 999.0],\n",
       " '10-Feb-20': [1.0, 5.8, -0.0, 1008.0],\n",
       " '11-Feb-20': [-1.0, 6.7, 0.0, 1022.0],\n",
       " '12-Feb-20': [10.0, 6.9, -0.0, 1026.0],\n",
       " '13-Feb-20': [-1.0, 10.8, 5.0, 1024.0],\n",
       " '14-Feb-20': [3.0, 9.0, -0.0, 1028.0],\n",
       " '15-Feb-20': [5.0, 14.5, -0.0, 1026.0],\n",
       " '16-Feb-20': [-2.0, 7.7, 0.0, 999.0],\n",
       " '17-Feb-20': [-1.0, 11.9, 2.0, 1028.0],\n",
       " '18-Feb-20': [2.0, 9.5, 0.0, 985.0],\n",
       " '19-Feb-20': [-6.0, 6.6, 6.0, 1014.0],\n",
       " '20-Feb-20': [5.0, 11.1, 0.0, 1015.0],\n",
       " '21-Feb-20': [-5.0, 7.8, 5.0, 1028.0],\n",
       " '22-Feb-20': [4.0, 15.7, 1.0, 1015.0],\n",
       " '23-Feb-20': [-1.0, 7.5, -0.0, 1007.0],\n",
       " '24-Feb-20': [11.0, 7.0, -0.0, 1014.0],\n",
       " '25-Feb-20': [2.0, 6.6, 20.0, 1027.0],\n",
       " '26-Feb-20': [2.0, 4.9, 0.0, 980.0],\n",
       " '27-Feb-20': [6.0, 8.9, 2.0, 1034.0],\n",
       " '28-Feb-20': [0.0, 13.6, -0.0, 1010.0],\n",
       " '29-Feb-20': [5.0, 10.5, 2.0, 1004.0],\n",
       " '01-Mar-20': [7.0, 11.8, 1.0, 980.0],\n",
       " '02-Mar-20': [4.0, 13.0, 0.0, 1025.0],\n",
       " '03-Mar-20': [7.0, 13.0, 0.0, 1022.0],\n",
       " '04-Mar-20': [4.0, 13.5, 3.0, 1002.0],\n",
       " '05-Mar-20': [2.0, 9.7, 0.0, 1006.0],\n",
       " '06-Mar-20': [4.0, 8.7, 2.0, 1024.0],\n",
       " '07-Mar-20': [2.0, 13.1, 1.0, 1009.0],\n",
       " '08-Mar-20': [7.0, 10.7, 16.0, 1027.0],\n",
       " '09-Mar-20': [-2.0, 6.3, 3.0, 986.0],\n",
       " '10-Mar-20': [1.0, 13.4, 0.0, 991.0],\n",
       " '11-Mar-20': [-3.0, 12.6, 0.0, 1011.0],\n",
       " '12-Mar-20': [6.0, 11.3, 1.0, 1000.0],\n",
       " '13-Mar-20': [3.0, 9.3, 0.0, 1009.0],\n",
       " '14-Mar-20': [4.0, 12.5, 3.0, 987.0],\n",
       " '15-Mar-20': [2.0, 12.5, 1.0, 1017.0],\n",
       " '16-Mar-20': [-5.0, 11.9, 2.0, 1022.0],\n",
       " '17-Mar-20': [2.0, 9.9, 1.0, 1010.0],\n",
       " '18-Mar-20': [-1.0, 10.9, 1.0, 1017.0],\n",
       " '19-Mar-20': [4.0, 7.4, 1.0, 1008.0],\n",
       " '20-Mar-20': [2.0, 12.0, 1.0, 1028.0],\n",
       " '21-Mar-20': [4.0, 11.7, 0.0, 1018.0],\n",
       " '22-Mar-20': [3.0, 15.0, 0.0, 1006.0],\n",
       " '23-Mar-20': [-0.0, 2.5, 1.0, 1024.0],\n",
       " '24-Mar-20': [5.0, 17.4, 0.0, 1032.0],\n",
       " '25-Mar-20': [3.0, 8.5, 6.0, 1001.0],\n",
       " '26-Mar-20': [1.0, 10.7, 0.0, 1011.0],\n",
       " '27-Mar-20': [-0.0, 2.5, 8.0, 999.0],\n",
       " '28-Mar-20': [1.0, 13.2, 0.0, 981.0],\n",
       " '29-Mar-20': [1.0, 10.1, 2.0, 997.0],\n",
       " '30-Mar-20': [6.0, 3.4, 1.0, 1028.0],\n",
       " '31-Mar-20': [-2.0, 13.2, 2.0, 1015.0],\n",
       " '01-Apr-20': [2.0, 15.4, 2.0, 1008.0],\n",
       " '02-Apr-20': [2.0, 14.7, 1.0, 1020.0],\n",
       " '03-Apr-20': [4.0, 12.7, 11.0, 1000.0],\n",
       " '04-Apr-20': [1.0, 6.6, 1.0, 1004.0],\n",
       " '05-Apr-20': [7.0, 10.6, 1.0, 1019.0],\n",
       " '06-Apr-20': [3.0, 14.1, 8.0, 1001.0],\n",
       " '07-Apr-20': [5.0, 12.5, 2.0, 996.0],\n",
       " '08-Apr-20': [3.0, 13.1, 1.0, 1000.0],\n",
       " '09-Apr-20': [0.0, 15.5, 2.0, 1028.0],\n",
       " '10-Apr-20': [7.0, 10.6, 4.0, 1005.0],\n",
       " '11-Apr-20': [6.0, 7.3, 3.0, 993.0],\n",
       " '12-Apr-20': [3.0, 9.7, 1.0, 1015.0],\n",
       " '13-Apr-20': [5.0, 11.1, 8.0, 1014.0],\n",
       " '14-Apr-20': [9.0, 11.9, 3.0, 989.0],\n",
       " '15-Apr-20': [6.0, 14.8, 1.0, 988.0],\n",
       " '16-Apr-20': [3.0, 11.3, 1.0, 1013.0],\n",
       " '17-Apr-20': [5.0, 14.7, 1.0, 1002.0],\n",
       " '18-Apr-20': [3.0, 8.5, 1.0, 1007.0],\n",
       " '19-Apr-20': [8.0, 14.7, 1.0, 1008.0],\n",
       " '20-Apr-20': [6.0, 10.8, 1.0, 1016.0],\n",
       " '21-Apr-20': [4.0, 13.5, 1.0, 993.0],\n",
       " '22-Apr-20': [2.0, 11.4, 10.0, 1011.0],\n",
       " '23-Apr-20': [5.0, 11.2, 1.0, 1001.0],\n",
       " '24-Apr-20': [3.0, 10.4, 1.0, 995.0],\n",
       " '25-Apr-20': [3.0, 13.9, 2.0, 1024.0],\n",
       " '26-Apr-20': [8.0, 14.2, 1.0, 996.0],\n",
       " '27-Apr-20': [3.0, 13.4, 1.0, 999.0],\n",
       " '28-Apr-20': [-0.0, 11.1, 1.0, 1005.0],\n",
       " '29-Apr-20': [2.0, 13.8, 5.0, 986.0],\n",
       " '30-Apr-20': [0.0, 13.0, 1.0, 1000.0],\n",
       " '01-May-20': [5.0, 14.3, 0.0, 1030.0],\n",
       " '02-May-20': [9.0, 13.0, 0.0, 1015.0],\n",
       " '03-May-20': [10.0, 19.1, 0.0, 1016.0],\n",
       " '04-May-20': [7.0, 18.0, 0.0, 1012.0],\n",
       " '05-May-20': [3.0, 18.9, 0.0, 1011.0],\n",
       " '06-May-20': [9.0, 18.4, 2.0, 1019.0],\n",
       " '07-May-20': [8.0, 17.9, 0.0, 1006.0],\n",
       " '08-May-20': [4.0, 15.2, 0.0, 1012.0],\n",
       " '09-May-20': [5.0, 12.3, 0.0, 1030.0],\n",
       " '10-May-20': [5.0, 17.3, 1.0, 1018.0],\n",
       " '11-May-20': [8.0, 18.0, 8.0, 1019.0],\n",
       " '12-May-20': [7.0, 21.7, 6.0, 1007.0],\n",
       " '13-May-20': [9.0, 15.4, 0.0, 1006.0],\n",
       " '14-May-20': [6.0, 15.9, 0.0, 1004.0],\n",
       " '15-May-20': [11.0, 19.2, 1.0, 1011.0],\n",
       " '16-May-20': [3.0, 21.8, 0.0, 1004.0],\n",
       " '17-May-20': [4.0, 13.4, 0.0, 1013.0],\n",
       " '18-May-20': [5.0, 23.4, 0.0, 1008.0],\n",
       " '19-May-20': [12.0, 15.2, 0.0, 1007.0],\n",
       " '20-May-20': [8.0, 18.9, 0.0, 1004.0],\n",
       " '21-May-20': [5.0, 18.3, 0.0, 1000.0],\n",
       " '22-May-20': [7.0, 22.8, 0.0, 1000.0],\n",
       " '23-May-20': [4.0, 11.2, 0.0, 1015.0],\n",
       " '24-May-20': [8.0, 20.5, 0.0, 1009.0],\n",
       " '25-May-20': [7.0, 19.5, 0.0, 1019.0],\n",
       " '26-May-20': [8.0, 13.8, 1.0, 1008.0],\n",
       " '27-May-20': [5.0, 19.8, 0.0, 1017.0],\n",
       " '28-May-20': [13.0, 15.1, 0.0, 1012.0],\n",
       " '29-May-20': [5.0, 17.7, 0.0, 1004.0],\n",
       " '30-May-20': [10.0, 16.0, 0.0, 1019.0],\n",
       " '31-May-20': [4.0, 14.9, 0.0, 1017.0],\n",
       " '01-Jun-20': [11.0, 14.7, -1.0, 1017.0],\n",
       " '02-Jun-20': [10.0, 16.4, -1.0, 1002.0],\n",
       " '03-Jun-20': [10.0, 18.4, 7.0, 1007.0],\n",
       " '04-Jun-20': [9.0, 16.4, 2.0, 1008.0],\n",
       " '05-Jun-20': [11.0, 19.1, -1.0, 1006.0],\n",
       " '06-Jun-20': [7.0, 20.1, -1.0, 1008.0],\n",
       " '07-Jun-20': [13.0, 21.5, 10.0, 999.0],\n",
       " '08-Jun-20': [9.0, 20.6, -1.0, 1021.0],\n",
       " '09-Jun-20': [8.0, 20.8, -1.0, 1013.0],\n",
       " '10-Jun-20': [12.0, 18.6, -1.0, 1017.0],\n",
       " '11-Jun-20': [13.0, 17.3, -1.0, 1012.0],\n",
       " '12-Jun-20': [12.0, 19.6, -1.0, 1022.0],\n",
       " '13-Jun-20': [10.0, 15.5, 6.0, 1010.0],\n",
       " '14-Jun-20': [10.0, 17.5, -1.0, 1006.0],\n",
       " '15-Jun-20': [8.0, 22.2, -1.0, 1006.0],\n",
       " '16-Jun-20': [13.0, 23.0, 3.0, 1009.0],\n",
       " '17-Jun-20': [13.0, 21.6, -1.0, 1005.0],\n",
       " '18-Jun-20': [12.0, 20.4, 9.0, 1023.0],\n",
       " '19-Jun-20': [10.0, 16.4, 18.0, 1007.0],\n",
       " '20-Jun-20': [11.0, 15.8, -1.0, 1012.0],\n",
       " '21-Jun-20': [11.0, 21.5, -1.0, 1013.0],\n",
       " '22-Jun-20': [11.0, 18.6, 5.0, 1004.0],\n",
       " '23-Jun-20': [11.0, 20.0, -1.0, 1007.0],\n",
       " '24-Jun-20': [12.0, 18.9, 2.0, 999.0],\n",
       " '25-Jun-20': [10.0, 24.6, -1.0, 1006.0],\n",
       " '26-Jun-20': [8.0, 22.3, -1.0, 1018.0],\n",
       " '27-Jun-20': [11.0, 24.1, -1.0, 1009.0],\n",
       " '28-Jun-20': [13.0, 17.3, -1.0, 1012.0],\n",
       " '29-Jun-20': [8.0, 13.7, 6.0, 1020.0],\n",
       " '30-Jun-20': [12.0, 13.6, -1.0, 1006.0],\n",
       " '01-Jul-20': [10.0, 24.4, -1.0, 1017.0],\n",
       " '02-Jul-20': [13.0, 22.1, -2.0, 1010.0],\n",
       " '03-Jul-20': [13.0, 24.3, 1.0, 1015.0],\n",
       " '04-Jul-20': [12.0, 26.3, 6.0, 1012.0],\n",
       " '05-Jul-20': [12.0, 23.7, 3.0, 1019.0],\n",
       " '06-Jul-20': [10.0, 25.5, -1.0, 1015.0],\n",
       " '07-Jul-20': [14.0, 23.5, -2.0, 1013.0],\n",
       " '08-Jul-20': [11.0, 22.2, -2.0, 1014.0],\n",
       " '09-Jul-20': [7.0, 20.2, -1.0, 1001.0],\n",
       " '10-Jul-20': [11.0, 22.8, -1.0, 1029.0],\n",
       " '11-Jul-20': [14.0, 19.7, -2.0, 1008.0],\n",
       " '12-Jul-20': [15.0, 21.7, 1.0, 1008.0],\n",
       " '13-Jul-20': [9.0, 19.8, 5.0, 1014.0],\n",
       " '14-Jul-20': [12.0, 25.6, -2.0, 1012.0],\n",
       " '15-Jul-20': [11.0, 19.9, -1.0, 1018.0],\n",
       " '16-Jul-20': [9.0, 24.7, -2.0, 1003.0],\n",
       " '17-Jul-20': [9.0, 23.0, 1.0, 1011.0],\n",
       " '18-Jul-20': [10.0, 19.7, -1.0, 1003.0],\n",
       " '19-Jul-20': [14.0, 26.6, -0.0, 1018.0],\n",
       " '20-Jul-20': [16.0, 22.9, 1.0, 1022.0],\n",
       " '21-Jul-20': [13.0, 23.1, -0.0, 1015.0],\n",
       " '22-Jul-20': [14.0, 17.6, -2.0, 1001.0],\n",
       " '23-Jul-20': [14.0, 23.4, -2.0, 1004.0],\n",
       " '24-Jul-20': [12.0, 23.7, -2.0, 1010.0],\n",
       " '25-Jul-20': [8.0, 19.8, -2.0, 1008.0],\n",
       " '26-Jul-20': [15.0, 24.9, -2.0, 1007.0],\n",
       " '27-Jul-20': [14.0, 23.9, -2.0, 1009.0],\n",
       " '28-Jul-20': [9.0, 25.0, -2.0, 1009.0],\n",
       " '29-Jul-20': [7.0, 23.5, 4.0, 1011.0],\n",
       " '30-Jul-20': [11.0, 21.5, -2.0, 1021.0],\n",
       " '31-Jul-20': [11.0, 22.2, -1.0, 1011.0],\n",
       " '01-Aug-20': [10.0, 22.2, 16.0, 990.0],\n",
       " '02-Aug-20': [9.0, 21.4, -0.0, 1007.0],\n",
       " '03-Aug-20': [15.0, 21.6, 15.0, 1002.0],\n",
       " '04-Aug-20': [13.0, 18.8, -0.0, 1006.0],\n",
       " '05-Aug-20': [9.0, 18.1, 1.0, 1009.0],\n",
       " '06-Aug-20': [9.0, 19.4, 3.0, 1001.0],\n",
       " '07-Aug-20': [9.0, 20.4, -0.0, 1002.0],\n",
       " '08-Aug-20': [14.0, 20.9, -0.0, 1000.0],\n",
       " '09-Aug-20': [7.0, 23.2, -0.0, 1013.0],\n",
       " '10-Aug-20': [8.0, 21.3, -0.0, 1007.0],\n",
       " '11-Aug-20': [7.0, 19.8, -0.0, 1006.0],\n",
       " '12-Aug-20': [15.0, 19.9, -0.0, 1004.0],\n",
       " '13-Aug-20': [13.0, 17.9, -0.0, 1000.0],\n",
       " '14-Aug-20': [12.0, 19.2, 0.0, 1020.0],\n",
       " '15-Aug-20': [10.0, 21.8, -0.0, 1004.0],\n",
       " '16-Aug-20': [11.0, 17.4, -0.0, 1014.0],\n",
       " '17-Aug-20': [9.0, 20.9, -0.0, 1006.0],\n",
       " '18-Aug-20': [8.0, 19.4, 0.0, 1023.0],\n",
       " '19-Aug-20': [15.0, 23.2, -0.0, 995.0],\n",
       " '20-Aug-20': [12.0, 19.6, 1.0, 995.0],\n",
       " '21-Aug-20': [7.0, 20.5, -0.0, 1002.0],\n",
       " '22-Aug-20': [13.0, 21.7, -0.0, 1007.0],\n",
       " '23-Aug-20': [14.0, 24.3, -0.0, 1008.0],\n",
       " '24-Aug-20': [11.0, 17.6, 1.0, 997.0],\n",
       " '25-Aug-20': [10.0, 18.8, -0.0, 1003.0],\n",
       " '26-Aug-20': [12.0, 21.5, -0.0, 1010.0],\n",
       " '27-Aug-20': [13.0, 22.4, 0.0, 1003.0],\n",
       " '28-Aug-20': [10.0, 19.3, -0.0, 993.0],\n",
       " '29-Aug-20': [7.0, 19.4, -0.0, 1009.0],\n",
       " '30-Aug-20': [13.0, 18.7, 9.0, 1009.0],\n",
       " '31-Aug-20': [15.0, 22.1, 3.0, 1004.0],\n",
       " '01-Sep-20': [10.0, 23.2, 0.0, 1009.0],\n",
       " '02-Sep-20': [6.0, 15.4, 1.0, 1016.0],\n",
       " '03-Sep-20': [12.0, 18.7, 3.0, 1016.0],\n",
       " '04-Sep-20': [11.0, 24.2, 0.0, 1013.0],\n",
       " '05-Sep-20': [7.0, 19.9, 1.0, 1016.0],\n",
       " '06-Sep-20': [1.0, 17.9, 0.0, 1011.0],\n",
       " '07-Sep-20': [9.0, 16.1, 0.0, 1012.0],\n",
       " '08-Sep-20': [11.0, 16.8, 3.0, 1018.0],\n",
       " '09-Sep-20': [8.0, 17.5, 1.0, 1011.0],\n",
       " '10-Sep-20': [9.0, 24.0, 0.0, 1016.0],\n",
       " '11-Sep-20': [13.0, 15.9, 1.0, 988.0],\n",
       " '12-Sep-20': [6.0, 16.3, 0.0, 1002.0],\n",
       " '13-Sep-20': [3.0, 22.4, 0.0, 1000.0],\n",
       " '14-Sep-20': [11.0, 19.8, 0.0, 1028.0],\n",
       " '15-Sep-20': [10.0, 16.8, 0.0, 1018.0],\n",
       " '16-Sep-20': [11.0, 18.5, 0.0, 997.0],\n",
       " '17-Sep-20': [15.0, 17.1, 0.0, 1019.0],\n",
       " '18-Sep-20': [9.0, 20.5, 0.0, 1017.0],\n",
       " '19-Sep-20': [12.0, 20.5, 6.0, 1004.0],\n",
       " '20-Sep-20': [8.0, 18.3, 5.0, 1016.0],\n",
       " '21-Sep-20': [12.0, 21.3, 2.0, 1011.0],\n",
       " '22-Sep-20': [6.0, 17.3, 2.0, 1009.0],\n",
       " '23-Sep-20': [7.0, 18.1, 0.0, 1017.0],\n",
       " '24-Sep-20': [9.0, 18.3, 1.0, 1006.0],\n",
       " '25-Sep-20': [7.0, 20.4, 0.0, 1023.0],\n",
       " '26-Sep-20': [6.0, 19.0, 0.0, 1014.0],\n",
       " '27-Sep-20': [8.0, 21.4, 4.0, 1027.0],\n",
       " '28-Sep-20': [8.0, 22.0, 1.0, 1002.0],\n",
       " '29-Sep-20': [13.0, 19.4, 0.0, 1009.0],\n",
       " '30-Sep-20': [7.0, 15.0, 2.0, 1009.0],\n",
       " '01-Oct-20': [6.0, 14.9, -0.0, 1017.0],\n",
       " '02-Oct-20': [8.0, 13.6, -0.0, 1014.0],\n",
       " '03-Oct-20': [0.0, 14.2, -0.0, 1002.0],\n",
       " '04-Oct-20': [11.0, 13.7, -0.0, 1003.0],\n",
       " '05-Oct-20': [4.0, 13.7, -0.0, 1027.0],\n",
       " '06-Oct-20': [5.0, 18.5, -0.0, 978.0],\n",
       " '07-Oct-20': [8.0, 16.0, 1.0, 1006.0],\n",
       " '08-Oct-20': [16.0, 13.9, -0.0, 997.0],\n",
       " '09-Oct-20': [4.0, 16.1, -0.0, 1018.0],\n",
       " '10-Oct-20': [2.0, 16.3, 0.0, 1012.0],\n",
       " '11-Oct-20': [7.0, 17.0, 0.0, 1008.0],\n",
       " '12-Oct-20': [12.0, 9.8, -0.0, 1005.0],\n",
       " '13-Oct-20': [6.0, 13.2, -0.0, 985.0],\n",
       " '14-Oct-20': [9.0, 14.0, 1.0, 989.0],\n",
       " '15-Oct-20': [5.0, 16.1, 5.0, 992.0],\n",
       " '16-Oct-20': [3.0, 9.3, -0.0, 1000.0],\n",
       " '17-Oct-20': [9.0, 13.0, -0.0, 1004.0],\n",
       " '18-Oct-20': [11.0, 16.6, 2.0, 1019.0],\n",
       " '19-Oct-20': [2.0, 14.4, -0.0, 1009.0],\n",
       " '20-Oct-20': [7.0, 14.2, -0.0, 1008.0],\n",
       " '21-Oct-20': [6.0, 14.7, 9.0, 1007.0],\n",
       " '22-Oct-20': [5.0, 14.7, -0.0, 1006.0],\n",
       " '23-Oct-20': [11.0, 16.4, -0.0, 1025.0],\n",
       " '24-Oct-20': [8.0, 16.5, 2.0, 1007.0],\n",
       " '25-Oct-20': [4.0, 10.3, -0.0, 1003.0],\n",
       " '26-Oct-20': [10.0, 21.7, -0.0, 1013.0],\n",
       " '27-Oct-20': [12.0, 14.5, -0.0, 1012.0],\n",
       " '28-Oct-20': [11.0, 17.7, -0.0, 1001.0],\n",
       " '29-Oct-20': [9.0, 14.2, -0.0, 1006.0],\n",
       " '30-Oct-20': [9.0, 12.6, -0.0, 1007.0],\n",
       " '31-Oct-20': [11.0, 16.2, 3.0, 998.0],\n",
       " '01-Nov-20': [2.0, 9.2, 8.0, 1022.0],\n",
       " '02-Nov-20': [0.0, 13.1, 1.0, 1012.0],\n",
       " '03-Nov-20': [9.0, 10.5, 0.0, 1009.0],\n",
       " '04-Nov-20': [5.0, 11.9, 1.0, 993.0],\n",
       " '05-Nov-20': [4.0, 7.5, 3.0, 1003.0],\n",
       " '06-Nov-20': [6.0, 10.3, 15.0, 997.0],\n",
       " '07-Nov-20': [3.0, 11.9, 1.0, 1027.0],\n",
       " '08-Nov-20': [2.0, 7.6, 2.0, 1001.0],\n",
       " '09-Nov-20': [-1.0, 15.0, 1.0, 1021.0],\n",
       " '10-Nov-20': [-2.0, 6.7, 0.0, 1032.0],\n",
       " '11-Nov-20': [5.0, 7.9, 0.0, 1004.0],\n",
       " '12-Nov-20': [4.0, 11.4, 1.0, 979.0],\n",
       " '13-Nov-20': [3.0, 8.3, 0.0, 986.0],\n",
       " '14-Nov-20': [7.0, 13.2, 1.0, 1026.0],\n",
       " '15-Nov-20': [0.0, 6.6, 0.0, 995.0],\n",
       " '16-Nov-20': [2.0, 9.9, 9.0, 1003.0],\n",
       " '17-Nov-20': [4.0, 11.0, 1.0, 997.0],\n",
       " '18-Nov-20': [4.0, 9.8, 0.0, 1007.0],\n",
       " '19-Nov-20': [8.0, 4.4, 1.0, 1010.0],\n",
       " '20-Nov-20': [7.0, 12.2, 1.0, 1016.0],\n",
       " '21-Nov-20': [-0.0, -0.4, 1.0, 1011.0],\n",
       " '22-Nov-20': [2.0, 7.5, 0.0, 1026.0],\n",
       " '23-Nov-20': [-0.0, 9.6, 1.0, 1010.0],\n",
       " '24-Nov-20': [8.0, 10.1, 4.0, 992.0],\n",
       " '25-Nov-20': [4.0, 9.3, 0.0, 1012.0],\n",
       " '26-Nov-20': [-4.0, 10.1, 0.0, 999.0],\n",
       " '27-Nov-20': [6.0, 6.1, 5.0, 1010.0],\n",
       " '28-Nov-20': [2.0, 5.9, 4.0, 1003.0],\n",
       " '29-Nov-20': [6.0, 12.2, 0.0, 1017.0],\n",
       " '30-Nov-20': [6.0, 11.6, 0.0, 1011.0],\n",
       " '01-Dec-20': [-5.0, 10.2, 1.0, 984.0],\n",
       " '02-Dec-20': [5.0, 12.0, 2.0, 1009.0],\n",
       " '03-Dec-20': [3.0, 6.8, 1.0, 1004.0],\n",
       " '04-Dec-20': [7.0, 13.8, 13.0, 1033.0],\n",
       " '05-Dec-20': [12.0, 18.2, 2.0, 981.0],\n",
       " '06-Dec-20': [8.0, 9.3, 2.0, 1022.0],\n",
       " '07-Dec-20': [8.0, 10.8, 1.0, 1000.0],\n",
       " '08-Dec-20': [1.0, 6.9, 1.0, 993.0],\n",
       " '09-Dec-20': [8.0, 11.3, 1.0, 1026.0],\n",
       " '10-Dec-20': [12.0, 12.6, 1.0, 992.0],\n",
       " '11-Dec-20': [4.0, 11.7, 1.0, 1009.0],\n",
       " '12-Dec-20': [5.0, 6.6, 15.0, 1010.0],\n",
       " '13-Dec-20': [4.0, 12.3, 5.0, 997.0],\n",
       " '14-Dec-20': [4.0, 9.0, 1.0, 1001.0],\n",
       " '15-Dec-20': [8.0, 4.2, 1.0, 1016.0],\n",
       " '16-Dec-20': [-0.0, 14.3, 2.0, 1016.0],\n",
       " '17-Dec-20': [2.0, 14.5, 1.0, 1017.0],\n",
       " '18-Dec-20': [8.0, 13.1, 6.0, 976.0],\n",
       " '19-Dec-20': [7.0, 9.2, 2.0, 1020.0],\n",
       " '20-Dec-20': [6.0, 7.8, 5.0, 1019.0],\n",
       " '21-Dec-20': [10.0, 9.7, 1.0, 1005.0],\n",
       " '22-Dec-20': [5.0, 16.7, 6.0, 1012.0],\n",
       " '23-Dec-20': [6.0, 4.6, 1.0, 1016.0],\n",
       " '24-Dec-20': [-7.0, 8.7, 1.0, 1017.0],\n",
       " '25-Dec-20': [0.0, 14.4, 3.0, 1023.0],\n",
       " '26-Dec-20': [5.0, 14.0, 3.0, 1029.0],\n",
       " '27-Dec-20': [3.0, 6.6, 1.0, 969.0],\n",
       " '28-Dec-20': [0.0, 12.2, 1.0, 988.0],\n",
       " '29-Dec-20': [7.0, 16.3, 1.0, 1030.0],\n",
       " '30-Dec-20': [-6.0, 18.1, 8.0, 1006.0],\n",
       " '31-Dec-20': [6.0, 12.5, 1.0, 1021.0]}"
      ]
     },
     "execution_count": 232,
     "metadata": {},
     "output_type": "execute_result"
    }
   ],
   "source": [
    "list_of_lists = [odates,spx_mintp_new,spx_maxtp_new,spx_rain_new,spx_cbl_new]\n",
    "{z[0]:list(z[1:]) for z in zip(*list_of_lists)} "
   ]
  },
  {
   "cell_type": "code",
   "execution_count": null,
   "metadata": {},
   "outputs": [],
   "source": []
  }
 ],
 "metadata": {
  "kernelspec": {
   "display_name": "Python 3",
   "language": "python",
   "name": "python3"
  },
  "language_info": {
   "codemirror_mode": {
    "name": "ipython",
    "version": 3
   },
   "file_extension": ".py",
   "mimetype": "text/x-python",
   "name": "python",
   "nbconvert_exporter": "python",
   "pygments_lexer": "ipython3",
   "version": "3.7.3"
  }
 },
 "nbformat": 4,
 "nbformat_minor": 2
}
