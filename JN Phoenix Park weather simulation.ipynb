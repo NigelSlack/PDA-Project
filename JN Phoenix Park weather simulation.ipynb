{
 "cells": [
  {
   "cell_type": "markdown",
   "metadata": {},
   "source": [
    "**Creation of simulated dataset of climate variables, based on Phoenix Park, Dublin weather station**   \n",
    "As explained in the README file for this repository, this notebook aims to generate simulated data, based on analysis of government provided actual readings, for rainfall, atmospheric pressure, and minimum and maximum temperatures on a daily basis from the Phoenix Park weather station.  \n",
    "\n",
    "Climate predictions are of highly significant importance with concerns about human induced global warming.  \n",
    "\n",
    "We start by getting the actual historical data that has been downloaded from the government website into an Excel spreadsheet, and then exported to a csv file. The non-data header rows, plus columns for variables that are not being examined have been removed from the file, along with incomplete rows of data.  \n",
    "\n",
    "The pandas and matplotlib packages are imported for processing the input data.  \n",
    "The csv file is first loaded into a Pandas dataframe, and we get the data type for each column :  \n",
    "(ref https://www.shanelynn.ie/python-pandas-read_csv-load-data-from-csv-files/)  \n",
    "(ref https://pandas.pydata.org/pandas-docs/stable/reference/api/pandas.DataFrame.dtypes.html)\n"
   ]
  },
  {
   "cell_type": "code",
   "execution_count": 14,
   "metadata": {
    "scrolled": false
   },
   "outputs": [
    {
     "name": "stdout",
     "output_type": "stream",
     "text": [
      "date      object\n",
      "maxtp    float64\n",
      "mintp    float64\n",
      "rain     float64\n",
      "cbl       object\n",
      "dtype: object\n"
     ]
    }
   ],
   "source": [
    "import pandas as pd\n",
    "import matplotlib.pyplot as plt\n",
    "import numpy as np\n",
    "df = pd.read_csv('Phoenix Park weather data.csv')\n",
    "print (df.dtypes)\n",
    "# df = pd.read_csv('Phoenix Park weather data.csv')"
   ]
  },
  {
   "cell_type": "markdown",
   "metadata": {},
   "source": [
    "'cbl' is the 'convective boundary layer' - the layer of the earth's atmosphere most affected by the heating effect of the sun on the earth's surface. So the 'cbl' column here, which is for a ground based weather station, is the atmospheric pressure at ground level. \n",
    "(ref https://en.wikipedia.org/wiki/Convective_planetary_boundary_layer)\n",
    "\n",
    "Display the first few rows from the spreadsheet and count the number of rows :\n",
    "(ref https://www.shanelynn.ie/select-pandas-dataframe-rows-and-columns-using-iloc-loc-and-ix/)  \n",
    "(ref https://stackoverflow.com/questions/15943769/how-do-i-get-the-row-count-of-a-pandas-dataframe)"
   ]
  },
  {
   "cell_type": "code",
   "execution_count": 2,
   "metadata": {},
   "outputs": [
    {
     "name": "stdout",
     "output_type": "stream",
     "text": [
      "         date  maxtp  mintp  rain     cbl\n",
      "0   01-Jan-06    8.2    2.9   0.0  1002.8\n",
      "1   02-Jan-06   10.6    0.7   0.0  1016.5\n",
      "2   03-Jan-06   10.9    0.0   0.2  1020.5\n",
      "3   04-Jan-06    7.2   -1.6   0.0  1022.5\n",
      "4   05-Jan-06    6.4    4.1   0.0  1014.6\n",
      "5   06-Jan-06    5.1    1.1   0.0  1015.6\n",
      "6   07-Jan-06    4.7    1.7   0.0  1017.9\n",
      "7   08-Jan-06    5.9   -2.7   1.3  1019.2\n",
      "8   09-Jan-06   10.5   -4.2   0.0  1014.5\n",
      "9   10-Jan-06   12.9    8.0   9.6  1002.3\n",
      "10  11-Jan-06    9.0    4.1   0.3  1007.6\n",
      "11  12-Jan-06   12.5    4.6   0.0  1011.6 0\n",
      " \n",
      "Number of rows  4743\n"
     ]
    }
   ],
   "source": [
    "print(df.iloc[0:12],0)\n",
    "print(' ')\n",
    "print('Number of rows ' , len(df.index))"
   ]
  },
  {
   "cell_type": "markdown",
   "metadata": {},
   "source": [
    "There are many data rows, so make sure programatically that none of them contain null values - as this would affect the statistical values such as 'mean' that will be used to create the simulated data.\n",
    "(ref https://stackoverflow.com/questions/43424199/display-rows-with-one-or-more-nan-values-in-pandas-dataframe)"
   ]
  },
  {
   "cell_type": "code",
   "execution_count": 3,
   "metadata": {},
   "outputs": [
    {
     "name": "stdout",
     "output_type": "stream",
     "text": [
      "0\n"
     ]
    }
   ],
   "source": [
    "df1 = df[df.isna().any(axis=1)]\n",
    "print (len(df1))"
   ]
  },
  {
   "cell_type": "markdown",
   "metadata": {},
   "source": [
    "There aren't any null values, so we needn't worry about this.\n",
    "Set the dataframe index to the date column - this is unique"
   ]
  },
  {
   "cell_type": "code",
   "execution_count": 4,
   "metadata": {},
   "outputs": [
    {
     "name": "stdout",
     "output_type": "stream",
     "text": [
      "date\n",
      "maxtp\n",
      "mintp\n",
      "rain\n",
      "cbl\n"
     ]
    }
   ],
   "source": [
    "#print(df.iloc[0])\n",
    "for col in df.columns: \n",
    "    print(col)"
   ]
  },
  {
   "cell_type": "code",
   "execution_count": 7,
   "metadata": {},
   "outputs": [
    {
     "name": "stdout",
     "output_type": "stream",
     "text": [
      "        date  maxtp  mintp  rain     cbl\n",
      "0  01-Jan-06    8.2    2.9   0.0  1002.8\n",
      "1  02-Jan-06   10.6    0.7   0.0  1016.5\n",
      "2  03-Jan-06   10.9    0.0   0.2  1020.5\n",
      "3  04-Jan-06    7.2   -1.6   0.0  1022.5\n",
      "4  05-Jan-06    6.4    4.1   0.0  1014.6\n",
      "5  06-Jan-06    5.1    1.1   0.0  1015.6\n",
      "6  07-Jan-06    4.7    1.7   0.0  1017.9\n",
      "7  08-Jan-06    5.9   -2.7   1.3  1019.2\n",
      "8  09-Jan-06   10.5   -4.2   0.0  1014.5\n",
      "9  10-Jan-06   12.9    8.0   9.6  1002.3\n"
     ]
    }
   ],
   "source": [
    "df.set_index('date')\n",
    "print(df.iloc[0:10])"
   ]
  },
  {
   "cell_type": "markdown",
   "metadata": {},
   "source": [
    "Extract the data for each month :\n",
    "(ref https://stackoverflow.com/questions/27975069/how-to-filter-rows-containing-a-string-pattern-from-a-pandas-dataframe)"
   ]
  },
  {
   "cell_type": "code",
   "execution_count": 13,
   "metadata": {
    "scrolled": true
   },
   "outputs": [
    {
     "name": "stdout",
     "output_type": "stream",
     "text": [
      "date     31-Jan-19\n",
      "maxtp         15.1\n",
      "mintp         12.6\n",
      "rain          23.6\n",
      "cbl          999.9\n",
      "dtype: object\n"
     ]
    }
   ],
   "source": [
    "months = ['Jan','Feb','Mar','Apr','May','Jun','Jul','Aug','Sep','Oct','Nov','Dec']\n",
    "i=0\n",
    "for mon in months:\n",
    "    if i==0:\n",
    "      mon=df[df['date'].str.contains(mon)]\n",
    "      print(mon.max())\n",
    "#      print(mon['cbl'])\n",
    "#    print(mon)\n",
    "#   plt.hist(mon['cbl'])\n",
    "#    plt.xlabel('Minimum Temperature')\n",
    "#    plt.title(months[i])\n",
    "#    plt.show()\n",
    "    i+=1\n",
    "\n",
    "pr=[1024,998,1016]    \n",
    "    \n",
    "#dm=[]\n",
    "#dm[0] = df[df['date'].str.contains(mon[0])]\n",
    "\n",
    "#print(dfjan)\n",
    "#plt.hist(dm[0]['mintp'])\n",
    "#plt.show()\n",
    "#plt.hist(np.random.gamma(0.3,5,500))"
   ]
  },
  {
   "cell_type": "markdown",
   "metadata": {},
   "source": [
    "Analysis of Irish climate records by a team at Maynooth university on behalf of the Environmental Protection Agency demonstrate that a Gamma probability distribution may be used to model winter and summer precipitation levels, and a Normal distribution for summer temperatures. \n",
    "http://www.epa.ie/pubs/reports/research/climate/Reserach_Report_277.pdf"
   ]
  }
 ],
 "metadata": {
  "kernelspec": {
   "display_name": "Python 3",
   "language": "python",
   "name": "python3"
  },
  "language_info": {
   "codemirror_mode": {
    "name": "ipython",
    "version": 3
   },
   "file_extension": ".py",
   "mimetype": "text/x-python",
   "name": "python",
   "nbconvert_exporter": "python",
   "pygments_lexer": "ipython3",
   "version": "3.7.3"
  }
 },
 "nbformat": 4,
 "nbformat_minor": 2
}
