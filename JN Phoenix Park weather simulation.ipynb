{
 "cells": [
  {
   "cell_type": "markdown",
   "metadata": {},
   "source": [
    "**Creation of simulated dataset of climate variables, based on Phoenix Park, Dublin weather station**   \n",
    "As explained in the README file for this repository, this notebook aims to generate simulated data, based on analysis of government provided actual readings, for rainfall, atmospheric pressure, and minimum and maximum temperatures on a daily basis from the Phoenix Park weather station.  \n",
    "\n",
    "Climate predictions are of highly significant importance with concerns about human induced global warming.  \n",
    "\n",
    "The actual historical data was downloaded from the government website into an Excel spreadsheet, and then exported to a csv file. The non-data header rows, plus columns for variables that are not being examined have been removed from the file, along with incomplete rows of data.  \n",
    "\n",
    "The pandas and matplotlib packages are imported for processing the input data.  \n",
    "The csv file is first loaded into a Pandas dataframe, and we get the data type for each column :  \n",
    "(ref https://www.shanelynn.ie/python-pandas-read_csv-load-data-from-csv-files/)  \n",
    "(ref https://pandas.pydata.org/pandas-docs/stable/reference/api/pandas.DataFrame.dtypes.html)\n"
   ]
  },
  {
   "cell_type": "code",
   "execution_count": 1,
   "metadata": {
    "scrolled": false
   },
   "outputs": [
    {
     "name": "stdout",
     "output_type": "stream",
     "text": [
      "date      object\n",
      "maxtp    float64\n",
      "mintp    float64\n",
      "rain     float64\n",
      "cbl      float64\n",
      "dtype: object\n"
     ]
    }
   ],
   "source": [
    "import pandas as pd\n",
    "import matplotlib.pyplot as plt\n",
    "import numpy as np\n",
    "df = pd.read_csv('Phoenix Park weather data.csv')\n",
    "print (df.dtypes)\n",
    "# df = pd.read_csv('Phoenix Park weather data.csv')"
   ]
  },
  {
   "cell_type": "markdown",
   "metadata": {},
   "source": [
    "'cbl' is the 'convective boundary layer' - the layer of the earth's atmosphere most affected by the heating effect of the sun on the earth's surface. So the 'cbl' column here, which is for a ground based weather station, is the atmospheric pressure at ground level. \n",
    "(ref https://en.wikipedia.org/wiki/Convective_planetary_boundary_layer)\n",
    "\n",
    "Display the first few rows from the spreadsheet and count the number of rows :\n",
    "(ref https://www.shanelynn.ie/select-pandas-dataframe-rows-and-columns-using-iloc-loc-and-ix/)  \n",
    "(ref https://stackoverflow.com/questions/15943769/how-do-i-get-the-row-count-of-a-pandas-dataframe)"
   ]
  },
  {
   "cell_type": "code",
   "execution_count": 7,
   "metadata": {
    "scrolled": true
   },
   "outputs": [
    {
     "name": "stdout",
     "output_type": "stream",
     "text": [
      "         date  maxtp  mintp  rain     cbl\n",
      "0   01-Jan-06    8.2    2.9   0.0  1002.8\n",
      "1   02-Jan-06   10.6    0.7   0.0  1016.5\n",
      "2   03-Jan-06   10.9    0.0   0.2  1020.5\n",
      "3   04-Jan-06    7.2   -1.6   0.0  1022.5\n",
      "4   05-Jan-06    6.4    4.1   0.0  1014.6\n",
      "5   06-Jan-06    5.1    1.1   0.0  1015.6\n",
      "6   07-Jan-06    4.7    1.7   0.0  1017.9\n",
      "7   08-Jan-06    5.9   -2.7   1.3  1019.2\n",
      "8   09-Jan-06   10.5   -4.2   0.0  1014.5\n",
      "9   10-Jan-06   12.9    8.0   9.6  1002.3\n",
      "10  11-Jan-06    9.0    4.1   0.3  1007.6\n",
      "11  12-Jan-06   12.5    4.6   0.0  1011.6 0\n",
      " \n",
      "Number of rows  4742\n"
     ]
    }
   ],
   "source": [
    "print(df.iloc[0:12],0)\n",
    "print(' ')\n",
    "print('Number of rows ' , len(df.index))"
   ]
  },
  {
   "cell_type": "markdown",
   "metadata": {},
   "source": [
    "There are many data rows, so make sure programatically that none of them contain null values - as this would affect the statistical values such as 'mean' that will be used to create the simulated data.\n",
    "(ref https://stackoverflow.com/questions/43424199/display-rows-with-one-or-more-nan-values-in-pandas-dataframe)"
   ]
  },
  {
   "cell_type": "code",
   "execution_count": 9,
   "metadata": {},
   "outputs": [
    {
     "name": "stdout",
     "output_type": "stream",
     "text": [
      "0\n"
     ]
    }
   ],
   "source": [
    "df1 = df[df.isna().any(axis=1)]\n",
    "print (len(df1))"
   ]
  },
  {
   "cell_type": "markdown",
   "metadata": {},
   "source": [
    "There aren't any null values, so we needn't worry about this.\n",
    "Set the dataframe index to the date column - this is unique"
   ]
  },
  {
   "cell_type": "code",
   "execution_count": 10,
   "metadata": {},
   "outputs": [
    {
     "name": "stdout",
     "output_type": "stream",
     "text": [
      "date\n",
      "maxtp\n",
      "mintp\n",
      "rain\n",
      "cbl\n"
     ]
    }
   ],
   "source": [
    "#print(df.iloc[0])\n",
    "for col in df.columns: \n",
    "    print(col)"
   ]
  },
  {
   "cell_type": "code",
   "execution_count": null,
   "metadata": {},
   "outputs": [],
   "source": [
    "df.set_index('date')\n",
    "print(df.iloc[0:10])"
   ]
  },
  {
   "cell_type": "markdown",
   "metadata": {},
   "source": [
    "Break down the actual data by month, so we can build up our simulated data on a monthly basis. Extract the data for each month into a separate dataframe, to make it easy to plot and analyse at this scale :  \n",
    "(ref https://stackoverflow.com/questions/27975069/how-to-filter-rows-containing-a-string-pattern-from-a-pandas-dataframe)"
   ]
  },
  {
   "cell_type": "code",
   "execution_count": null,
   "metadata": {},
   "outputs": [],
   "source": [
    "months = ['Jan','Feb','Mar','Apr','May','Jun','Jul','Aug','Sep','Oct','Nov','Dec']\n",
    "mx={}\n",
    "i=0\n",
    "for mon in months:\n",
    "    mx[i]=df[df['date'].str.contains(mon)]\n",
    "    i+=1\n",
    "    "
   ]
  },
  {
   "cell_type": "markdown",
   "metadata": {},
   "source": []
  },
  {
   "cell_type": "code",
   "execution_count": null,
   "metadata": {},
   "outputs": [],
   "source": [
    "from scipy.stats import shapiro\n",
    "i=0\n",
    "for i in range(12):\n",
    "    stat, p = shapiro(mx[i]['cbl'])\n",
    "#    print(months[i])\n",
    "#    print('Statistics=%.3f, p=%.3f' % (stat, p))\n",
    "# interpret\n",
    "    alpha = 0.05\n",
    "#    if p > alpha:\n",
    "#    \tprint('Sample looks Gaussian (fail to reject H0)')\n",
    "#    else:\n",
    "#    \tprint('Sample does not look Gaussian (reject H0)')\n",
    "    i+=1    \n",
    "    "
   ]
  },
  {
   "cell_type": "markdown",
   "metadata": {},
   "source": [
    "Analysis of Irish climate records by a team at Maynooth university on behalf of the Environmental Protection Agency demonstrate that a Gamma probability distribution may be used to model winter and summer precipitation levels, and a Normal distribution for summer temperatures.  \n",
    "http://www.epa.ie/pubs/reports/research/climate/Reserach_Report_277.pdf\n",
    "\n",
    "Plot histograms for each month for each of the variables 'Max Temp', 'Min Temp', 'Rain' and 'Cbl' (pressure), to get an idea of what their distributions look like for this dataset. Use tight_layout so the title and axes labels don't overlap. Start with Max Temp:   \n",
    "(ref https://stackoverflow.com/questions/47467077/python-plot-multiple-histograms)  \n",
    "(ref https://matplotlib.org/users/tight_layout_guide.html)"
   ]
  },
  {
   "cell_type": "code",
   "execution_count": 14,
   "metadata": {
    "scrolled": true
   },
   "outputs": [
    {
     "data": {
      "image/png": "[encoded data removed]",
      "text/plain": [
       "<Figure size 720x720 with 12 Axes>"
      ]
     },
     "metadata": {
      "needs_background": "light"
     },
     "output_type": "display_data"
    }
   ],
   "source": [
    "fig, axes = plt.subplots(nrows=4, ncols=3, figsize=(10, 10))\n",
    "i = 0\n",
    "for i1 in range(4):\n",
    "    for i2 in range(3):\n",
    "        ax = axes[i1][i2]\n",
    "        ax.hist(mx[i]['maxtp'], bins=10, color='blue', alpha=0.5)\n",
    "        ax.set_xlabel('Max Temp (C)')\n",
    "        ax.set_title(months[i] + \" - maxtp\")\n",
    "        ax.set_ylabel('Occurences')\n",
    "        i+= 1\n",
    "\n",
    "plt.tight_layout()\n",
    "plt.show()\n",
    "\n",
    "#plt.hist(np.random.gamma(0.3,5,395))"
   ]
  },
  {
   "cell_type": "markdown",
   "metadata": {},
   "source": [
    "It looks like the data for some months has a Normal distribution, but perhaps not for other months, eg December which is skewed to the right. Use a statistical test to check for Normality - the Shapiro-Wilks test  \n",
    "(ref https://machinelearningmastery.com/a-gentle-introduction-to-normality-tests-in-python/)"
   ]
  },
  {
   "cell_type": "code",
   "execution_count": null,
   "metadata": {},
   "outputs": [],
   "source": [
    "from scipy.stats import shapiro\n",
    "i=0\n",
    "for i in range(12):\n",
    "    stat, p = shapiro(mx[i]['cbl'])\n",
    "#    print(months[i])\n",
    "#    print('Statistics=%.3f, p=%.3f' % (stat, p))\n",
    "# interpret\n",
    "    alpha = 0.05\n",
    "#    if p > alpha:\n",
    "#    \tprint('Sample looks Gaussian (fail to reject H0)')\n",
    "#    else:\n",
    "#    \tprint('Sample does not look Gaussian (reject H0)')\n",
    "    i+=1 "
   ]
  },
  {
   "cell_type": "markdown",
   "metadata": {},
   "source": [
    "\n",
    "Check for the best distribution to fit the data :  \n",
    "(ref https://stackoverflow.com/questions/6620471/fitting-empirical-distribution-to-theoretical-ones-with-scipy-python)"
   ]
  },
  {
   "cell_type": "code",
   "execution_count": 33,
   "metadata": {},
   "outputs": [
    {
     "name": "stdout",
     "output_type": "stream",
     "text": [
      "Trying -  maxtp   Jan\n",
      "maxtp   Jan  -  gennorm (2.586074879547363, 8.174485373899781, 4.795298997351071)\n",
      "Trying -  maxtp   Feb\n",
      "maxtp   Feb  -  gennorm (2.2307302764163928, 8.899596302922422, 4.280287548335499)\n",
      "Trying -  maxtp   Mar\n",
      "maxtp   Mar  -  burr (14.538120112989903, 0.4280307023667314, -6.1349321461741955, 18.56672744675449)\n",
      "Trying -  maxtp   Apr\n",
      "maxtp   Apr  -  betaprime (73.76567091802957, 3614.409496318214, -12.68988167782868, 1272.0220024366363)\n",
      "Trying -  maxtp   May\n",
      "maxtp   May  -  genlogistic (2.0681552755109758, 13.997189025999216, 1.9914126113692392)\n",
      "Trying -  maxtp   Jun\n",
      "maxtp   Jun  -  dweibull (1.2245089116930137, 18.55719117732851, 2.365868519800159)\n",
      "Trying -  maxtp   Jul\n",
      "maxtp   Jul  -  dgamma (1.615000256213114, 20.04194611330634, 1.2206783403200188)\n",
      "Trying -  maxtp   Aug\n",
      "maxtp   Aug  -  dweibull (1.3862991243803693, 19.7214034074751, 1.7317281486894287)\n",
      "Trying -  maxtp   Sep\n",
      "maxtp   Sep  -  hypsecant (17.655530554623397, 1.5734373804793897)\n",
      "Trying -  maxtp   Oct\n",
      "maxtp   Oct  -  dgamma (1.3899304971365731, 14.455438488176483, 1.3279913654461315)\n",
      "Trying -  maxtp   Nov\n",
      "maxtp   Nov  -  tukeylambda (0.030208860269439933, 10.719192398741306, 1.729944859499894)\n",
      "Trying -  maxtp   Dec\n",
      "maxtp   Dec  -  weibull_max (2.2504451768568607, 16.34221204100089, 8.732629599679495)\n",
      "Trying -  mintp   Jan\n",
      "mintp   Jan  -  dweibull (1.3345390760799392, 2.157591305558917, 2.9503872253639787)\n",
      "Trying -  mintp   Feb\n",
      "mintp   Feb  -  powernorm (0.14493758877338558, -2.1560807065650804, 1.7152570482330427)\n",
      "Trying -  mintp   Mar\n",
      "mintp   Mar  -  alpha (18.449554746283845, -55.134577605982315, 1061.710374919187)\n",
      "Trying -  mintp   Apr\n",
      "mintp   Apr  -  johnsonsb (0.5665715800432698, 2.099068994039438, -7.068769011322705, 26.424443926448916)\n",
      "Trying -  mintp   May\n",
      "mintp   May  -  gennorm (2.756770893212395, 7.029236659417672, 4.302334326031542)\n",
      "Trying -  mintp   Jun\n",
      "mintp   Jun  -  gennorm (2.706540858325214, 9.529180184729352, 3.8766598691733956)\n",
      "Trying -  mintp   Jul\n",
      "mintp   Jul  -  burr (8.613217320835155, 0.2582210995401789, 4.990167990479657, 8.803151456560059)\n",
      "Trying -  mintp   Aug\n",
      "mintp   Aug  -  gennorm (2.454109696133928, 11.036035901881899, 3.7573276446735595)\n",
      "Trying -  mintp   Sep\n",
      "mintp   Sep  -  genextreme (0.2362218134281488, 8.062044552386352, 2.7848138217632195)\n",
      "Trying -  mintp   Oct\n",
      "mintp   Oct  -  dweibull (1.4567458178223047, 6.936585276486147, 3.221695528466257)\n",
      "Trying -  mintp   Nov\n",
      "mintp   Nov  -  dweibull (1.3104430527624347, 4.530804664162204, 3.129163836390462)\n",
      "Trying -  mintp   Dec\n",
      "mintp   Dec  -  dweibull (1.2498544861438656, 2.539486562542685, 3.487603932692167)\n",
      "Trying -  rain   Jan\n",
      "rain   Jan  -  loglaplace (0.4399744007026657, -2.7758230442136885e-26, 0.1341348420322625)\n",
      "Trying -  rain   Feb\n",
      "rain   Feb  -  alpha (3.326409707816354e-06, -0.09028584244850582, 0.13721583785724423)\n",
      "Trying -  rain   Mar\n",
      "rain   Mar  -  betaprime (0.4257590944396997, 0.980687032595654, -1.2737467566356847e-29, 0.17395416064726685)\n",
      "Trying -  rain   Apr\n",
      "rain   Apr  -  alpha (1.5626258655805913e-06, -0.03256113589758306, 0.04769793694595478)\n",
      "Trying -  rain   May\n",
      "rain   May  -  pareto (0.7687054719430451, -0.02073109636718806, 0.020731095467638197)\n",
      "Trying -  rain   Jun\n",
      "rain   Jun  -  halfcauchy (-6.796171570497298e-09, 0.07071546772210485)\n",
      "Trying -  rain   Jul\n",
      "rain   Jul  -  alpha (1.9942280969437986e-06, -0.14881367382592137, 0.2308810509806592)\n",
      "Trying -  rain   Aug\n",
      "rain   Aug  -  alpha (4.105982451430629e-06, -0.17098200774760514, 0.27705764823781553)\n",
      "Trying -  rain   Sep\n",
      "rain   Sep  -  alpha (1.198733904881736e-07, -0.0932962976224267, 0.14220438529187196)\n",
      "Trying -  rain   Oct\n",
      "rain   Oct  -  alpha (1.321586982446105e-07, -0.11523101004955025, 0.18769019899740813)\n",
      "Trying -  rain   Nov\n",
      "rain   Nov  -  gennorm (0.24798263960211514, 0.09999999999999998, 0.0025515780634847527)\n",
      "Trying -  rain   Dec\n",
      "rain   Dec  -  norminvgauss (49.936106763175175, 49.93610433778838, -0.01195212272247602, 0.0007471680357005587)\n",
      "Trying -  cbl   Jan\n",
      "cbl   Jan  -  gausshyper (0.8054989573296725, 3.6156112106413145, -4.280894537163702, 4.04950312523914, 970.7999999999998, 74.15190810838334)\n",
      "Trying -  cbl   Feb\n",
      "cbl   Feb  -  johnsonsb (-0.7897631163631925, 1.2309833437142748, 946.4714550551671, 93.86214748285333)\n",
      "Trying -  cbl   Mar\n",
      "cbl   Mar  -  beta (3.534471803844926, 1.9351268211872807, 958.8819779155717, 75.56685213286121)\n",
      "Trying -  cbl   Apr\n",
      "cbl   Apr  -  triang (0.720927966517555, 977.3166836360886, 54.21251041202899)\n",
      "Trying -  cbl   May\n",
      "cbl   May  -  dgamma (1.5486271191004004, 1009.125476456995, 4.138731203481713)\n",
      "Trying -  cbl   Jun\n",
      "cbl   Jun  -  burr12 (197.4466773306262, 1.2704641397859433, -1.1236137890862214, 1012.5116890396749)\n",
      "Trying -  cbl   Jul\n",
      "cbl   Jul  -  skewnorm (-1.209558397800579, 1013.6811305793628, 9.564638892310409)\n",
      "Trying -  cbl   Aug\n",
      "cbl   Aug  -  johnsonsb (-2.193801217588538, 3.269780862080688, 935.5135841190513, 108.86815795076639)\n",
      "Trying -  cbl   Sep\n",
      "cbl   Sep  -  skewnorm (-1.9034697462070531, 1020.1540073004066, 14.120843641626905)\n",
      "Trying -  cbl   Oct\n",
      "cbl   Oct  -  johnsonsb (-0.7445475811116826, 1.5995649193084003, 960.01013658378, 78.59082834561639)\n",
      "Trying -  cbl   Nov\n",
      "cbl   Nov  -  johnsonsb (-0.6345389057233314, 1.8129271019342612, 945.5255874861421, 101.62876210866652)\n",
      "Trying -  cbl   Dec\n",
      "cbl   Dec  -  gausshyper (4.586882152668283, 2.280109149372806, 0.9133210514950671, 4.25100583269284, 955.9388441984963, 79.96224141649085)\n"
     ]
    }
   ],
   "source": [
    "%matplotlib inline\n",
    "\n",
    "import warnings\n",
    "import numpy as np\n",
    "import pandas as pd\n",
    "import scipy.stats as st\n",
    "import statsmodels as sm\n",
    "import matplotlib\n",
    "import matplotlib.pyplot as plt\n",
    "from scipy.stats._continuous_distns import _distn_names\n",
    "\n",
    "matplotlib.rcParams['figure.figsize'] = (16.0, 12.0)\n",
    "matplotlib.style.use('ggplot')\n",
    "\n",
    "# Create models from data\n",
    "def best_fit_distribution(data, bins=200, ax=None):\n",
    "    \"\"\"Model data by finding best fit distribution to data\"\"\"\n",
    "    # Get histogram of original data\n",
    "    y, x = np.histogram(data, bins=bins, density=True)\n",
    "    x = (x + np.roll(x, -1))[:-1] / 2.0\n",
    "\n",
    "    # Distributions to check\n",
    "    # Best holders\n",
    "    best_distribution = st.norm\n",
    "    best_params = (0.0, 1.0)\n",
    "    best_sse = np.inf\n",
    "    if 'levy_stable' in _distn_names:\n",
    "        _distn_names.remove('levy_stable')\n",
    "    # Estimate distribution parameters from data\n",
    "    for distname in _distn_names:\n",
    "        distribution=getattr(st, distname)\n",
    "   # for distribution in DISTRIBUTIONS:\n",
    "# Remove the 'levy_stable' distribution, as it causes processing to hang\n",
    "# (ref https://www.programiz.com/python-programming/methods/list/remove)\n",
    "#        print('trying now ',distribution)\n",
    "\n",
    "        # Try to fit the distribution\n",
    "        try:\n",
    "            # Ignore warnings from data that can't be fit\n",
    "            with warnings.catch_warnings():\n",
    "                warnings.filterwarnings('ignore')\n",
    "\n",
    "                # fit dist to data\n",
    "                params = distribution.fit(data)\n",
    "\n",
    "                # Separate parts of parameters\n",
    "                arg = params[:-2]\n",
    "                loc = params[-2]\n",
    "                scale = params[-1]\n",
    "\n",
    "                # Calculate fitted PDF and error with fit in distribution\n",
    "                pdf = distribution.pdf(x, loc=loc, scale=scale, *arg)\n",
    "                sse = np.sum(np.power(y - pdf, 2.0))\n",
    "\n",
    "                # if axis pass in add to plot\n",
    "                try:\n",
    "                    if ax:\n",
    "                        pd.Series(pdf, x).plot(ax=ax)\n",
    "                    end\n",
    "                except Exception:\n",
    "                    pass\n",
    "\n",
    "                # identify if this distribution is better\n",
    "                if best_sse > sse > 0:\n",
    "                    best_distribution = distribution\n",
    "                    best_params = params\n",
    "                    best_sse = sse\n",
    "\n",
    "        except Exception:\n",
    "            pass\n",
    "\n",
    "    return (best_distribution.name, best_params)\n",
    "\n",
    "def make_pdf(dist, params, size=10000):\n",
    "    \"\"\"Generate distributions's Probability Distribution Function \"\"\"\n",
    "\n",
    "    # Separate parts of parameters\n",
    "    arg = params[:-2]\n",
    "    loc = params[-2]\n",
    "    scale = params[-1]\n",
    "\n",
    "    # Get sane start and end points of distribution\n",
    "    start = dist.ppf(0.01, *arg, loc=loc, scale=scale) if arg else dist.ppf(0.01, loc=loc, scale=scale)\n",
    "    end = dist.ppf(0.99, *arg, loc=loc, scale=scale) if arg else dist.ppf(0.99, loc=loc, scale=scale)\n",
    "\n",
    "    # Build PDF and turn into pandas Series\n",
    "    x = np.linspace(start, end, size)\n",
    "    y = dist.pdf(x, loc=loc, scale=scale, *arg)\n",
    "    pdf = pd.Series(y, x)\n",
    "\n",
    "    return pdf\n",
    "\n",
    "# Load data from statsmodels datasets\n",
    "#data = pd.Series(df['maxtp'])\n",
    "#data = pd.Series(Jan['maxtp'])\n",
    "months = ['Jan','Feb','Mar','Apr','May','Jun','Jul','Aug','Sep','Oct','Nov','Dec']\n",
    "#i=0\n",
    "#for mon in months:\n",
    "#    if i==7:\n",
    "#       mon=df[df['date'].str.contains(mon)]\n",
    "#       data = pd.Series(mon['cbl'])\n",
    "#    i+=1\n",
    "# Plot for comparison\n",
    "#data=pd.Series(mx[0]['cbl'])\n",
    "#plt.figure(figsize=(12,8))\n",
    "#axes.prop_cycle : cycler('color', ['b', 'g', 'r', 'c', 'm', 'y', 'k'])\n",
    "#ax = data.plot(kind='hist', bins=50, density=True, alpha=0.5, colormap='Greens')\n",
    "# Save plot limits\n",
    "#dataYLim = ax.get_ylim()\n",
    "\n",
    "# Find best fit distribution\n",
    "#best_fit_name, best_fit_params = best_fit_distribution(data, 200, ax)\n",
    "#best_dist = getattr(st, best_fit_name)\n",
    "#print(months[0],' cbl - ',best_fit_name, best_fit_params)\n",
    "\n",
    "skip=True\n",
    "for col in df.columns: \n",
    "    if skip:\n",
    "       skip=False\n",
    "    else:\n",
    "       ix=0\n",
    "       for ix in range(12):\n",
    "          print('Trying - ',col,' ',months[ix])\n",
    "          data=pd.Series(mx[ix][col])\n",
    "          best_fit_name, best_fit_params = best_fit_distribution(data, 200, ax)\n",
    "          best_dist = getattr(st, best_fit_name)\n",
    "          print(col,' ',months[ix],' - ',best_fit_name, best_fit_params)\n",
    "          ix+=1\n",
    "\n",
    "# Update plots\n",
    "#ax.set_ylim(dataYLim)\n",
    "#ax.set_title(u'El Niño sea temp.\\n All Fitted Distributions')\n",
    "#ax.set_xlabel(u'Temp (°C)')\n",
    "#ax.set_ylabel('Frequency')\n",
    "\n",
    "# Make PDF with best params \n",
    "#pdf = make_pdf(best_dist, best_fit_params)\n",
    "\n",
    "# Display\n",
    "#plt.figure(figsize=(12,8))\n",
    "#ax = pdf.plot(lw=2, label='PDF', legend=True)\n",
    "#data.plot(kind='hist', bins=50, density=True, alpha=0.5, label='Data', legend=True, ax=ax)\n",
    "\n",
    "#param_names = (best_dist.shapes + ', loc, scale').split(', ') if best_dist.shapes else ['loc', 'scale']\n",
    "#param_str = ', '.join(['{}={:0.2f}'.format(k,v) for k,v in zip(param_names, best_fit_params)])\n",
    "#dist_str = '{}({})'.format(best_fit_name, param_str)\n",
    "\n",
    "#ax.set_title(u'mintp\\n' + dist_str)\n",
    "#ax.set_xlabel(u'Temp. (°C)')\n",
    "#ax.set_ylabel('Frequency')"
   ]
  },
  {
   "cell_type": "code",
   "execution_count": null,
   "metadata": {},
   "outputs": [],
   "source": []
  }
 ],
 "metadata": {
  "kernelspec": {
   "display_name": "Python 3",
   "language": "python",
   "name": "python3"
  },
  "language_info": {
   "codemirror_mode": {
    "name": "ipython",
    "version": 3
   },
   "file_extension": ".py",
   "mimetype": "text/x-python",
   "name": "python",
   "nbconvert_exporter": "python",
   "pygments_lexer": "ipython3",
   "version": "3.7.3"
  }
 },
 "nbformat": 4,
 "nbformat_minor": 2
}
