{
 "cells": [
  {
   "cell_type": "markdown",
   "metadata": {},
   "source": [
    "# Creation of simulated dataset of climate variables, based on Phoenix Park, Dublin weather station #   \n",
    "As explained in the README file for this repository, this notebook aims to generate simulated data, based on analysis of government provided actual readings, for rainfall, atmospheric pressure, and minimum and maximum temperatures on a daily basis from the Phoenix Park weather station.  \n",
    "\n",
    "Climate predictions are of highly significant importance, with many concerns about human induced global warming. This Notebook generates one year's worth of simulated data for the specified variables, for the year following the current year. \n",
    "\n",
    "The actual historical data was downloaded from the government website into an Excel spreadsheet, and then exported to a csv file. The non-data header rows, plus columns for variables that are not being examined have been removed from the file, along with incomplete rows of data.  \n",
    "\n",
    "The pandas, matplotlib and scipy packages are imported for processing the input data, and numpy is used to generate random, simulated data.  \n",
    "\n",
    "The csv file is first loaded into a Pandas dataframe, and we get the data type for each column :  \n",
    "(ref https://www.shanelynn.ie/python-pandas-read_csv-load-data-from-csv-files/)  \n",
    "(ref https://pandas.pydata.org/pandas-docs/stable/reference/api/pandas.DataFrame.dtypes.html)\n"
   ]
  },
  {
   "cell_type": "code",
   "execution_count": 424,
   "metadata": {
    "scrolled": false
   },
   "outputs": [
    {
     "name": "stdout",
     "output_type": "stream",
     "text": [
      "date      object\n",
      "maxtp    float64\n",
      "mintp    float64\n",
      "rain     float64\n",
      "cbl      float64\n",
      "dtype: object\n"
     ]
    }
   ],
   "source": [
    "import pandas as pd\n",
    "import matplotlib.pyplot as plt\n",
    "import numpy as np\n",
    "import scipy.stats\n",
    "from numpy.polynomial.polynomial import polyfit\n",
    "# Get the csv file generated from the Excel spreadsheet that was downloaded from the website\n",
    "df = pd.read_csv('Phoenix Park weather data.csv')\n",
    "# Display the columns\n",
    "print (df.dtypes)"
   ]
  },
  {
   "cell_type": "markdown",
   "metadata": {},
   "source": [
    "'cbl' is the 'convective boundary layer' - the layer of the earth's atmosphere most affected by the heating effect of the sun on the earth's surface. The 'cbl' column here, which is for a ground based weather station, is the atmospheric pressure at ground level.  \n",
    "(ref https://en.wikipedia.org/wiki/Convective_planetary_boundary_layer)\n",
    "\n",
    "Display the first few rows from the spreadsheet and count the number of rows :  \n",
    "(ref https://www.shanelynn.ie/select-pandas-dataframe-rows-and-columns-using-iloc-loc-and-ix/)    \n",
    "(ref https://stackoverflow.com/questions/15943769/how-do-i-get-the-row-count-of-a-pandas-dataframe)"
   ]
  },
  {
   "cell_type": "code",
   "execution_count": 426,
   "metadata": {
    "scrolled": true
   },
   "outputs": [
    {
     "name": "stdout",
     "output_type": "stream",
     "text": [
      "         date  maxtp  mintp  rain     cbl\n",
      "0   01-Jan-06    8.2    2.9   0.0  1002.8\n",
      "1   02-Jan-06   10.6    0.7   0.0  1016.5\n",
      "2   03-Jan-06   10.9    0.0   0.2  1020.5\n",
      "3   04-Jan-06    7.2   -1.6   0.0  1022.5\n",
      "4   05-Jan-06    6.4    4.1   0.0  1014.6\n",
      "5   06-Jan-06    5.1    1.1   0.0  1015.6\n",
      "6   07-Jan-06    4.7    1.7   0.0  1017.9\n",
      "7   08-Jan-06    5.9   -2.7   1.3  1019.2\n",
      "8   09-Jan-06   10.5   -4.2   0.0  1014.5\n",
      "9   10-Jan-06   12.9    8.0   9.6  1002.3\n",
      "10  11-Jan-06    9.0    4.1   0.3  1007.6\n",
      "11  12-Jan-06   12.5    4.6   0.0  1011.6 0\n",
      " \n",
      "Number of rows  4742\n"
     ]
    }
   ],
   "source": [
    "print(df.iloc[0:12],0)\n",
    "print(' ')\n",
    "print('Number of rows ' , len(df.index))"
   ]
  },
  {
   "cell_type": "markdown",
   "metadata": {},
   "source": [
    "There are many data rows, so make sure programatically that none of them contain null values - as this would affect the statistical values such as 'mean' that will be used to create the simulated data.  \n",
    "(ref https://stackoverflow.com/questions/43424199/display-rows-with-one-or-more-nan-values-in-pandas-dataframe)"
   ]
  },
  {
   "cell_type": "code",
   "execution_count": 427,
   "metadata": {},
   "outputs": [
    {
     "name": "stdout",
     "output_type": "stream",
     "text": [
      "Empty DataFrame\n",
      "Columns: [date, maxtp, mintp, rain, cbl]\n",
      "Index: []\n"
     ]
    }
   ],
   "source": [
    "df1 = df[df.isna().any(axis=1)]\n",
    "print (df1)"
   ]
  },
  {
   "cell_type": "markdown",
   "metadata": {},
   "source": [
    "There aren't any null values - we've removed them all by getting rid of incomplete rows.\n",
    "\n",
    "Set up two variables containing the list of years that are in the file obtained from the weather station, in the format '-yy' and 'yyyy'. We'll use these later for displaying output and for calculating a correcting factor based on changes in the mean value of each variable by year.  \n",
    "Also, find the year that is midway through the period covered by the actual data set. Put into 'midyear'."
   ]
  },
  {
   "cell_type": "code",
   "execution_count": 428,
   "metadata": {},
   "outputs": [],
   "source": [
    "y=df['date'].str[7:9].unique()\n",
    "yearx=[]\n",
    "years=[]\n",
    "for i in y:\n",
    "    yearx.append('-'+i)\n",
    "    years.append('20'+i)\n",
    "# Get the middle year of the range of years in the actual data    \n",
    "midyear=2000+(int(years[(len(years)-1)])-int(years[0]))  "
   ]
  },
  {
   "cell_type": "markdown",
   "metadata": {},
   "source": [
    "Calculate how many years after 'midyear' (obtained above) is the year that we'll be creating our simulated data for. Put it in 'mfac'. This will be used as a multiplying factor later along with the rate of change of the mean of each variable by year. Also, create a list of dates to add to the simulated data for the year we're creating it for - put in 'odates'. Display 'odates'\n",
    "(ref https://stackoverflow.com/questions/733454/best-way-to-format-integer-as-string-with-leading-zeros)"
   ]
  },
  {
   "cell_type": "code",
   "execution_count": 429,
   "metadata": {
    "scrolled": true
   },
   "outputs": [
    {
     "name": "stdout",
     "output_type": "stream",
     "text": [
      "['01-Jan-20', '02-Jan-20', '03-Jan-20', '04-Jan-20', '05-Jan-20', '06-Jan-20', '07-Jan-20', '08-Jan-20', '09-Jan-20', '10-Jan-20', '11-Jan-20', '12-Jan-20', '13-Jan-20', '14-Jan-20', '15-Jan-20', '16-Jan-20', '17-Jan-20', '18-Jan-20', '19-Jan-20', '20-Jan-20', '21-Jan-20', '22-Jan-20', '23-Jan-20', '24-Jan-20', '25-Jan-20', '26-Jan-20', '27-Jan-20', '28-Jan-20', '29-Jan-20', '30-Jan-20', '31-Jan-20', '01-Feb-20', '02-Feb-20', '03-Feb-20', '04-Feb-20', '05-Feb-20', '06-Feb-20', '07-Feb-20', '08-Feb-20', '09-Feb-20', '10-Feb-20', '11-Feb-20', '12-Feb-20', '13-Feb-20', '14-Feb-20', '15-Feb-20', '16-Feb-20', '17-Feb-20', '18-Feb-20', '19-Feb-20', '20-Feb-20', '21-Feb-20', '22-Feb-20', '23-Feb-20', '24-Feb-20', '25-Feb-20', '26-Feb-20', '27-Feb-20', '28-Feb-20', '29-Feb-20', '01-Mar-20', '02-Mar-20', '03-Mar-20', '04-Mar-20', '05-Mar-20', '06-Mar-20', '07-Mar-20', '08-Mar-20', '09-Mar-20', '10-Mar-20', '11-Mar-20', '12-Mar-20', '13-Mar-20', '14-Mar-20', '15-Mar-20', '16-Mar-20', '17-Mar-20', '18-Mar-20', '19-Mar-20', '20-Mar-20', '21-Mar-20', '22-Mar-20', '23-Mar-20', '24-Mar-20', '25-Mar-20', '26-Mar-20', '27-Mar-20', '28-Mar-20', '29-Mar-20', '30-Mar-20', '31-Mar-20', '01-Apr-20', '02-Apr-20', '03-Apr-20', '04-Apr-20', '05-Apr-20', '06-Apr-20', '07-Apr-20', '08-Apr-20', '09-Apr-20', '10-Apr-20', '11-Apr-20', '12-Apr-20', '13-Apr-20', '14-Apr-20', '15-Apr-20', '16-Apr-20', '17-Apr-20', '18-Apr-20', '19-Apr-20', '20-Apr-20', '21-Apr-20', '22-Apr-20', '23-Apr-20', '24-Apr-20', '25-Apr-20', '26-Apr-20', '27-Apr-20', '28-Apr-20', '29-Apr-20', '30-Apr-20', '01-May-20', '02-May-20', '03-May-20', '04-May-20', '05-May-20', '06-May-20', '07-May-20', '08-May-20', '09-May-20', '10-May-20', '11-May-20', '12-May-20', '13-May-20', '14-May-20', '15-May-20', '16-May-20', '17-May-20', '18-May-20', '19-May-20', '20-May-20', '21-May-20', '22-May-20', '23-May-20', '24-May-20', '25-May-20', '26-May-20', '27-May-20', '28-May-20', '29-May-20', '30-May-20', '31-May-20', '01-Jun-20', '02-Jun-20', '03-Jun-20', '04-Jun-20', '05-Jun-20', '06-Jun-20', '07-Jun-20', '08-Jun-20', '09-Jun-20', '10-Jun-20', '11-Jun-20', '12-Jun-20', '13-Jun-20', '14-Jun-20', '15-Jun-20', '16-Jun-20', '17-Jun-20', '18-Jun-20', '19-Jun-20', '20-Jun-20', '21-Jun-20', '22-Jun-20', '23-Jun-20', '24-Jun-20', '25-Jun-20', '26-Jun-20', '27-Jun-20', '28-Jun-20', '29-Jun-20', '30-Jun-20', '01-Jul-20', '02-Jul-20', '03-Jul-20', '04-Jul-20', '05-Jul-20', '06-Jul-20', '07-Jul-20', '08-Jul-20', '09-Jul-20', '10-Jul-20', '11-Jul-20', '12-Jul-20', '13-Jul-20', '14-Jul-20', '15-Jul-20', '16-Jul-20', '17-Jul-20', '18-Jul-20', '19-Jul-20', '20-Jul-20', '21-Jul-20', '22-Jul-20', '23-Jul-20', '24-Jul-20', '25-Jul-20', '26-Jul-20', '27-Jul-20', '28-Jul-20', '29-Jul-20', '30-Jul-20', '31-Jul-20', '01-Aug-20', '02-Aug-20', '03-Aug-20', '04-Aug-20', '05-Aug-20', '06-Aug-20', '07-Aug-20', '08-Aug-20', '09-Aug-20', '10-Aug-20', '11-Aug-20', '12-Aug-20', '13-Aug-20', '14-Aug-20', '15-Aug-20', '16-Aug-20', '17-Aug-20', '18-Aug-20', '19-Aug-20', '20-Aug-20', '21-Aug-20', '22-Aug-20', '23-Aug-20', '24-Aug-20', '25-Aug-20', '26-Aug-20', '27-Aug-20', '28-Aug-20', '29-Aug-20', '30-Aug-20', '31-Aug-20', '01-Sep-20', '02-Sep-20', '03-Sep-20', '04-Sep-20', '05-Sep-20', '06-Sep-20', '07-Sep-20', '08-Sep-20', '09-Sep-20', '10-Sep-20', '11-Sep-20', '12-Sep-20', '13-Sep-20', '14-Sep-20', '15-Sep-20', '16-Sep-20', '17-Sep-20', '18-Sep-20', '19-Sep-20', '20-Sep-20', '21-Sep-20', '22-Sep-20', '23-Sep-20', '24-Sep-20', '25-Sep-20', '26-Sep-20', '27-Sep-20', '28-Sep-20', '29-Sep-20', '30-Sep-20', '01-Oct-20', '02-Oct-20', '03-Oct-20', '04-Oct-20', '05-Oct-20', '06-Oct-20', '07-Oct-20', '08-Oct-20', '09-Oct-20', '10-Oct-20', '11-Oct-20', '12-Oct-20', '13-Oct-20', '14-Oct-20', '15-Oct-20', '16-Oct-20', '17-Oct-20', '18-Oct-20', '19-Oct-20', '20-Oct-20', '21-Oct-20', '22-Oct-20', '23-Oct-20', '24-Oct-20', '25-Oct-20', '26-Oct-20', '27-Oct-20', '28-Oct-20', '29-Oct-20', '30-Oct-20', '31-Oct-20', '01-Nov-20', '02-Nov-20', '03-Nov-20', '04-Nov-20', '05-Nov-20', '06-Nov-20', '07-Nov-20', '08-Nov-20', '09-Nov-20', '10-Nov-20', '11-Nov-20', '12-Nov-20', '13-Nov-20', '14-Nov-20', '15-Nov-20', '16-Nov-20', '17-Nov-20', '18-Nov-20', '19-Nov-20', '20-Nov-20', '21-Nov-20', '22-Nov-20', '23-Nov-20', '24-Nov-20', '25-Nov-20', '26-Nov-20', '27-Nov-20', '28-Nov-20', '29-Nov-20', '30-Nov-20', '01-Dec-20', '02-Dec-20', '03-Dec-20', '04-Dec-20', '05-Dec-20', '06-Dec-20', '07-Dec-20', '08-Dec-20', '09-Dec-20', '10-Dec-20', '11-Dec-20', '12-Dec-20', '13-Dec-20', '14-Dec-20', '15-Dec-20', '16-Dec-20', '17-Dec-20', '18-Dec-20', '19-Dec-20', '20-Dec-20', '21-Dec-20', '22-Dec-20', '23-Dec-20', '24-Dec-20', '25-Dec-20', '26-Dec-20', '27-Dec-20', '28-Dec-20', '29-Dec-20', '30-Dec-20', '31-Dec-20']\n"
     ]
    }
   ],
   "source": [
    "import datetime\n",
    "year=datetime.date.today().year\n",
    "# Put how many days are in each month - depending on if it's a leap year\n",
    "if (year+1) % 4 == 0:\n",
    "   ndays=[31,29,31,30,31,30,31,31,30,31,30,31] \n",
    "   numdays=366\n",
    "else:\n",
    "   ndays=[31,28,31,30,31,30,31,31,30,31,30,31]  \n",
    "   numdays=365\n",
    "\n",
    "# Set up a multiplying factor to use later    \n",
    "mfac=(year-midyear)+0.5\n",
    "\n",
    "year = str((year)+1)\n",
    "yx=year[2:]\n",
    "\n",
    "# Create a list of dates in the same format as for the original data dd-mmm-yy\n",
    "odates=[]\n",
    "ix=0\n",
    "for n in ndays:\n",
    "    for i in range(n):\n",
    "       iy=str((i+1)).zfill(2)\n",
    "       odates.append(iy+'-'+months[ix]+'-'+yx)\n",
    "    ix+=1    \n",
    "print(odates)    \n",
    "        "
   ]
  },
  {
   "cell_type": "markdown",
   "metadata": {},
   "source": [
    "Break down the actual data by month, so we can build up our simulated data on a monthly basis. Extract the data for each month into a separate dataframe, to make it easy to plot and analyse at this scale :  \n",
    "(ref https://stackoverflow.com/questions/27975069/how-to-filter-rows-containing-a-string-pattern-from-a-pandas-dataframe)"
   ]
  },
  {
   "cell_type": "raw",
   "metadata": {},
   "source": [
    "months = ['Jan','Feb','Mar','Apr','May','Jun','Jul','Aug','Sep','Oct','Nov','Dec']\n",
    "mx={}\n",
    "i=0\n",
    "for mon in months:\n",
    "    mx[i]=df[df['date'].str.contains(mon)]\n",
    "    i+=1\n",
    "    "
   ]
  },
  {
   "cell_type": "markdown",
   "metadata": {},
   "source": [
    "Analysis of Irish climate records by a team at Maynooth university on behalf of the Environmental Protection Agency demonstrate that a Gamma probability distribution may be used to model winter and summer precipitation levels, and a Normal distribution for summer temperatures.  \n",
    "http://www.epa.ie/pubs/reports/research/climate/Reserach_Report_277.pdf\n",
    "\n",
    "Plot histograms for each month for each of the variables 'Max Temp', 'Min Temp', 'Rain' and 'Cbl' (pressure), to get an idea of what their distributions look like for this dataset. Use tight_layout so the title and axes labels don't overlap. Start with Max Temp (may take a little while to run):   \n",
    "(ref https://stackoverflow.com/questions/47467077/python-plot-multiple-histograms)  \n",
    "(ref https://matplotlib.org/users/tight_layout_guide.html)"
   ]
  },
  {
   "cell_type": "code",
   "execution_count": 431,
   "metadata": {
    "scrolled": true
   },
   "outputs": [
    {
     "data": {
      "image/png": "[encoded data removed]",
      "text/plain": [
       "<Figure size 720x720 with 12 Axes>"
      ]
     },
     "metadata": {
      "needs_background": "light"
     },
     "output_type": "display_data"
    }
   ],
   "source": [
    "fig, axes = plt.subplots(nrows=4, ncols=3, figsize=(10, 10))\n",
    "i = 0\n",
    "for i1 in range(4):\n",
    "    for i2 in range(3):\n",
    "        ax = axes[i1][i2]\n",
    "        ax.hist(mx[i]['maxtp'], bins=10, color='blue', alpha=0.5)\n",
    "        ax.set_xlabel('Max Temp (C)')\n",
    "        ax.set_title(months[i] + \" - maxtp\")\n",
    "        ax.set_ylabel('Occurences')\n",
    "        i+= 1\n",
    "\n",
    "plt.tight_layout()\n",
    "plt.show()"
   ]
  },
  {
   "cell_type": "markdown",
   "metadata": {},
   "source": [
    "It looks like the data for some months has a Normal distribution, but perhaps not for other months, eg December which is skewed to the right. Use a statistical test to check for Normality - the Shapiro-Wilks test. Put which ones are Normal into 'norm', and the others into 'nonnorm'.  \n",
    "(ref https://machinelearningmastery.com/a-gentle-introduction-to-normality-tests-in-python/)"
   ]
  },
  {
   "cell_type": "code",
   "execution_count": 432,
   "metadata": {},
   "outputs": [
    {
     "name": "stdout",
     "output_type": "stream",
     "text": [
      "Jan  'maxtp' - sample does not look Normal\n",
      "Feb  'maxtp' - sample looks Normal\n",
      "Mar  'maxtp' - sample does not look Normal\n",
      "Apr  'maxtp' - sample looks Normal\n",
      "May  'maxtp' - sample does not look Normal\n",
      "Jun  'maxtp' - sample looks Normal\n",
      "Jul  'maxtp' - sample does not look Normal\n",
      "Aug  'maxtp' - sample does not look Normal\n",
      "Sep  'maxtp' - sample does not look Normal\n",
      "Oct  'maxtp' - sample does not look Normal\n",
      "Nov  'maxtp' - sample does not look Normal\n",
      "Dec  'maxtp' - sample does not look Normal\n"
     ]
    }
   ],
   "source": [
    "from scipy.stats import shapiro\n",
    "i=0\n",
    "norm=[]\n",
    "nonnorm=[]\n",
    "for i in range(12):\n",
    "    stat, p = shapiro(mx[i]['maxtp'])\n",
    "    alpha = 0.05\n",
    "    if p > alpha:\n",
    "        print(months[i], \" 'maxtp' - sample looks Normal\")\n",
    "        norm.append(i)\n",
    "    else:\n",
    "        print(months[i], \" 'maxtp' - sample does not look Normal\")\n",
    "        nonnorm.append(i)\n",
    "    i+=1 "
   ]
  },
  {
   "cell_type": "markdown",
   "metadata": {},
   "source": [
    "\n",
    "The data for many of the months are not Normally distributed. One way to generate random data to simulate actual values is to generate a Kernel Density Estimate (KDE), which estimates the probability density function of the variable, and then to sample data from that estimate.\n",
    "  \n",
    "(ref https://stackoverflow.com/questions/6620471/fitting-empirical-distribution-to-theoretical-ones-with-scipy-python)  \n",
    "(ref https://stackoverflow.com/questions/35434363/python-generate-random-values-from-empirical-distribution)   \n",
    "(ref https://cmdlinetips.com/2019/05/empirical-cumulative-distribution-function-ecdf-in-python/)\n",
    "\n",
    "Check first how this works for December for Max Temp :  \n",
    "(ref https://matplotlib.org/3.1.1/api/_as_gen/matplotlib.axes.Axes.set_xlabel.html)"
   ]
  },
  {
   "cell_type": "code",
   "execution_count": 433,
   "metadata": {},
   "outputs": [
    {
     "data": {
      "image/png": "[encoded data removed]",
      "text/plain": [
       "<Figure size 432x288 with 2 Axes>"
      ]
     },
     "metadata": {
      "needs_background": "light"
     },
     "output_type": "display_data"
    }
   ],
   "source": [
    "#Create a list that we'll put our simulated data in\n",
    "sim_maxtp=[0]*12\n",
    "\n",
    "# Count how many values we have\n",
    "num=len(mx[11]['maxtp'])\n",
    "\n",
    "# Define our actual values as being for December 'maxtp' \n",
    "actual_values = mx[11]['maxtp']\n",
    "\n",
    "# Generate a KDE from the actual values\n",
    "sample_pdf = scipy.stats.gaussian_kde(actual_values)\n",
    "\n",
    "# Generate a random sample from the KDE\n",
    "sim_maxtp[11] = sample_pdf.resample(num).T[:,0]\n",
    "\n",
    "# Plot two histograms side by side\n",
    "fig, ax = plt.subplots(1,2)\n",
    "ax[0].hist(mx[11]['maxtp'], alpha = 0.5, color = 'r')\n",
    "ax[0].set_title('Actual data')\n",
    "ax[0].set_xlabel('Temp(C)')\n",
    "ax[1].hist(sim_maxtp[11], alpha = 0.5, color = 'g')\n",
    "ax[1].set_title('Simulated data')\n",
    "ax[1].set_xlabel('Temp(C)')\n",
    "plt.show()"
   ]
  },
  {
   "cell_type": "markdown",
   "metadata": {},
   "source": [
    "This gives us the same basic shape for the data. We'll use this method to generate our simulated data for the rest of the months that are not Normal (Jan, Mar, May, Jul, Aug, Sep, Oct, Nov), and numpy.random for those that are according to the Shapiro-Wilk test above (Feb, Apr and Jun).  \n",
    "Start with the non-Normal months, using the method above for December:"
   ]
  },
  {
   "cell_type": "code",
   "execution_count": 434,
   "metadata": {},
   "outputs": [],
   "source": [
    "for i in nonnorm:\n",
    "   num=len(mx[i]['maxtp'])\n",
    "   actual_values = mx[i]['maxtp']\n",
    "   sample_pdf = scipy.stats.gaussian_kde(actual_values)\n",
    "   sim_maxtp[i] = sample_pdf.resample(num).T[:,0]"
   ]
  },
  {
   "cell_type": "markdown",
   "metadata": {},
   "source": [
    "Get the mean and standard deviation for Feb, Apr and Jun, so we can generate the random simulated data using numpy.random.  \n",
    "(ref https://www.geeksforgeeks.org/python-pandas-dataframe-mean/)"
   ]
  },
  {
   "cell_type": "code",
   "execution_count": 435,
   "metadata": {},
   "outputs": [],
   "source": [
    "means=[0]*12\n",
    "stds =[0]*12\n",
    "for i in norm:\n",
    "   means[i]=(mx[i]['maxtp'].mean())\n",
    "   stds[i] =(mx[i]['maxtp'].std())"
   ]
  },
  {
   "cell_type": "markdown",
   "metadata": {},
   "source": [
    "Generate random values for Feb and check the histograms of actual and generated data:"
   ]
  },
  {
   "cell_type": "code",
   "execution_count": 436,
   "metadata": {},
   "outputs": [
    {
     "data": {
      "image/png": "[encoded data removed]",
      "text/plain": [
       "<Figure size 432x288 with 2 Axes>"
      ]
     },
     "metadata": {
      "needs_background": "light"
     },
     "output_type": "display_data"
    }
   ],
   "source": [
    "num=len(mx[1]['maxtp'])\n",
    "sim_maxtp[1]=np.random.normal(means[1],stds[1],num)\n",
    "fig, ax = plt.subplots(1,2)\n",
    "ax[0].hist(mx[1]['maxtp'], alpha = 0.5, color = 'r')\n",
    "ax[0].set_title('Actual data')\n",
    "ax[0].set_xlabel('Temp(C)')\n",
    "ax[1].hist(sim_maxtp[1], alpha = 0.5, color = 'g')\n",
    "ax[1].set_title('Simulated data')\n",
    "ax[1].set_xlabel('Temp(C)')\n",
    "plt.show()\n"
   ]
  },
  {
   "cell_type": "markdown",
   "metadata": {},
   "source": [
    "The histograms match well, so generate data for the other two months :"
   ]
  },
  {
   "cell_type": "code",
   "execution_count": 437,
   "metadata": {},
   "outputs": [],
   "source": [
    "num=len(mx[3]['maxtp'])\n",
    "sim_maxtp[3]=np.random.normal(means[3],stds[3],num)\n",
    "num=len(mx[5]['maxtp'])\n",
    "sim_maxtp[5]=np.random.normal(means[5],stds[5],num)"
   ]
  },
  {
   "cell_type": "markdown",
   "metadata": {},
   "source": [
    "We now have our simulated data for 'maxtp'. Go through the same steps for 'mintp':"
   ]
  },
  {
   "cell_type": "code",
   "execution_count": 438,
   "metadata": {},
   "outputs": [
    {
     "name": "stdout",
     "output_type": "stream",
     "text": [
      "Jan  'mintp' - sample looks Normal\n",
      "Feb  'mintp' - sample does not look Normal\n",
      "Mar  'mintp' - sample looks Normal\n",
      "Apr  'mintp' - sample looks Normal\n",
      "May  'mintp' - sample does not look Normal\n",
      "Jun  'mintp' - sample looks Normal\n",
      "Jul  'mintp' - sample does not look Normal\n",
      "Aug  'mintp' - sample looks Normal\n",
      "Sep  'mintp' - sample does not look Normal\n",
      "Oct  'mintp' - sample looks Normal\n",
      "Nov  'mintp' - sample looks Normal\n",
      "Dec  'mintp' - sample does not look Normal\n"
     ]
    }
   ],
   "source": [
    "# Check for Normal distribution\n",
    "i=0\n",
    "norm=[]\n",
    "nonnorm=[]\n",
    "for i in range(12):\n",
    "    stat, p = shapiro(mx[i]['mintp'])\n",
    "    alpha = 0.05\n",
    "    if p > alpha:\n",
    "        print(months[i], \" 'mintp' - sample looks Normal\")\n",
    "        norm.append(i)\n",
    "    else:\n",
    "        print(months[i], \" 'mintp' - sample does not look Normal\")\n",
    "        nonnorm.append(i)\n",
    "    i+=1 "
   ]
  },
  {
   "cell_type": "markdown",
   "metadata": {},
   "source": [
    "We see Jan, Mar, Apr, Jun, Aug, Oct and Nov have Normally distributed data, with the remainder being non-Normal. Use the KDE to generate the non-Normal data, and numpy.random for the Normal:"
   ]
  },
  {
   "cell_type": "code",
   "execution_count": 439,
   "metadata": {},
   "outputs": [],
   "source": [
    "# Non-Normal data generation\n",
    "sim_mintp=[0]*12\n",
    "for i in nonnorm:\n",
    "   num=len(mx[i]['mintp'])\n",
    "   actual_values = mx[i]['mintp']\n",
    "   sample_pdf = scipy.stats.gaussian_kde(actual_values)\n",
    "   sim_mintp[i] = sample_pdf.resample(num).T[:,0]\n"
   ]
  },
  {
   "cell_type": "code",
   "execution_count": 440,
   "metadata": {},
   "outputs": [],
   "source": [
    "# Normal data generation\n",
    "for i in norm:\n",
    "   mean=(mx[i]['mintp'].mean())\n",
    "   std =(mx[i]['mintp'].std())\n",
    "   num=len(mx[i]['mintp'])\n",
    "   sim_mintp[i]=np.random.normal(mean,std,num)    "
   ]
  },
  {
   "cell_type": "markdown",
   "metadata": {},
   "source": [
    "Now take a look at what the 'cbl' (pressure) data is like, using histograms, as for 'maxtp':"
   ]
  },
  {
   "cell_type": "code",
   "execution_count": 441,
   "metadata": {},
   "outputs": [
    {
     "data": {
      "image/png": "[encoded data removed]",
      "text/plain": [
       "<Figure size 720x720 with 12 Axes>"
      ]
     },
     "metadata": {
      "needs_background": "light"
     },
     "output_type": "display_data"
    }
   ],
   "source": [
    "fig, axes = plt.subplots(nrows=4, ncols=3, figsize=(10, 10))\n",
    "i = 0\n",
    "for i1 in range(4):\n",
    "    for i2 in range(3):\n",
    "        ax = axes[i1][i2]\n",
    "        ax.hist(mx[i]['cbl'], bins=10, color='blue', alpha=0.5)\n",
    "        ax.set_xlabel('Pressure (hPa)')\n",
    "        ax.set_title(months[i] + \" - cbl\")\n",
    "        ax.set_ylabel('Occurences')\n",
    "        i+= 1\n",
    "\n",
    "plt.tight_layout()\n",
    "plt.show()"
   ]
  },
  {
   "cell_type": "markdown",
   "metadata": {},
   "source": [
    "Like for temperature, the data for some of the months looks like it might be Normally distributed, and for others it clearly isn't. Go through the same steps of the Shapiro-Wilks test, then creating simulated data using numpy.random and the KDE."
   ]
  },
  {
   "cell_type": "code",
   "execution_count": 442,
   "metadata": {},
   "outputs": [
    {
     "name": "stdout",
     "output_type": "stream",
     "text": [
      "Jan  'cbl' - sample does not look Normal\n",
      "Feb  'cbl' - sample does not look Normal\n",
      "Mar  'cbl' - sample does not look Normal\n",
      "Apr  'cbl' - sample does not look Normal\n",
      "May  'cbl' - sample looks Normal\n",
      "Jun  'cbl' - sample looks Normal\n",
      "Jul  'cbl' - sample looks Normal\n",
      "Aug  'cbl' - sample looks Normal\n",
      "Sep  'cbl' - sample does not look Normal\n",
      "Oct  'cbl' - sample does not look Normal\n",
      "Nov  'cbl' - sample does not look Normal\n",
      "Dec  'cbl' - sample does not look Normal\n"
     ]
    }
   ],
   "source": [
    "i=0\n",
    "norm=[]\n",
    "nonnorm=[]\n",
    "for i in range(12):\n",
    "    stat, p = shapiro(mx[i]['cbl'])\n",
    "    alpha = 0.05\n",
    "    if p > alpha:\n",
    "        print(months[i], \" 'cbl' - sample looks Normal\")\n",
    "        norm.append(i)\n",
    "    else:\n",
    "        print(months[i], \" 'cbl' - sample does not look Normal\")\n",
    "        nonnorm.append(i)\n",
    "    i+=1 "
   ]
  },
  {
   "cell_type": "markdown",
   "metadata": {},
   "source": [
    "Generate the non-Normal simulated data:"
   ]
  },
  {
   "cell_type": "code",
   "execution_count": 443,
   "metadata": {},
   "outputs": [],
   "source": [
    "sim_cbl=[0]*12\n",
    "for i in nonnorm:\n",
    "   num=len(mx[i]['cbl'])\n",
    "   actual_values = mx[i]['cbl']\n",
    "   sample_pdf = scipy.stats.gaussian_kde(actual_values)\n",
    "   sim_cbl[i] = sample_pdf.resample(num).T[:,0]"
   ]
  },
  {
   "cell_type": "markdown",
   "metadata": {},
   "source": [
    "Now generate the Normal simulated data"
   ]
  },
  {
   "cell_type": "code",
   "execution_count": 444,
   "metadata": {},
   "outputs": [],
   "source": [
    "for i in norm:\n",
    "   mean=(mx[i]['cbl'].mean())\n",
    "   std =(mx[i]['cbl'].std())\n",
    "   num=len(mx[i]['cbl'])\n",
    "   sim_cbl[i]=np.random.normal(mean,std,num)    "
   ]
  },
  {
   "cell_type": "markdown",
   "metadata": {},
   "source": [
    "Check what the histograms look like for rainfall :"
   ]
  },
  {
   "cell_type": "code",
   "execution_count": 445,
   "metadata": {},
   "outputs": [
    {
     "data": {
      "image/png": "[encoded data removed]",
      "text/plain": [
       "<Figure size 720x720 with 12 Axes>"
      ]
     },
     "metadata": {
      "needs_background": "light"
     },
     "output_type": "display_data"
    }
   ],
   "source": [
    "fig, axes = plt.subplots(nrows=4, ncols=3, figsize=(10, 10))\n",
    "i = 0\n",
    "for i1 in range(4):\n",
    "    for i2 in range(3):\n",
    "        ax = axes[i1][i2]\n",
    "        ax.hist(mx[i]['rain'], bins=10, color='blue', alpha=0.5)\n",
    "        ax.set_xlabel('Rainfall (mm)')\n",
    "        ax.set_title(months[i] + \" - rain\")\n",
    "        ax.set_ylabel('Occurences')\n",
    "        i+= 1\n",
    "\n",
    "plt.tight_layout()\n",
    "plt.show()"
   ]
  },
  {
   "cell_type": "markdown",
   "metadata": {},
   "source": [
    "This data is very clearly not Normally distributed, but as stated above, a team at Maynooth university found a Gamma probability distribution may be used to model rainfall.  \n",
    "\n",
    "To use the numpy.random.gamma function to generate simulated data we need to calculate the parameters for it - shape and scale. The shape is given by $\\frac{mean^2}{variance}$, and the scale by \n",
    "$\\frac{variance}{mean}$  \n",
    "(ref https://stats.stackexchange.com/questions/280459/estimating-gamma-distribution-parameters-using-sample-mean-and-std)  \n",
    "\n",
    "Calculate the mean, variance, then scale and shape for each month for 'rain', and create a simulated dataset using numpy.random.gamma"
   ]
  },
  {
   "cell_type": "code",
   "execution_count": 446,
   "metadata": {},
   "outputs": [],
   "source": [
    "sim_rain=[]\n",
    "for i in range(12):\n",
    "   mean=(mx[i]['rain'].mean())\n",
    "   var =(mx[i]['rain'].var())\n",
    "   num=len(mx[i]['rain'])\n",
    "   scale=(var/mean)\n",
    "   shape=(mean*mean)/var\n",
    "   sim_rain.append(np.random.gamma(shape,scale,num)) "
   ]
  },
  {
   "cell_type": "markdown",
   "metadata": {},
   "source": [
    "Check what the simulated data look like :"
   ]
  },
  {
   "cell_type": "code",
   "execution_count": 448,
   "metadata": {},
   "outputs": [
    {
     "data": {
      "image/png": "[encoded data removed]",
      "text/plain": [
       "<Figure size 720x720 with 12 Axes>"
      ]
     },
     "metadata": {
      "needs_background": "light"
     },
     "output_type": "display_data"
    }
   ],
   "source": [
    "fig, axes = plt.subplots(nrows=4, ncols=3, figsize=(10, 10))\n",
    "i = 0\n",
    "for i1 in range(4):\n",
    "    for i2 in range(3):\n",
    "        ax = axes[i1][i2]\n",
    "        ax.hist(sim_rain[i], bins=10, color='blue', alpha=0.5)\n",
    "        ax.set_xlabel('Rainfall (mm)')\n",
    "        ax.set_title(months[i] + \" - simulated rain\")\n",
    "        ax.set_ylabel('Occurences')\n",
    "        i+= 1\n",
    "\n",
    "plt.tight_layout()\n",
    "plt.show()    "
   ]
  },
  {
   "cell_type": "markdown",
   "metadata": {},
   "source": [
    "These closely match the histograms for the actual data.  \n",
    "Get a list of column names excluding the 'Date' column."
   ]
  },
  {
   "cell_type": "code",
   "execution_count": 449,
   "metadata": {},
   "outputs": [
    {
     "name": "stdout",
     "output_type": "stream",
     "text": [
      "['maxtp', 'mintp', 'rain', 'cbl']\n"
     ]
    }
   ],
   "source": [
    "add=False\n",
    "cols=[]\n",
    "for col in df.columns:\n",
    "    if add:\n",
    "       cols.append(col)\n",
    "    else:\n",
    "       add=True\n",
    "print(cols)  "
   ]
  },
  {
   "cell_type": "markdown",
   "metadata": {},
   "source": [
    "Check if correlations exist between the variables, eg it would be unsurprising if days with lower minimum temperatures also had lower maximum temperatures. If this is the case we'll use the simulated values of one variable (eg maxtp) to rank the associated simulated values of variables that are correlated with it. We'll use Pearson's and Spearman's correlations to check for relationships between variables. A positive value for the correlation coefficient greater than 0.5 indicates a likely positive relationship, and a negative value of less than -0.5 indicates a likely negative relationship.  \n",
    "Check each column pair, excluding date - we've effectively built in a dependency on date by separating out the data by month, as we know that the time of year definitely influences weather variables.\n",
    "(ref https://machinelearningmastery.com/how-to-use-correlation-to-understand-the-relationship-between-variables/)"
   ]
  },
  {
   "cell_type": "code",
   "execution_count": 450,
   "metadata": {
    "scrolled": true
   },
   "outputs": [
    {
     "name": "stdout",
     "output_type": "stream",
     "text": [
      "Jan maxtp mintp  Pearsons correlation : 0.738\n",
      "Jan maxtp mintp  Spearmans correlation : 0.715\n",
      "Feb maxtp mintp  Pearsons correlation : 0.664\n",
      "Feb maxtp mintp  Spearmans correlation : 0.667\n",
      "Mar maxtp mintp  Pearsons correlation : 0.550\n",
      "Mar maxtp mintp  Spearmans correlation : 0.575\n",
      "Apr maxtp mintp  Pearsons correlation : 0.446\n",
      "Apr maxtp mintp  Spearmans correlation : 0.411\n",
      "May maxtp mintp  Pearsons correlation : 0.535\n",
      "May maxtp mintp  Spearmans correlation : 0.517\n",
      "Jun maxtp mintp  Pearsons correlation : 0.500\n",
      "Jun maxtp mintp  Spearmans correlation : 0.499\n",
      "Jul maxtp mintp  Pearsons correlation : 0.465\n",
      "Jul maxtp mintp  Spearmans correlation : 0.465\n",
      "Aug maxtp mintp  Pearsons correlation : 0.480\n",
      "Aug maxtp mintp  Spearmans correlation : 0.463\n",
      "Sep maxtp mintp  Pearsons correlation : 0.496\n",
      "Sep maxtp mintp  Spearmans correlation : 0.441\n",
      "Oct maxtp mintp  Pearsons correlation : 0.609\n",
      "Oct maxtp mintp  Spearmans correlation : 0.568\n",
      "Nov maxtp mintp  Pearsons correlation : 0.744\n",
      "Nov maxtp mintp  Spearmans correlation : 0.704\n",
      "Dec maxtp mintp  Pearsons correlation : 0.801\n",
      "Dec maxtp mintp  Spearmans correlation : 0.768\n",
      "Jan maxtp rain  Pearsons correlation : 0.162\n",
      "Jan maxtp rain  Spearmans correlation : 0.257\n",
      "Feb maxtp rain  Spearmans correlation : 0.113\n",
      "Mar maxtp rain  Pearsons correlation : -0.227\n",
      "Mar maxtp rain  Spearmans correlation : -0.180\n",
      "Apr maxtp rain  Pearsons correlation : -0.302\n",
      "Apr maxtp rain  Spearmans correlation : -0.289\n",
      "May maxtp rain  Pearsons correlation : -0.291\n",
      "May maxtp rain  Spearmans correlation : -0.370\n",
      "Jun maxtp rain  Pearsons correlation : -0.314\n",
      "Jun maxtp rain  Spearmans correlation : -0.439\n",
      "Jul maxtp rain  Pearsons correlation : -0.212\n",
      "Jul maxtp rain  Spearmans correlation : -0.328\n",
      "Aug maxtp rain  Pearsons correlation : -0.128\n",
      "Aug maxtp rain  Spearmans correlation : -0.148\n",
      "Sep maxtp rain  Pearsons correlation : -0.203\n",
      "Sep maxtp rain  Spearmans correlation : -0.218\n",
      "Nov maxtp rain  Spearmans correlation : 0.103\n",
      "Dec maxtp rain  Pearsons correlation : 0.112\n",
      "Dec maxtp rain  Spearmans correlation : 0.317\n",
      "Mar maxtp cbl  Pearsons correlation : 0.234\n",
      "Mar maxtp cbl  Spearmans correlation : 0.219\n",
      "Apr maxtp cbl  Pearsons correlation : 0.286\n",
      "Apr maxtp cbl  Spearmans correlation : 0.297\n",
      "May maxtp cbl  Pearsons correlation : 0.318\n",
      "May maxtp cbl  Spearmans correlation : 0.300\n",
      "Jun maxtp cbl  Pearsons correlation : 0.400\n",
      "Jun maxtp cbl  Spearmans correlation : 0.417\n",
      "Jul maxtp cbl  Pearsons correlation : 0.336\n",
      "Jul maxtp cbl  Spearmans correlation : 0.309\n",
      "Sep maxtp cbl  Pearsons correlation : 0.169\n",
      "Sep maxtp cbl  Spearmans correlation : 0.166\n",
      "Jan mintp rain  Spearmans correlation : 0.182\n",
      "Feb mintp rain  Spearmans correlation : 0.235\n",
      "Mar mintp rain  Spearmans correlation : 0.122\n",
      "Apr mintp rain  Spearmans correlation : 0.156\n",
      "Aug mintp rain  Pearsons correlation : 0.132\n",
      "Aug mintp rain  Spearmans correlation : 0.207\n",
      "Sep mintp rain  Pearsons correlation : 0.151\n",
      "Sep mintp rain  Spearmans correlation : 0.258\n",
      "Oct mintp rain  Pearsons correlation : 0.121\n",
      "Oct mintp rain  Spearmans correlation : 0.214\n",
      "Nov mintp rain  Spearmans correlation : 0.112\n",
      "Dec mintp rain  Spearmans correlation : 0.216\n",
      "Aug mintp cbl  Pearsons correlation : -0.233\n",
      "Aug mintp cbl  Spearmans correlation : -0.226\n",
      "Sep mintp cbl  Pearsons correlation : -0.241\n",
      "Sep mintp cbl  Spearmans correlation : -0.258\n",
      "Oct mintp cbl  Pearsons correlation : -0.118\n",
      "Oct mintp cbl  Spearmans correlation : -0.130\n",
      "Jan rain cbl  Pearsons correlation : -0.373\n",
      "Jan rain cbl  Spearmans correlation : -0.514\n",
      "Feb rain cbl  Pearsons correlation : -0.370\n",
      "Feb rain cbl  Spearmans correlation : -0.500\n",
      "Mar rain cbl  Pearsons correlation : -0.444\n",
      "Mar rain cbl  Spearmans correlation : -0.656\n",
      "Apr rain cbl  Pearsons correlation : -0.435\n",
      "Apr rain cbl  Spearmans correlation : -0.590\n",
      "May rain cbl  Pearsons correlation : -0.406\n",
      "May rain cbl  Spearmans correlation : -0.571\n",
      "Jun rain cbl  Pearsons correlation : -0.391\n",
      "Jun rain cbl  Spearmans correlation : -0.624\n",
      "Jul rain cbl  Pearsons correlation : -0.384\n",
      "Jul rain cbl  Spearmans correlation : -0.593\n",
      "Aug rain cbl  Pearsons correlation : -0.387\n",
      "Aug rain cbl  Spearmans correlation : -0.535\n",
      "Sep rain cbl  Pearsons correlation : -0.436\n",
      "Sep rain cbl  Spearmans correlation : -0.604\n",
      "Oct rain cbl  Pearsons correlation : -0.347\n",
      "Oct rain cbl  Spearmans correlation : -0.525\n",
      "Nov rain cbl  Pearsons correlation : -0.355\n",
      "Nov rain cbl  Spearmans correlation : -0.476\n",
      "Dec rain cbl  Pearsons correlation : -0.267\n",
      "Dec rain cbl  Spearmans correlation : -0.484\n"
     ]
    }
   ],
   "source": [
    "from scipy.stats import pearsonr\n",
    "from scipy.stats import spearmanr\n",
    "\n",
    "# Loop by column (variable type)\n",
    "for ix in range(3):\n",
    "# Loop through the other variables    \n",
    "   for iy in range((3-ix)): \n",
    "# Loop through each month        \n",
    "      for i in range(12):\n",
    "         corr, _ = pearsonr(mx[i][cols[ix]], mx[i][cols[(ix+iy+1)]])\n",
    "         if corr > 0.1 or corr < -0.1:\n",
    "            print(months[i], cols[ix], cols[(ix+iy+1)], \" Pearsons correlation : %.3f\" % corr)\n",
    "            \n",
    "         corr, _ = spearmanr(mx[i][cols[ix]], mx[i][cols[(ix+iy+1)]])\n",
    "         if corr > 0.1 or corr < -0.1:\n",
    "            print(months[i], cols[ix], cols[(ix+iy+1)], \" Spearmans correlation : %.3f\" % corr) \n",
    "                 "
   ]
  },
  {
   "cell_type": "markdown",
   "metadata": {},
   "source": [
    "There's a strong positive correlation for Jan, Feb, Mar, May, Oct, Nov and Dec between max and min temperature, with a weak correlation for the other months, and a weak negative correlation between rainfall and pressure (cbl).  \n",
    "For these two variable pairs check the correlation between the simulated data sets we've generated:"
   ]
  },
  {
   "cell_type": "code",
   "execution_count": 451,
   "metadata": {},
   "outputs": [
    {
     "name": "stdout",
     "output_type": "stream",
     "text": [
      "Jan maxtp mintp Pearsons correlation : -0.014\n",
      "Jan maxtp mintp Spearmans correlation : -0.019\n",
      "Feb maxtp mintp Pearsons correlation : 0.088\n",
      "Feb maxtp mintp Spearmans correlation : 0.119\n",
      "Mar maxtp mintp Pearsons correlation : -0.021\n",
      "Mar maxtp mintp Spearmans correlation : -0.026\n",
      "Apr maxtp mintp Pearsons correlation : 0.019\n",
      "Apr maxtp mintp Spearmans correlation : 0.020\n",
      "May maxtp mintp Pearsons correlation : -0.063\n",
      "May maxtp mintp Spearmans correlation : -0.066\n",
      "Jun maxtp mintp Pearsons correlation : -0.037\n",
      "Jun maxtp mintp Spearmans correlation : -0.018\n",
      "Jul maxtp mintp Pearsons correlation : -0.011\n",
      "Jul maxtp mintp Spearmans correlation : -0.017\n",
      "Aug maxtp mintp Pearsons correlation : 0.073\n",
      "Aug maxtp mintp Spearmans correlation : 0.071\n",
      "Sep maxtp mintp Pearsons correlation : -0.059\n",
      "Sep maxtp mintp Spearmans correlation : -0.039\n",
      "Oct maxtp mintp Pearsons correlation : -0.068\n",
      "Oct maxtp mintp Spearmans correlation : -0.080\n",
      "Nov maxtp mintp Pearsons correlation : -0.020\n",
      "Nov maxtp mintp Spearmans correlation : -0.020\n",
      "Dec maxtp mintp Pearsons correlation : 0.002\n",
      "Dec maxtp mintp Spearmans correlation : -0.002\n"
     ]
    }
   ],
   "source": [
    "for i in range(12):\n",
    "   corr, _ = pearsonr(sim_maxtp[i], sim_mintp[i])\n",
    "   print(months[i], \"maxtp mintp Pearsons correlation : %.3f\" % corr)\n",
    "   corr, _ = spearmanr(sim_maxtp[i], sim_mintp[i])\n",
    "   print(months[i], \"maxtp mintp Spearmans correlation : %.3f\" % corr)"
   ]
  },
  {
   "cell_type": "markdown",
   "metadata": {},
   "source": [
    "The above shows little correlation, so we'll order min temp according to max temp for these months, by ranking the values for both, and retaining the max temp order. Check the rain-cbl pair too:"
   ]
  },
  {
   "cell_type": "code",
   "execution_count": 452,
   "metadata": {},
   "outputs": [
    {
     "name": "stdout",
     "output_type": "stream",
     "text": [
      "Jan rain cbl Pearsons correlation : 0.028\n",
      "Jan rain cbl Spearmans correlation : 0.033\n",
      "Feb rain cbl Pearsons correlation : 0.060\n",
      "Feb rain cbl Spearmans correlation : 0.037\n",
      "Mar rain cbl Pearsons correlation : 0.022\n",
      "Mar rain cbl Spearmans correlation : 0.066\n",
      "Apr rain cbl Pearsons correlation : 0.038\n",
      "Apr rain cbl Spearmans correlation : 0.013\n",
      "May rain cbl Pearsons correlation : -0.064\n",
      "May rain cbl Spearmans correlation : -0.018\n",
      "Jun rain cbl Pearsons correlation : 0.017\n",
      "Jun rain cbl Spearmans correlation : -0.031\n",
      "Jul rain cbl Pearsons correlation : -0.015\n",
      "Jul rain cbl Spearmans correlation : 0.022\n",
      "Aug rain cbl Pearsons correlation : 0.009\n",
      "Aug rain cbl Spearmans correlation : 0.001\n",
      "Sep rain cbl Pearsons correlation : -0.001\n",
      "Sep rain cbl Spearmans correlation : 0.010\n",
      "Oct rain cbl Pearsons correlation : 0.046\n",
      "Oct rain cbl Spearmans correlation : 0.027\n",
      "Nov rain cbl Pearsons correlation : 0.027\n",
      "Nov rain cbl Spearmans correlation : 0.078\n",
      "Dec rain cbl Pearsons correlation : -0.008\n",
      "Dec rain cbl Spearmans correlation : -0.010\n"
     ]
    }
   ],
   "source": [
    "for i in range(12):\n",
    "   corr, _ = pearsonr(sim_rain[i], sim_cbl[i])\n",
    "   print(months[i], \"rain cbl Pearsons correlation : %.3f\" % corr)\n",
    "   corr, _ = spearmanr(sim_rain[i], sim_cbl[i])\n",
    "   print(months[i], \"rain cbl Spearmans correlation : %.3f\" % corr)"
   ]
  },
  {
   "cell_type": "markdown",
   "metadata": {},
   "source": [
    "Again, there is little correlation between the two, so we'll apply an order to the simulated data here too.  \n",
    "\n",
    "First maxtp mintp:  \n",
    "We'll check the impact of applying order to one month, December, where there is a high correlation between 'maxtp' and 'mintp'.  \n",
    "Get the average of the 2 correlation coefficients for the actual data, and subtract the average of the 2 coefficients for the simulated data, then rank the values in the simulated data for 'maxtp' and apply that rank to a proportion (according to the coefficient values) of a sorted version of the 'mintp' data. The remaining 'mintp' simulated data will be left unranked. We'll display the coefficients for the actual data, the unprocessed simulated data and the processed simulated data. We'll check that this works for one month - December.  \n",
    "(ref https://stackoverflow.com/questions/32655605/python-rank-a-list-of-number-string-convert-list-elements-to-ordinal-value)  \n",
    "(ref https://thispointer.com/find-the-index-of-a-value-in-numpy-array/)\n",
    "(ref https://thispointer.com/delete-elements-from-a-numpy-array-by-value-or-conditions-in-python/)"
   ]
  },
  {
   "cell_type": "code",
   "execution_count": 453,
   "metadata": {},
   "outputs": [
    {
     "name": "stdout",
     "output_type": "stream",
     "text": [
      "Pearsons correlation actual data: 0.801\n",
      "Spearmans correlation actual data : 0.768\n",
      "-------------------------------\n",
      "Pearsons correlation unsorted simulated data: 0.002\n",
      "Spearmans correlation unsorted simulated data: -0.002\n",
      "-------------------------------\n",
      "Pearsons correlation sorted simulated data: 0.694\n",
      "Spearmans correlation sorted simulated data: 0.744\n"
     ]
    }
   ],
   "source": [
    "# Save the current 'mintp' order\n",
    "sim_save=sim_mintp[11]\n",
    "\n",
    "# Display the correlation coefficients for the actual data and the, as yet, unsorted 'mintp'\n",
    "corr1, _ = pearsonr(mx[11]['maxtp'], mx[11]['mintp'])\n",
    "print(\"Pearsons correlation actual data: %.3f\" % corr1)\n",
    "corr2, _ = spearmanr(mx[11]['maxtp'], mx[11]['mintp'])\n",
    "print(\"Spearmans correlation actual data : %.3f\" % corr2)\n",
    "print('-------------------------------')\n",
    "corr3, _ = pearsonr(sim_maxtp[11], sim_mintp[11])\n",
    "print(\"Pearsons correlation unsorted simulated data: %.3f\" % corr3)\n",
    "corr4, _ = spearmanr(sim_maxtp[11], sim_mintp[11])\n",
    "print(\"Spearmans correlation unsorted simulated data: %.3f\" % corr4)\n",
    "\n",
    "# Get the mean of the correlation coefficients, and subtract the small value \n",
    "# for the current level of correlation\n",
    "corr=(((corr1+corr2)/2)-((corr3+corr4)/2))\n",
    "\n",
    "# Rank each value in the 'maxtp' column\n",
    "l = np.array(sim_maxtp[11])\n",
    "s = pd.Series(l)\n",
    "ln=s.rank(method='dense')\n",
    "\n",
    "# Set the number of 'mintp' values that we'll re-order, according to the coefficient values\n",
    "num=len(sim_mintp[11])\n",
    "num=int(num*corr)\n",
    "\n",
    "# Get a sorted version of the 'mintp' data\n",
    "sim_mintp_sorted=np.sort(sim_mintp[11])\n",
    "\n",
    "# For the proportion of the 'mintp' data that we're sorting, pair each value with a value in 'maxtp' \n",
    "# that has the same rank\n",
    "sim_mintp_new=[]\n",
    "for i in range(num):\n",
    "    lni=int(ln[i])\n",
    "    val=sim_mintp_sorted[(lni-1)]\n",
    "    sim_mintp_new.append(val)\n",
    "    result = np.where(sim_save == val)\n",
    "    sim_save = np.delete(sim_save, result[0][0])\n",
    "\n",
    "# Add the remaining unsorted 'mintp' data to the sorted data\n",
    "num=len(sim_save)\n",
    "for i in range(num):\n",
    "    sim_mintp_new.append(sim_save[i])    \n",
    "    \n",
    "# Display the correlation coefficient for the newly ordered 'mintp'\n",
    "print('-------------------------------')    \n",
    "corrx, _ = pearsonr(sim_maxtp[11], sim_mintp_new)\n",
    "print(\"Pearsons correlation sorted simulated data: %.3f\" % corrx)\n",
    "corrx, _ = spearmanr(sim_maxtp[11], sim_mintp_new)\n",
    "print(\"Spearmans correlation sorted simulated data: %.3f\" % corrx)    "
   ]
  },
  {
   "cell_type": "markdown",
   "metadata": {},
   "source": [
    "The newly ordered simulated data has a much closer correlation coefficient for 'maxtp'and 'mintp' to the actual data than the previously unsorted 'mintp' Apply this to all the months:"
   ]
  },
  {
   "cell_type": "code",
   "execution_count": 463,
   "metadata": {},
   "outputs": [
    {
     "name": "stdout",
     "output_type": "stream",
     "text": [
      "Jan  - Pearsons correlation actual data: 0.738\n",
      "Jan  - Spearmans correlation actual data : 0.715\n",
      "Jan  - Pearsons correlation sorted simulated data: 0.701\n",
      "Jan  - Spearmans correlation sorted simulated data: 0.695\n",
      "Feb  - Pearsons correlation actual data: 0.664\n",
      "Feb  - Spearmans correlation actual data : 0.667\n",
      "Feb  - Pearsons correlation sorted simulated data: 0.584\n",
      "Feb  - Spearmans correlation sorted simulated data: 0.583\n",
      "Mar  - Pearsons correlation actual data: 0.550\n",
      "Mar  - Spearmans correlation actual data : 0.575\n",
      "Mar  - Pearsons correlation sorted simulated data: 0.617\n",
      "Mar  - Spearmans correlation sorted simulated data: 0.600\n",
      "Apr  - Pearsons correlation actual data: 0.446\n",
      "Apr  - Spearmans correlation actual data : 0.411\n",
      "Apr  - Pearsons correlation sorted simulated data: 0.436\n",
      "Apr  - Spearmans correlation sorted simulated data: 0.416\n",
      "May  - Pearsons correlation actual data: 0.535\n",
      "May  - Spearmans correlation actual data : 0.517\n",
      "May  - Pearsons correlation sorted simulated data: 0.588\n",
      "May  - Spearmans correlation sorted simulated data: 0.609\n",
      "Jun  - Pearsons correlation actual data: 0.500\n",
      "Jun  - Spearmans correlation actual data : 0.499\n",
      "Jun  - Pearsons correlation sorted simulated data: 0.453\n",
      "Jun  - Spearmans correlation sorted simulated data: 0.476\n",
      "Jul  - Pearsons correlation actual data: 0.465\n",
      "Jul  - Spearmans correlation actual data : 0.465\n",
      "Jul  - Pearsons correlation sorted simulated data: 0.426\n",
      "Jul  - Spearmans correlation sorted simulated data: 0.457\n",
      "Aug  - Pearsons correlation actual data: 0.480\n",
      "Aug  - Spearmans correlation actual data : 0.463\n",
      "Aug  - Pearsons correlation sorted simulated data: 0.435\n",
      "Aug  - Spearmans correlation sorted simulated data: 0.430\n",
      "Sep  - Pearsons correlation actual data: 0.496\n",
      "Sep  - Spearmans correlation actual data : 0.441\n",
      "Sep  - Pearsons correlation sorted simulated data: 0.504\n",
      "Sep  - Spearmans correlation sorted simulated data: 0.490\n",
      "Oct  - Pearsons correlation actual data: 0.609\n",
      "Oct  - Spearmans correlation actual data : 0.568\n",
      "Oct  - Pearsons correlation sorted simulated data: 0.745\n",
      "Oct  - Spearmans correlation sorted simulated data: 0.744\n",
      "Nov  - Pearsons correlation actual data: 0.744\n",
      "Nov  - Spearmans correlation actual data : 0.704\n",
      "Nov  - Pearsons correlation sorted simulated data: 0.706\n",
      "Nov  - Spearmans correlation sorted simulated data: 0.705\n",
      "Dec  - Pearsons correlation actual data: 0.801\n",
      "Dec  - Spearmans correlation actual data : 0.768\n",
      "Dec  - Pearsons correlation sorted simulated data: 0.694\n",
      "Dec  - Spearmans correlation sorted simulated data: 0.744\n"
     ]
    }
   ],
   "source": [
    "# Loop through the months\n",
    "for ix in range(12):\n",
    "   sim_save=sim_mintp[ix]\n",
    "   corr1, _ = pearsonr(mx[ix]['maxtp'], mx[ix]['mintp'])\n",
    "   corr2, _ = spearmanr(mx[ix]['maxtp'], mx[ix]['mintp'])\n",
    "   corr3, _ = pearsonr(sim_maxtp[ix], sim_mintp[ix])\n",
    "   corr4, _ = spearmanr(sim_maxtp[ix], sim_mintp[ix])\n",
    "# Get the average correlation for both tests\n",
    "   corr=(((corr1+corr2)/2)-((corr3+corr4)/2))\n",
    "# Rank the 'maxtp' values\n",
    "   l = np.array(sim_maxtp[ix])\n",
    "   s = pd.Series(l)\n",
    "   ln=s.rank(method='dense')\n",
    "# Sort the mintp values, then order a proportion of them using the rank from 'maxtp'\n",
    "   num=len(sim_mintp[ix])\n",
    "   num=int(num*corr)\n",
    "   sim_mintp_sorted=np.sort(sim_mintp[ix])\n",
    "   sim_mintp_new[ix]=[]\n",
    "   for i in range(num):\n",
    "      lni=int(ln[i])\n",
    "      val=sim_mintp_sorted[(lni-1)]\n",
    "      sim_mintp_new[ix].append(val)\n",
    "      result = np.where(sim_save == val)\n",
    "      sim_save = np.delete(sim_save, result[0][0])\n",
    "\n",
    "# Add on the unsorted 'mintp' values\n",
    "   num=len(sim_save)\n",
    "   for i in range(num):\n",
    "      sim_mintp_new[ix].append(sim_save[i])  \n",
    "# Display the correlation now\n",
    "   print(months[ix], \" - Pearsons correlation actual data: %.3f\" % corr1)\n",
    "   print(months[ix], \" - Spearmans correlation actual data : %.3f\" % corr2)\n",
    "   corr3, _ = pearsonr(sim_maxtp[ix], sim_mintp_new[ix])\n",
    "   corr4, _ = spearmanr(sim_maxtp[ix], sim_mintp_new[ix])    \n",
    "   print(months[ix], \" - Pearsons correlation sorted simulated data: %.3f\" % corr3)\n",
    "   print(months[ix], \" - Spearmans correlation sorted simulated data: %.3f\" % corr4)     "
   ]
  },
  {
   "cell_type": "markdown",
   "metadata": {},
   "source": [
    "The correlation between 'maxtp' and 'mintp' for all months is now similar between the actual and simulated data.  \n",
    "\n",
    "Apply the same sort of process to 'rain' and 'cbl', but this time pair a proportion of 'cbl' values with those of a different rank in 'rain' - we want a negative correlation."
   ]
  },
  {
   "cell_type": "code",
   "execution_count": 464,
   "metadata": {},
   "outputs": [
    {
     "name": "stdout",
     "output_type": "stream",
     "text": [
      "Jan  - Pearsons correlation actual data: -0.373\n",
      "Jan  - Spearmans correlation actual data : -0.514\n",
      "Jan  - Pearsons correlation sorted simulated data: -0.306\n",
      "Jan  - Spearmans correlation sorted simulated data: -0.423\n",
      "Feb  - Pearsons correlation actual data: -0.370\n",
      "Feb  - Spearmans correlation actual data : -0.500\n",
      "Feb  - Pearsons correlation sorted simulated data: -0.281\n",
      "Feb  - Spearmans correlation sorted simulated data: -0.473\n",
      "Mar  - Pearsons correlation actual data: -0.444\n",
      "Mar  - Spearmans correlation actual data : -0.656\n",
      "Mar  - Pearsons correlation sorted simulated data: -0.377\n",
      "Mar  - Spearmans correlation sorted simulated data: -0.534\n",
      "Apr  - Pearsons correlation actual data: -0.435\n",
      "Apr  - Spearmans correlation actual data : -0.590\n",
      "Apr  - Pearsons correlation sorted simulated data: -0.397\n",
      "Apr  - Spearmans correlation sorted simulated data: -0.569\n",
      "May  - Pearsons correlation actual data: -0.406\n",
      "May  - Spearmans correlation actual data : -0.571\n",
      "May  - Pearsons correlation sorted simulated data: -0.276\n",
      "May  - Spearmans correlation sorted simulated data: -0.504\n",
      "Jun  - Pearsons correlation actual data: -0.391\n",
      "Jun  - Spearmans correlation actual data : -0.624\n",
      "Jun  - Pearsons correlation sorted simulated data: -0.393\n",
      "Jun  - Spearmans correlation sorted simulated data: -0.546\n",
      "Jul  - Pearsons correlation actual data: -0.384\n",
      "Jul  - Spearmans correlation actual data : -0.593\n",
      "Jul  - Pearsons correlation sorted simulated data: -0.301\n",
      "Jul  - Spearmans correlation sorted simulated data: -0.459\n",
      "Aug  - Pearsons correlation actual data: -0.387\n",
      "Aug  - Spearmans correlation actual data : -0.535\n",
      "Aug  - Pearsons correlation sorted simulated data: -0.183\n",
      "Aug  - Spearmans correlation sorted simulated data: -0.393\n",
      "Sep  - Pearsons correlation actual data: -0.436\n",
      "Sep  - Spearmans correlation actual data : -0.604\n",
      "Sep  - Pearsons correlation sorted simulated data: -0.197\n",
      "Sep  - Spearmans correlation sorted simulated data: -0.402\n",
      "Oct  - Pearsons correlation actual data: -0.347\n",
      "Oct  - Spearmans correlation actual data : -0.525\n",
      "Oct  - Pearsons correlation sorted simulated data: -0.319\n",
      "Oct  - Spearmans correlation sorted simulated data: -0.444\n",
      "Nov  - Pearsons correlation actual data: -0.355\n",
      "Nov  - Spearmans correlation actual data : -0.476\n",
      "Nov  - Pearsons correlation sorted simulated data: -0.491\n",
      "Nov  - Spearmans correlation sorted simulated data: -0.473\n",
      "Dec  - Pearsons correlation actual data: -0.267\n",
      "Dec  - Spearmans correlation actual data : -0.484\n",
      "Dec  - Pearsons correlation sorted simulated data: -0.260\n",
      "Dec  - Spearmans correlation sorted simulated data: -0.344\n"
     ]
    }
   ],
   "source": [
    "# loop through the months\n",
    "for ix in range(12):\n",
    "   sim_save=sim_cbl[ix]\n",
    "   corr1, _ = pearsonr(mx[ix]['rain'], mx[ix]['cbl'])\n",
    "   corr2, _ = spearmanr(mx[ix]['rain'], mx[ix]['cbl'])\n",
    "# Get the average correlation. Multiply by -1 to get a positive value for calculating how many 'cbl' \n",
    "# values we'll order\n",
    "   corr=(-1)*((corr1+corr2)/2)\n",
    "# Rank the 'rain' values\n",
    "   l = np.array(sim_rain[ix])\n",
    "   s = pd.Series(l)\n",
    "   ln=s.rank(method='dense')\n",
    "   num=len(sim_cbl[ix])\n",
    "# Order the 'cbl' values, then pair a proportion of them with 'rain' values of a different rank - \n",
    "# to give a negative correlation\n",
    "   num2=int(num*corr)\n",
    "   sim_cbl_sorted=np.sort(sim_cbl[ix])\n",
    "   sim_cbl_new[ix]=[]\n",
    "   for i in range(num2):\n",
    "# This is where we specify the different rank    \n",
    "      lni=num-int(ln[i])\n",
    "      val=sim_cbl_sorted[(lni-1)]\n",
    "      sim_cbl_new[ix].append(val)\n",
    "      result = np.where(sim_save == val)\n",
    "      sim_save = np.delete(sim_save, result[0][0])\n",
    "# Add in the unsorted 'cbl' values\n",
    "   num=len(sim_save)\n",
    "   for i in range(num):\n",
    "      sim_cbl_new[ix].append(sim_save[i])  \n",
    "\n",
    "   print(months[ix], \" - Pearsons correlation actual data: %.3f\" % corr1)\n",
    "   print(months[ix], \" - Spearmans correlation actual data : %.3f\" % corr2)\n",
    "   corr3, _ = pearsonr(sim_rain[ix], sim_cbl_new[ix])\n",
    "   corr4, _ = spearmanr(sim_rain[ix], sim_cbl_new[ix])    \n",
    "   print(months[ix], \" - Pearsons correlation sorted simulated data: %.3f\" % corr3)\n",
    "   print(months[ix], \" - Spearmans correlation sorted simulated data: %.3f\" % corr4)     "
   ]
  },
  {
   "cell_type": "markdown",
   "metadata": {},
   "source": [
    "We now have simulated data for each of our 4 variables. We'll pick a random selection from these "
   ]
  },
  {
   "cell_type": "markdown",
   "metadata": {},
   "source": [
    "Over the time period covered by the actual data there is likely to be a trend of increasing or decreasing values for each variable. Calculate the mean value for each variable for each month by year. Plot the values for 'maxtp' to illustrate this, fit a regression line and find the slope (which equals the average rate of change per year for the mean of the variable). A correcting factor can then be applied to the simulated data using this value.  "
   ]
  },
  {
   "cell_type": "code",
   "execution_count": 399,
   "metadata": {
    "scrolled": true
   },
   "outputs": [],
   "source": [
    "# get the mean values for 'maxtp', by month, by year\n",
    "my={}\n",
    "i=0\n",
    "ymeans=[]\n",
    "labels=['Max Temp (C)','Min Temp (C)', 'Rainfall (mm)', 'Pressure (hPa)']\n",
    "a1=np.array(years, dtype=float)\n",
    "for mon in months:\n",
    "   ymean=[]\n",
    "   for y in yearx:\n",
    "      my=mx[i][mx[i]['date'].str.contains(y)] \n",
    "      ymean.append(my['maxtp'].mean())\n",
    "   ymeans.append(ymean)\n",
    "   i+=1 "
   ]
  },
  {
   "cell_type": "markdown",
   "metadata": {},
   "source": [
    "Get the slope of the regression line for 'maxtp' for each month, and calculate a correction factor \n",
    "to apply to the simulated data - the average change per year times the number of years from the midpoint of the data. Plot the 'maxtp' mean values for January to illustrate the values and best fit regression line. The first year and last year of the data are not complete, so we need to cater for months with no value.\n",
    "(ref https://stackoverflow.com/questions/28647172/numpy-polyfit-doesnt-handle-nan-values)  \n",
    "(ref https://stackoverflow.com/questions/54603873/bokeh-plot-regression-lines-on-scatter-plot)"
   ]
  },
  {
   "cell_type": "code",
   "execution_count": 465,
   "metadata": {},
   "outputs": [
    {
     "data": {
      "image/png": "[encoded data removed]",
      "text/plain": [
       "<Figure size 432x288 with 1 Axes>"
      ]
     },
     "metadata": {
      "needs_background": "light"
     },
     "output_type": "display_data"
    }
   ],
   "source": [
    "i=0\n",
    "madds_maxtp=[]\n",
    "#Loop through the months\n",
    "for mon in months:\n",
    "   a2=np.array(ymeans[i])\n",
    "# Exclude months with no value\n",
    "   idx = np.isfinite(a1) & np.isfinite(a2)\n",
    "# Get the slope of the best fit line and multiply by the number of years from the mid-year of the\n",
    "# actual data, to the year we're creating the data for\n",
    "   par = np.polyfit(a1[idx], a2[idx], 1, full=True)\n",
    "   slope=par[0][0]\n",
    "   madds_maxtp.append(mfac*slope) \n",
    "# Produce a plot for January\n",
    "   if i==0:\n",
    "      intercept=par[0][1]\n",
    "      plt.plot(a1, a2, 'k.')\n",
    "      plt.plot(a1, (slope*a1)+intercept, 'b-')\n",
    "      xlab='Year - '+months[i]\n",
    "      plt.xlabel(xlab)\n",
    "      plt.ylabel(labels[0])\n",
    "      plt.show()\n",
    "   i+=1"
   ]
  },
  {
   "cell_type": "markdown",
   "metadata": {},
   "source": [
    "There's an overall trend of rising temperatures, so we'll be adding to our simulated data to reflect this.  \n",
    "Get the slope of the best fit lines for 'mintp', 'rain' and 'cbl':"
   ]
  },
  {
   "cell_type": "code",
   "execution_count": 401,
   "metadata": {},
   "outputs": [],
   "source": [
    "# Get the slopes for 'mintp' by month\n",
    "my={}\n",
    "i=0\n",
    "madds_mintp=[]\n",
    "for mon in months:\n",
    "   ymean=[]\n",
    "   for y in yearx:\n",
    "      my=mx[i][mx[i]['date'].str.contains(y)] \n",
    "      ymean.append(my['mintp'].mean())\n",
    "   a2=np.array(ymean)\n",
    "   idx = np.isfinite(a1) & np.isfinite(a2)\n",
    "   par = np.polyfit(a1[idx], a2[idx], 1, full=True)\n",
    "   slope=par[0][0]\n",
    "   madds_mintp.append(mfac*slope) \n",
    "   i+=1 "
   ]
  },
  {
   "cell_type": "code",
   "execution_count": 402,
   "metadata": {},
   "outputs": [],
   "source": [
    "# Get the slopes for 'rain' by month\n",
    "my={}\n",
    "i=0\n",
    "madds_rain=[]\n",
    "for mon in months:\n",
    "   ymean=[]\n",
    "   for y in yearx:\n",
    "      my=mx[i][mx[i]['date'].str.contains(y)] \n",
    "      ymean.append(my['rain'].mean())\n",
    "   a2=np.array(ymean)\n",
    "   idx = np.isfinite(a1) & np.isfinite(a2)\n",
    "   par = np.polyfit(a1[idx], a2[idx], 1, full=True)\n",
    "   slope=par[0][0]\n",
    "   madds_rain.append(mfac*slope) \n",
    "   i+=1 "
   ]
  },
  {
   "cell_type": "code",
   "execution_count": 403,
   "metadata": {},
   "outputs": [],
   "source": [
    "# Get the slopes for 'cbl' by month\n",
    "my={}\n",
    "i=0\n",
    "madds_cbl=[]\n",
    "for mon in months:\n",
    "   ymean=[]\n",
    "   for y in yearx:\n",
    "      my=mx[i][mx[i]['date'].str.contains(y)] \n",
    "      ymean.append(my['cbl'].mean())\n",
    "   a2=np.array(ymean)\n",
    "   idx = np.isfinite(a1) & np.isfinite(a2)\n",
    "   par = np.polyfit(a1[idx], a2[idx], 1, full=True)\n",
    "   slope=par[0][0]\n",
    "   madds_cbl.append(mfac*slope) \n",
    "   i+=1 "
   ]
  },
  {
   "cell_type": "markdown",
   "metadata": {},
   "source": [
    "For each variable, take a random selection from the simulated data we've generated for each month, according to the number of days in the month. Next, apply the correction factor calculated above based on the slope of the best fit line. For the 'rain' variable we need to ensure the correction factor doesn't leave us with negative values - if any are negative, set them to zero and subtract the amount from the nearest positive value(s).\n",
    "(ref https://docs.scipy.org/doc/numpy-1.13.0/reference/generated/numpy.random.choice.html)"
   ]
  },
  {
   "cell_type": "code",
   "execution_count": 466,
   "metadata": {},
   "outputs": [],
   "source": [
    "rxs=0\n",
    "spx_maxtp=[]\n",
    "spx_mintp=[]\n",
    "spx_rain=[]\n",
    "spx_cbl=[]\n",
    "spx_maxtp_new=[]\n",
    "spx_mintp_new=[]\n",
    "spx_rain_new=[]\n",
    "spx_cbl_new=[]\n",
    "# Loop through each month\n",
    "for i in range(12):\n",
    "# Make a random selection from the current simulated data, according to the number of days in the\n",
    "# month\n",
    "    spx_maxtp.append(np.random.choice(sim_maxtp[i],ndays[i],replace=False)) \n",
    "    spx_mintp.append(np.random.choice(sim_mintp_new[i],ndays[i],replace=False))  \n",
    "    spx_rain.append(np.random.choice(sim_rain[i],ndays[i],replace=False)) \n",
    "    spx_cbl.append(np.random.choice(sim_cbl_new[i],ndays[i],replace=False))  \n",
    "# Apply the correction factor to each value, and round to one decimal place\n",
    "    for num in range(len(spx_maxtp[i])):\n",
    "        spx_maxtp_new.append(round(spx_maxtp[i][num] + madds_maxtp[i],1))\n",
    "    for num in range(len(spx_mintp[i])):\n",
    "        spx_mintp_new.append(round(spx_mintp[i][num] + madds_mintp[i]))\n",
    "# Check for negative rain values after applying the correction factor. Keep a running total of deficit \n",
    "# in 'rxs', and set negative values to 0. Subtract the deficit from positive values.\n",
    "    for num in range(len(spx_rain[i])):\n",
    "        rx=spx_rain[i][num] + madds_rain[i]\n",
    "        if rx < 0:\n",
    "           rxs=rxs+rx\n",
    "           rx=0\n",
    "        else:\n",
    "           if rx > 0 and rxs < 0:\n",
    "              if (rx+rxs) < 0:\n",
    "                 rxs=rxs+rx\n",
    "                 rx=0\n",
    "              else:\n",
    "                 rx=rx+rxs\n",
    "                 rxs=0\n",
    "        spx_rain_new.append(round(rx))\n",
    "    for num in range(len(spx_cbl[i])):\n",
    "        spx_cbl_new.append(round(spx_cbl[i][num] + madds_cbl[i]))            "
   ]
  },
  {
   "cell_type": "markdown",
   "metadata": {},
   "source": [
    "Check for 'maxtp' values paired with higher or equal 'mintp' values. If we find any switch the 'mintp' with another so that for both pairs the 'maxtp' is higher than the 'mintp'."
   ]
  },
  {
   "cell_type": "code",
   "execution_count": 468,
   "metadata": {},
   "outputs": [],
   "source": [
    "num=len(spx_maxtp_new)\n",
    "# Loop through all the 'maxtp' 'mintp' pairs\n",
    "for ixx in range(num):\n",
    "    if spx_maxtp_new[ixx] <= spx_mintp_new[ixx]:\n",
    "# 'maxtp' is <= 'mintp'\n",
    "        iy=ixx+1\n",
    "        if iy >= num:\n",
    "            iy = 0\n",
    "# Find a 'maxtp' 'mintp' pair to switch 'mintp' values, so that 'maxtp' for both is greater than \n",
    "# 'mintp'\n",
    "        while ((spx_maxtp_new[ixx] <= spx_mintp_new[iy]) or (spx_maxtp_new[iy] <= spx_mintp_new[ixx])) and (iy != ixx):\n",
    "            iy+=1\n",
    "            if iy >= num:\n",
    "                iy = 0\n",
    "        if ixx != iy:           \n",
    "            save=spx_mintp_new[ixx]\n",
    "            spx_mintp_new[ixx] = spx_mintp_new[iy]\n",
    "            spx_mintp_new[iy] = save"
   ]
  },
  {
   "cell_type": "markdown",
   "metadata": {},
   "source": [
    "Combine the simulated data for date and each of the 4 variables into one dictionary.  \n",
    "(ref https://stackoverflow.com/questions/15834244/how-to-map-multiple-lists-to-one-dictionary)"
   ]
  },
  {
   "cell_type": "code",
   "execution_count": 478,
   "metadata": {},
   "outputs": [
    {
     "data": {
      "text/plain": [
       "{'Date': ['Min Temp', 'Max Temp', 'Rain', 'Cbl (Pressure)'],\n",
       " '01-Jan-20': [0.0, 9.0, 2.0, 1011.0],\n",
       " '02-Jan-20': [2.0, 9.0, 0.0, 1000.0],\n",
       " '03-Jan-20': [2.0, 5.1, 0.0, 1010.0],\n",
       " '04-Jan-20': [-0.0, 1.9, 0.0, 1022.0],\n",
       " '05-Jan-20': [1.0, 1.9, 1.0, 1008.0],\n",
       " '06-Jan-20': [7.0, 10.3, 1.0, 1021.0],\n",
       " '07-Jan-20': [7.0, 11.5, 4.0, 1018.0],\n",
       " '08-Jan-20': [4.0, 6.5, 1.0, 1001.0],\n",
       " '09-Jan-20': [2.0, 9.3, 4.0, 970.0],\n",
       " '10-Jan-20': [-1.0, 6.7, 0.0, 987.0],\n",
       " '11-Jan-20': [1.0, 8.7, 0.0, 1000.0],\n",
       " '12-Jan-20': [-0.0, 1.3, 0.0, 1020.0],\n",
       " '13-Jan-20': [4.0, 9.4, 0.0, 1016.0],\n",
       " '14-Jan-20': [6.0, 11.6, 1.0, 1011.0],\n",
       " '15-Jan-20': [2.0, 4.9, 5.0, 1025.0],\n",
       " '16-Jan-20': [2.0, 6.7, 1.0, 1013.0],\n",
       " '17-Jan-20': [-0.0, 11.7, 0.0, 1001.0],\n",
       " '18-Jan-20': [8.0, 9.0, 3.0, 971.0],\n",
       " '19-Jan-20': [1.0, 7.7, 0.0, 1020.0],\n",
       " '20-Jan-20': [4.0, 6.1, 1.0, 986.0],\n",
       " '21-Jan-20': [10.0, 11.7, 0.0, 994.0],\n",
       " '22-Jan-20': [3.0, 10.3, 4.0, 990.0],\n",
       " '23-Jan-20': [5.0, 10.1, 5.0, 1017.0],\n",
       " '24-Jan-20': [-1.0, 6.1, 0.0, 1032.0],\n",
       " '25-Jan-20': [1.0, 5.1, 10.0, 980.0],\n",
       " '26-Jan-20': [6.0, 6.4, 5.0, 974.0],\n",
       " '27-Jan-20': [7.0, 10.7, 4.0, 1024.0],\n",
       " '28-Jan-20': [5.0, 11.9, 0.0, 994.0],\n",
       " '29-Jan-20': [7.0, 10.1, 8.0, 1041.0],\n",
       " '30-Jan-20': [4.0, 5.3, 1.0, 1014.0],\n",
       " '31-Jan-20': [1.0, 10.7, 3.0, 1011.0],\n",
       " '01-Feb-20': [11.0, 11.3, 0.0, 988.0],\n",
       " '02-Feb-20': [-0.0, 9.5, 0, 1019.0],\n",
       " '03-Feb-20': [6.0, 9.8, 3.0, 978.0],\n",
       " '04-Feb-20': [-2.0, 12.1, 0, 1015.0],\n",
       " '05-Feb-20': [14.0, 14.5, 1.0, 1017.0],\n",
       " '06-Feb-20': [4.0, 10.4, 4.0, 1006.0],\n",
       " '07-Feb-20': [7.0, 9.4, 0, 1020.0],\n",
       " '08-Feb-20': [4.0, 5.5, 9.0, 1003.0],\n",
       " '09-Feb-20': [1.0, 2.3, 1.0, 1012.0],\n",
       " '10-Feb-20': [3.0, 9.9, 4.0, 1004.0],\n",
       " '11-Feb-20': [2.0, 3.9, 0, 1015.0],\n",
       " '12-Feb-20': [4.0, 9.9, 0, 979.0],\n",
       " '13-Feb-20': [4.0, 8.0, 0, 1012.0],\n",
       " '14-Feb-20': [5.0, 7.0, 0.0, 1001.0],\n",
       " '15-Feb-20': [2.0, 4.4, 0.0, 982.0],\n",
       " '16-Feb-20': [10.0, 11.3, 0.0, 1005.0],\n",
       " '17-Feb-20': [1.0, 4.7, 6.0, 989.0],\n",
       " '18-Feb-20': [5.0, 12.1, 0.0, 1001.0],\n",
       " '19-Feb-20': [2.0, 6.3, 0, 1005.0],\n",
       " '20-Feb-20': [-4.0, 2.6, 0, 991.0],\n",
       " '21-Feb-20': [3.0, 8.3, 2.0, 1019.0],\n",
       " '22-Feb-20': [2.0, 6.4, 4.0, 1014.0],\n",
       " '23-Feb-20': [9.0, 11.6, 0, 980.0],\n",
       " '24-Feb-20': [2.0, 15.2, 0, 995.0],\n",
       " '25-Feb-20': [-3.0, 12.4, 0, 1016.0],\n",
       " '26-Feb-20': [7.0, 7.5, 0, 983.0],\n",
       " '27-Feb-20': [4.0, 6.1, 0, 993.0],\n",
       " '28-Feb-20': [8.0, 8.6, 8.0, 973.0],\n",
       " '29-Feb-20': [4.0, 9.8, 0, 970.0],\n",
       " '01-Mar-20': [2.0, 7.8, 0.0, 1015.0],\n",
       " '02-Mar-20': [3.0, 10.2, 0.0, 1020.0],\n",
       " '03-Mar-20': [-4.0, 13.0, 0.0, 989.0],\n",
       " '04-Mar-20': [2.0, 11.9, 0.0, 1000.0],\n",
       " '05-Mar-20': [1.0, 9.4, 15.0, 1010.0],\n",
       " '06-Mar-20': [11.0, 11.3, 1.0, 1022.0],\n",
       " '07-Mar-20': [5.0, 11.9, 2.0, 989.0],\n",
       " '08-Mar-20': [4.0, 12.7, 1.0, 1034.0],\n",
       " '09-Mar-20': [-1.0, 1.9, 4.0, 1014.0],\n",
       " '10-Mar-20': [-1.0, 11.5, 4.0, 1007.0],\n",
       " '11-Mar-20': [7.0, 9.5, 4.0, 1018.0],\n",
       " '12-Mar-20': [3.0, 12.0, 10.0, 1006.0],\n",
       " '13-Mar-20': [-1.0, 9.3, 0.0, 1021.0],\n",
       " '14-Mar-20': [-1.0, 7.4, 0.0, 976.0],\n",
       " '15-Mar-20': [4.0, 12.0, 2.0, 1032.0],\n",
       " '16-Mar-20': [3.0, 11.9, 4.0, 987.0],\n",
       " '17-Mar-20': [7.0, 12.9, 2.0, 1010.0],\n",
       " '18-Mar-20': [4.0, 11.3, 0.0, 1026.0],\n",
       " '19-Mar-20': [8.0, 11.9, 1.0, 990.0],\n",
       " '20-Mar-20': [4.0, 18.6, 2.0, 1014.0],\n",
       " '21-Mar-20': [3.0, 7.0, 0.0, 987.0],\n",
       " '22-Mar-20': [5.0, 7.4, 1.0, 1011.0],\n",
       " '23-Mar-20': [4.0, 11.1, 0.0, 1015.0],\n",
       " '24-Mar-20': [6.0, 11.3, 1.0, 1009.0],\n",
       " '25-Mar-20': [2.0, 9.3, 7.0, 1023.0],\n",
       " '26-Mar-20': [3.0, 7.9, 6.0, 984.0],\n",
       " '27-Mar-20': [-5.0, 1.7, 1.0, 1011.0],\n",
       " '28-Mar-20': [8.0, 10.2, 7.0, 1010.0],\n",
       " '29-Mar-20': [3.0, 9.2, 2.0, 1029.0],\n",
       " '30-Mar-20': [5.0, 13.7, 0.0, 1017.0],\n",
       " '31-Mar-20': [4.0, 9.7, 7.0, 972.0],\n",
       " '01-Apr-20': [6.0, 15.8, 2.0, 1011.0],\n",
       " '02-Apr-20': [3.0, 12.5, 2.0, 993.0],\n",
       " '03-Apr-20': [5.0, 14.9, 2.0, 1007.0],\n",
       " '04-Apr-20': [8.0, 15.3, 5.0, 1025.0],\n",
       " '05-Apr-20': [7.0, 14.2, 1.0, 986.0],\n",
       " '06-Apr-20': [2.0, 9.0, 1.0, 990.0],\n",
       " '07-Apr-20': [1.0, 10.1, 7.0, 999.0],\n",
       " '08-Apr-20': [2.0, 13.9, 9.0, 989.0],\n",
       " '09-Apr-20': [8.0, 17.3, 1.0, 997.0],\n",
       " '10-Apr-20': [3.0, 10.1, 1.0, 1007.0],\n",
       " '11-Apr-20': [6.0, 11.0, 1.0, 1016.0],\n",
       " '12-Apr-20': [5.0, 8.5, 1.0, 1001.0],\n",
       " '13-Apr-20': [3.0, 17.0, 3.0, 1014.0],\n",
       " '14-Apr-20': [5.0, 5.3, 1.0, 1007.0],\n",
       " '15-Apr-20': [0.0, 13.5, 1.0, 1000.0],\n",
       " '16-Apr-20': [4.0, 14.0, 1.0, 1025.0],\n",
       " '17-Apr-20': [3.0, 11.8, 1.0, 1015.0],\n",
       " '18-Apr-20': [4.0, 11.1, 12.0, 1033.0],\n",
       " '19-Apr-20': [4.0, 11.2, 1.0, 1009.0],\n",
       " '20-Apr-20': [2.0, 15.8, 1.0, 1011.0],\n",
       " '21-Apr-20': [5.0, 10.8, 1.0, 1016.0],\n",
       " '22-Apr-20': [-1.0, 14.0, 1.0, 1003.0],\n",
       " '23-Apr-20': [3.0, 18.5, 2.0, 1011.0],\n",
       " '24-Apr-20': [2.0, 17.7, 5.0, 1009.0],\n",
       " '25-Apr-20': [4.0, 12.2, 8.0, 985.0],\n",
       " '26-Apr-20': [1.0, 10.2, 1.0, 1021.0],\n",
       " '27-Apr-20': [1.0, 15.5, 4.0, 990.0],\n",
       " '28-Apr-20': [3.0, 7.4, 13.0, 1004.0],\n",
       " '29-Apr-20': [3.0, 11.7, 1.0, 986.0],\n",
       " '30-Apr-20': [5.0, 11.4, 2.0, 1006.0],\n",
       " '01-May-20': [10.0, 18.8, 0.0, 1013.0],\n",
       " '02-May-20': [19.0, 20.0, 4.0, 1008.0],\n",
       " '03-May-20': [5.0, 16.1, 0.0, 1009.0],\n",
       " '04-May-20': [8.0, 15.3, 1.0, 1005.0],\n",
       " '05-May-20': [4.0, 16.4, 1.0, 1028.0],\n",
       " '06-May-20': [6.0, 17.9, 0.0, 1011.0],\n",
       " '07-May-20': [9.0, 21.8, 0.0, 1014.0],\n",
       " '08-May-20': [10.0, 13.5, 1.0, 1011.0],\n",
       " '09-May-20': [7.0, 22.6, 0.0, 1016.0],\n",
       " '10-May-20': [12.0, 20.7, 0.0, 1000.0],\n",
       " '11-May-20': [10.0, 19.8, 0.0, 1019.0],\n",
       " '12-May-20': [11.0, 16.0, 7.0, 993.0],\n",
       " '13-May-20': [8.0, 21.9, 2.0, 1007.0],\n",
       " '14-May-20': [4.0, 12.9, 0.0, 1013.0],\n",
       " '15-May-20': [10.0, 19.5, 0.0, 1010.0],\n",
       " '16-May-20': [9.0, 11.4, 0.0, 1007.0],\n",
       " '17-May-20': [6.0, 22.9, 4.0, 993.0],\n",
       " '18-May-20': [5.0, 13.7, 1.0, 1007.0],\n",
       " '19-May-20': [7.0, 15.5, 1.0, 1010.0],\n",
       " '20-May-20': [7.0, 16.5, 0.0, 1025.0],\n",
       " '21-May-20': [4.0, 16.2, 1.0, 1005.0],\n",
       " '22-May-20': [7.0, 13.4, 0.0, 1002.0],\n",
       " '23-May-20': [4.0, 14.7, 1.0, 1015.0],\n",
       " '24-May-20': [11.0, 19.8, 0.0, 1009.0],\n",
       " '25-May-20': [4.0, 16.8, 0.0, 1003.0],\n",
       " '26-May-20': [11.0, 20.2, 0.0, 1012.0],\n",
       " '27-May-20': [9.0, 12.5, 0.0, 1023.0],\n",
       " '28-May-20': [6.0, 22.2, 0.0, 1018.0],\n",
       " '29-May-20': [11.0, 16.3, 0.0, 997.0],\n",
       " '30-May-20': [11.0, 15.3, 0.0, 1008.0],\n",
       " '31-May-20': [4.0, 17.2, 0.0, 1013.0],\n",
       " '01-Jun-20': [9.0, 19.7, 4.0, 1020.0],\n",
       " '02-Jun-20': [10.0, 17.0, 0, 989.0],\n",
       " '03-Jun-20': [15.0, 22.5, 0, 1012.0],\n",
       " '04-Jun-20': [10.0, 22.0, 0, 1027.0],\n",
       " '05-Jun-20': [10.0, 21.3, 0, 1014.0],\n",
       " '06-Jun-20': [12.0, 20.6, 0, 1021.0],\n",
       " '07-Jun-20': [7.0, 20.9, 0, 1022.0],\n",
       " '08-Jun-20': [12.0, 19.0, 0, 1003.0],\n",
       " '09-Jun-20': [10.0, 17.7, 0, 1008.0],\n",
       " '10-Jun-20': [12.0, 14.9, 0, 1013.0],\n",
       " '11-Jun-20': [9.0, 19.5, 0, 1005.0],\n",
       " '12-Jun-20': [8.0, 16.8, 2.0, 1016.0],\n",
       " '13-Jun-20': [10.0, 16.7, 0, 1001.0],\n",
       " '14-Jun-20': [8.0, 20.9, 0, 1015.0],\n",
       " '15-Jun-20': [5.0, 21.7, 0, 1002.0],\n",
       " '16-Jun-20': [13.0, 17.5, 3.0, 1007.0],\n",
       " '17-Jun-20': [12.0, 14.4, 0, 1009.0],\n",
       " '18-Jun-20': [10.0, 16.2, 0, 1002.0],\n",
       " '19-Jun-20': [8.0, 22.3, 0, 1014.0],\n",
       " '20-Jun-20': [11.0, 17.9, 0, 1011.0],\n",
       " '21-Jun-20': [14.0, 18.0, 0, 1015.0],\n",
       " '22-Jun-20': [13.0, 23.1, 0, 1013.0],\n",
       " '23-Jun-20': [10.0, 20.8, 0, 1014.0],\n",
       " '24-Jun-20': [8.0, 19.2, 0, 1002.0],\n",
       " '25-Jun-20': [7.0, 15.6, 0, 999.0],\n",
       " '26-Jun-20': [10.0, 20.9, 0, 1005.0],\n",
       " '27-Jun-20': [7.0, 15.8, 0, 1019.0],\n",
       " '28-Jun-20': [3.0, 19.9, 0, 1011.0],\n",
       " '29-Jun-20': [9.0, 21.1, 0, 1011.0],\n",
       " '30-Jun-20': [8.0, 15.4, 0, 994.0],\n",
       " '01-Jul-20': [11.0, 25.3, 0, 1004.0],\n",
       " '02-Jul-20': [14.0, 25.1, 0, 996.0],\n",
       " '03-Jul-20': [12.0, 21.7, 0, 1009.0],\n",
       " '04-Jul-20': [10.0, 21.6, 6.0, 1001.0],\n",
       " '05-Jul-20': [14.0, 22.4, 0.0, 1013.0],\n",
       " '06-Jul-20': [12.0, 16.7, 0, 1015.0],\n",
       " '07-Jul-20': [9.0, 27.9, 0, 1003.0],\n",
       " '08-Jul-20': [9.0, 18.6, 0, 1009.0],\n",
       " '09-Jul-20': [17.0, 21.7, 4.0, 1020.0],\n",
       " '10-Jul-20': [9.0, 19.0, 0, 1009.0],\n",
       " '11-Jul-20': [9.0, 26.1, 3.0, 1013.0],\n",
       " '12-Jul-20': [11.0, 23.1, 0, 1000.0],\n",
       " '13-Jul-20': [12.0, 20.7, 0, 1011.0],\n",
       " '14-Jul-20': [11.0, 24.7, 0, 1005.0],\n",
       " '15-Jul-20': [16.0, 24.0, 0, 997.0],\n",
       " '16-Jul-20': [14.0, 23.2, 0, 988.0],\n",
       " '17-Jul-20': [12.0, 20.5, 0, 1011.0],\n",
       " '18-Jul-20': [12.0, 21.4, 0, 1007.0],\n",
       " '19-Jul-20': [12.0, 21.2, 0, 1009.0],\n",
       " '20-Jul-20': [11.0, 18.2, 0, 1023.0],\n",
       " '21-Jul-20': [10.0, 22.5, 0, 1008.0],\n",
       " '22-Jul-20': [13.0, 25.1, 0, 1005.0],\n",
       " '23-Jul-20': [13.0, 22.2, 0, 1015.0],\n",
       " '24-Jul-20': [12.0, 23.3, 0, 1014.0],\n",
       " '25-Jul-20': [17.0, 22.7, 6.0, 1009.0],\n",
       " '26-Jul-20': [9.0, 20.6, 0, 1015.0],\n",
       " '27-Jul-20': [11.0, 22.6, 0, 1025.0],\n",
       " '28-Jul-20': [9.0, 23.8, 0.0, 1012.0],\n",
       " '29-Jul-20': [13.0, 22.0, 0.0, 1017.0],\n",
       " '30-Jul-20': [11.0, 24.0, 1.0, 1005.0],\n",
       " '31-Jul-20': [13.0, 17.3, 1.0, 1007.0],\n",
       " '01-Aug-20': [8.0, 24.0, 0, 1014.0],\n",
       " '02-Aug-20': [7.0, 20.4, 0.0, 1010.0],\n",
       " '03-Aug-20': [12.0, 26.5, 0.0, 1005.0],\n",
       " '04-Aug-20': [8.0, 22.7, 3.0, 1007.0],\n",
       " '05-Aug-20': [11.0, 18.6, 0, 1002.0],\n",
       " '06-Aug-20': [10.0, 21.0, 3.0, 1013.0],\n",
       " '07-Aug-20': [11.0, 20.9, 0.0, 1005.0],\n",
       " '08-Aug-20': [11.0, 21.4, 0, 1007.0],\n",
       " '09-Aug-20': [9.0, 20.9, 22.0, 1003.0],\n",
       " '10-Aug-20': [8.0, 19.2, 0, 1006.0],\n",
       " '11-Aug-20': [7.0, 19.8, 0, 1008.0],\n",
       " '12-Aug-20': [10.0, 19.1, 0, 1005.0],\n",
       " '13-Aug-20': [13.0, 18.9, 0, 1010.0],\n",
       " '14-Aug-20': [11.0, 17.7, 14.0, 1005.0],\n",
       " '15-Aug-20': [15.0, 19.1, 0.0, 1008.0],\n",
       " '16-Aug-20': [9.0, 19.7, 1.0, 1008.0],\n",
       " '17-Aug-20': [11.0, 20.4, 0, 1007.0],\n",
       " '18-Aug-20': [14.0, 20.1, 18.0, 1008.0],\n",
       " '19-Aug-20': [13.0, 20.3, 0, 989.0],\n",
       " '20-Aug-20': [14.0, 19.9, 0, 990.0],\n",
       " '21-Aug-20': [11.0, 17.4, 0, 1008.0],\n",
       " '22-Aug-20': [13.0, 19.3, 0, 992.0],\n",
       " '23-Aug-20': [13.0, 21.9, 4.0, 1006.0],\n",
       " '24-Aug-20': [14.0, 19.6, 9.0, 1008.0],\n",
       " '25-Aug-20': [7.0, 22.5, 0, 1007.0],\n",
       " '26-Aug-20': [10.0, 21.6, 0, 1006.0],\n",
       " '27-Aug-20': [11.0, 21.4, 0, 1010.0],\n",
       " '28-Aug-20': [10.0, 16.9, 0, 993.0],\n",
       " '29-Aug-20': [8.0, 21.0, 0, 1004.0],\n",
       " '30-Aug-20': [12.0, 21.1, 0, 1015.0],\n",
       " '31-Aug-20': [8.0, 21.8, 2.0, 998.0],\n",
       " '01-Sep-20': [12.0, 19.6, 0.0, 988.0],\n",
       " '02-Sep-20': [9.0, 21.0, 0.0, 1017.0],\n",
       " '03-Sep-20': [9.0, 18.0, 2.0, 1001.0],\n",
       " '04-Sep-20': [6.0, 18.2, 3.0, 1016.0],\n",
       " '05-Sep-20': [11.0, 18.1, 1.0, 991.0],\n",
       " '06-Sep-20': [8.0, 16.2, 0.0, 1014.0],\n",
       " '07-Sep-20': [10.0, 21.9, 0.0, 1010.0],\n",
       " '08-Sep-20': [13.0, 21.0, 0.0, 1013.0],\n",
       " '09-Sep-20': [11.0, 19.4, 0.0, 986.0],\n",
       " '10-Sep-20': [12.0, 19.4, 0.0, 1030.0],\n",
       " '11-Sep-20': [8.0, 18.7, 0.0, 1017.0],\n",
       " '12-Sep-20': [11.0, 16.7, 3.0, 1003.0],\n",
       " '13-Sep-20': [6.0, 14.7, 8.0, 1007.0],\n",
       " '14-Sep-20': [4.0, 19.0, 1.0, 1016.0],\n",
       " '15-Sep-20': [6.0, 14.6, 19.0, 998.0],\n",
       " '16-Sep-20': [12.0, 18.2, 2.0, 1003.0],\n",
       " '17-Sep-20': [6.0, 16.5, 1.0, 1015.0],\n",
       " '18-Sep-20': [7.0, 16.0, 14.0, 994.0],\n",
       " '19-Sep-20': [6.0, 20.2, 0.0, 1008.0],\n",
       " '20-Sep-20': [10.0, 23.5, 4.0, 992.0],\n",
       " '21-Sep-20': [2.0, 18.5, 0.0, 1011.0],\n",
       " '22-Sep-20': [8.0, 18.2, 0.0, 993.0],\n",
       " '23-Sep-20': [6.0, 19.0, 1.0, 1013.0],\n",
       " '24-Sep-20': [11.0, 19.4, 23.0, 1000.0],\n",
       " '25-Sep-20': [11.0, 17.6, 0.0, 1023.0],\n",
       " '26-Sep-20': [8.0, 15.4, 0.0, 1002.0],\n",
       " '27-Sep-20': [6.0, 18.2, 1.0, 1003.0],\n",
       " '28-Sep-20': [11.0, 13.5, 1.0, 1009.0],\n",
       " '29-Sep-20': [13.0, 19.4, 2.0, 1011.0],\n",
       " '30-Sep-20': [4.0, 17.4, 0.0, 1007.0],\n",
       " '01-Oct-20': [7.0, 14.1, 0, 1001.0],\n",
       " '02-Oct-20': [4.0, 12.8, 0, 1015.0],\n",
       " '03-Oct-20': [6.0, 14.3, 5.0, 1013.0],\n",
       " '04-Oct-20': [6.0, 15.0, 0, 1014.0],\n",
       " '05-Oct-20': [11.0, 12.3, 0, 1004.0],\n",
       " '06-Oct-20': [9.0, 12.7, 0, 989.0],\n",
       " '07-Oct-20': [6.0, 15.8, 0, 1030.0],\n",
       " '08-Oct-20': [-2.0, 15.2, 0.0, 1014.0],\n",
       " '09-Oct-20': [7.0, 13.5, 0, 1002.0],\n",
       " '10-Oct-20': [2.0, 12.8, 0, 1003.0],\n",
       " '11-Oct-20': [5.0, 15.7, 0, 1007.0],\n",
       " '12-Oct-20': [16.0, 21.0, 0, 1011.0],\n",
       " '13-Oct-20': [9.0, 11.4, 0, 1020.0],\n",
       " '14-Oct-20': [5.0, 14.8, 0, 1001.0],\n",
       " '15-Oct-20': [5.0, 16.7, 8.0, 1017.0],\n",
       " '16-Oct-20': [3.0, 13.6, 0, 1013.0],\n",
       " '17-Oct-20': [5.0, 12.3, 0, 1017.0],\n",
       " '18-Oct-20': [13.0, 17.7, 0, 1002.0],\n",
       " '19-Oct-20': [8.0, 17.7, 20.0, 1028.0],\n",
       " '20-Oct-20': [8.0, 13.4, 0, 1004.0],\n",
       " '21-Oct-20': [11.0, 17.3, 0, 1010.0],\n",
       " '22-Oct-20': [9.0, 14.9, 0, 1010.0],\n",
       " '23-Oct-20': [9.0, 16.6, 2.0, 998.0],\n",
       " '24-Oct-20': [13.0, 15.4, 1.0, 990.0],\n",
       " '25-Oct-20': [8.0, 16.4, 0, 1024.0],\n",
       " '26-Oct-20': [11.0, 16.3, 0, 996.0],\n",
       " '27-Oct-20': [7.0, 12.6, 0, 1020.0],\n",
       " '28-Oct-20': [4.0, 13.3, 0.0, 995.0],\n",
       " '29-Oct-20': [10.0, 12.8, 0, 1019.0],\n",
       " '30-Oct-20': [9.0, 10.9, 0, 1004.0],\n",
       " '31-Oct-20': [11.0, 16.1, 0, 1007.0],\n",
       " '01-Nov-20': [-1.0, 0.7, 0, 980.0],\n",
       " '02-Nov-20': [6.0, 8.4, 0, 1014.0],\n",
       " '03-Nov-20': [2.0, 10.9, 0.0, 1001.0],\n",
       " '04-Nov-20': [8.0, 14.6, 0.0, 995.0],\n",
       " '05-Nov-20': [2.0, 13.6, 0.0, 1012.0],\n",
       " '06-Nov-20': [5.0, 13.4, 1.0, 987.0],\n",
       " '07-Nov-20': [5.0, 14.2, 10.0, 981.0],\n",
       " '08-Nov-20': [2.0, 2.1, 0.0, 1027.0],\n",
       " '09-Nov-20': [1.0, 1.6, 0.0, 1009.0],\n",
       " '10-Nov-20': [4.0, 7.0, 0.0, 1016.0],\n",
       " '11-Nov-20': [5.0, 12.0, 1.0, 1000.0],\n",
       " '12-Nov-20': [5.0, 13.8, 1.0, 1003.0],\n",
       " '13-Nov-20': [5.0, 12.9, 1.0, 992.0],\n",
       " '14-Nov-20': [6.0, 11.0, 2.0, 1036.0],\n",
       " '15-Nov-20': [6.0, 10.1, 0.0, 1013.0],\n",
       " '16-Nov-20': [-3.0, 10.7, 0.0, 961.0],\n",
       " '17-Nov-20': [1.0, 11.3, 2.0, 1002.0],\n",
       " '18-Nov-20': [5.0, 11.2, 17.0, 1006.0],\n",
       " '19-Nov-20': [2.0, 8.3, 1.0, 981.0],\n",
       " '20-Nov-20': [3.0, 8.9, 2.0, 1005.0],\n",
       " '21-Nov-20': [9.0, 11.8, 0.0, 1007.0],\n",
       " '22-Nov-20': [9.0, 11.4, 0.0, 988.0],\n",
       " '23-Nov-20': [-3.0, 10.0, 0.0, 1008.0],\n",
       " '24-Nov-20': [3.0, 7.9, 6.0, 989.0],\n",
       " '25-Nov-20': [3.0, 13.5, 19.0, 990.0],\n",
       " '26-Nov-20': [1.0, 9.3, 0.0, 1017.0],\n",
       " '27-Nov-20': [5.0, 11.1, 0.0, 1033.0],\n",
       " '28-Nov-20': [8.0, 8.4, 0.0, 988.0],\n",
       " '29-Nov-20': [6.0, 11.7, 5.0, 1003.0],\n",
       " '30-Nov-20': [5.0, 8.5, 1.0, 993.0],\n",
       " '01-Dec-20': [10.0, 13.6, 32.0, 1021.0],\n",
       " '02-Dec-20': [9.0, 12.0, 1.0, 1017.0],\n",
       " '03-Dec-20': [4.0, 4.4, 1.0, 998.0],\n",
       " '04-Dec-20': [1.0, 7.7, 1.0, 1013.0],\n",
       " '05-Dec-20': [5.0, 7.9, 1.0, 1008.0],\n",
       " '06-Dec-20': [2.0, 5.0, 11.0, 992.0],\n",
       " '07-Dec-20': [1.0, 2.3, 25.0, 1018.0],\n",
       " '08-Dec-20': [3.0, 6.7, 1.0, 1022.0],\n",
       " '09-Dec-20': [8.0, 8.7, 2.0, 1019.0],\n",
       " '10-Dec-20': [13.0, 16.3, 13.0, 995.0],\n",
       " '11-Dec-20': [8.0, 9.7, 1.0, 985.0],\n",
       " '12-Dec-20': [5.0, 7.2, 1.0, 1016.0],\n",
       " '13-Dec-20': [10.0, 11.1, 1.0, 1010.0],\n",
       " '14-Dec-20': [7.0, 7.2, 1.0, 985.0],\n",
       " '15-Dec-20': [5.0, 6.7, 1.0, 1018.0],\n",
       " '16-Dec-20': [14.0, 15.2, 1.0, 986.0],\n",
       " '17-Dec-20': [7.0, 10.0, 1.0, 1011.0],\n",
       " '18-Dec-20': [8.0, 12.5, 1.0, 1033.0],\n",
       " '19-Dec-20': [11.0, 12.3, 18.0, 1014.0],\n",
       " '20-Dec-20': [8.0, 12.3, 1.0, 998.0],\n",
       " '21-Dec-20': [3.0, 8.4, 1.0, 987.0],\n",
       " '22-Dec-20': [11.0, 12.9, 7.0, 1015.0],\n",
       " '23-Dec-20': [7.0, 12.1, 1.0, 1013.0],\n",
       " '24-Dec-20': [8.0, 17.9, 1.0, 1020.0],\n",
       " '25-Dec-20': [7.0, 9.6, 1.0, 1024.0],\n",
       " '26-Dec-20': [9.0, 9.8, 2.0, 1019.0],\n",
       " '27-Dec-20': [3.0, 9.7, 1.0, 997.0],\n",
       " '28-Dec-20': [8.0, 8.7, 5.0, 1034.0],\n",
       " '29-Dec-20': [-3.0, 10.3, 1.0, 993.0],\n",
       " '30-Dec-20': [11.0, 11.9, 1.0, 1014.0],\n",
       " '31-Dec-20': [1.0, 7.8, 6.0, 1021.0]}"
      ]
     },
     "execution_count": 478,
     "metadata": {},
     "output_type": "execute_result"
    }
   ],
   "source": [
    "list_of_lists = [['Date']+odates,['Min Temp']+spx_mintp_new,['Max Temp']+spx_maxtp_new,['Rain']+spx_rain_new,['Cbl (Pressure)']+spx_cbl_new]\n",
    "{z[0]:list(z[1:]) for z in zip(*list_of_lists)} "
   ]
  },
  {
   "cell_type": "markdown",
   "metadata": {},
   "source": [
    "This simulated data is based on the actual readings over 13 years from the weather station. Sophisticated prediction models would take into account many factors, such as the trends in concentrations of a range of gasses in the atmosphere, likely changes in areas that contribute to gas emissions such as different industries, transport and domestic heating. Ocean temperatures and solar activity. There are potential events that could drastically impact on actual future values, such as major volcanic eruptions or asteroid strikes. Detailed studies of individual volcanoes/asteroids might help with predicting the impact of such events on weather, but it would require the use of very specific, intricate models.  "
   ]
  }
 ],
 "metadata": {
  "kernelspec": {
   "display_name": "Python 3",
   "language": "python",
   "name": "python3"
  },
  "language_info": {
   "codemirror_mode": {
    "name": "ipython",
    "version": 3
   },
   "file_extension": ".py",
   "mimetype": "text/x-python",
   "name": "python",
   "nbconvert_exporter": "python",
   "pygments_lexer": "ipython3",
   "version": "3.7.3"
  }
 },
 "nbformat": 4,
 "nbformat_minor": 2
}
