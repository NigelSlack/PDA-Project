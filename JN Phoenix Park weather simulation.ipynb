{
 "cells": [
  {
   "cell_type": "markdown",
   "metadata": {},
   "source": [
    "**Creation of simulated dataset of climate variables, based on Phoenix Park, Dublin weather station** \n",
    "As explained in the README file for this repository, this notebook aims to generate simulated data, based on analysis of government provided actual readings, for rainfall, atmospheric pressure, and minimum and maximum temperatures on a daily basis.\n",
    "\n",
    "Climate predictions are of highly significant importance with concerns about human induced global warming.  \n",
    "\n",
    "We start by getting the actual historical data that has been downloaded into an Excel spreadsheet, from the government website :  \n",
    "(ref https://datatofish.com/read_excel/)\n"
   ]
  },
  {
   "cell_type": "code",
   "execution_count": 34,
   "metadata": {
    "scrolled": false
   },
   "outputs": [],
   "source": [
    "import pandas as pd\n",
    "df = pd.read_excel ('Phoenix Park weather data.xlsx')"
   ]
  },
  {
   "cell_type": "markdown",
   "metadata": {},
   "source": [
    "Display the header rows from the spreadsheet, which describe the file, then delete them (only run this once for each time the dataframe is loaded, otherwise data rows will be deleted). Count how many rows are left :\n",
    "(ref https://www.shanelynn.ie/select-pandas-dataframe-rows-and-columns-using-iloc-loc-and-ix/)\n",
    "(ref https://pandas.pydata.org/pandas-docs/stable/reference/api/pandas.DataFrame.drop.html)\n",
    "(ref https://stackoverflow.com/questions/15943769/how-do-i-get-the-row-count-of-a-pandas-dataframe)"
   ]
  },
  {
   "cell_type": "code",
   "execution_count": 35,
   "metadata": {},
   "outputs": [
    {
     "name": "stdout",
     "output_type": "stream",
     "text": [
      "                       Station Name: PHOENIX PARK Unnamed: 1 Unnamed: 2  \\\n",
      "0                           Station Height: 48 M         NaN        NaN   \n",
      "1                               Latitude:53.364          NaN        NaN   \n",
      "2                                             NaN        NaN        NaN   \n",
      "3                                             NaN        NaN        NaN   \n",
      "4                          date:  -  00 to 00 utc        NaN        NaN   \n",
      "5             rain:  -  Precipitation Amount (mm)        NaN        NaN   \n",
      "6       maxtp: -  Maximum Air Temperature (C)\\t          NaN        NaN   \n",
      "7          mintp: -  Minimum  Air Temperature (C)        NaN        NaN   \n",
      "8   gmin:  -  09utc Grass Minimum Temperature (C)        NaN        NaN   \n",
      "9        soil:  -  Mean 10cm soil temperature (C)        NaN        NaN   \n",
      "10              cbl:   -  Mean CBL Pressure (hpa)        NaN        NaN   \n",
      "11                        ind:   -  Indicator (i)        NaN        NaN   \n",
      "\n",
      "   Unnamed: 3 Unnamed: 4  \n",
      "0         NaN        NaN  \n",
      "1         NaN        NaN  \n",
      "2         NaN        NaN  \n",
      "3         NaN        NaN  \n",
      "4         NaN        NaN  \n",
      "5         NaN        NaN  \n",
      "6         NaN        NaN  \n",
      "7         NaN        NaN  \n",
      "8         NaN        NaN  \n",
      "9         NaN        NaN  \n",
      "10        NaN        NaN  \n",
      "11        NaN        NaN   0\n",
      "4797\n",
      "4784\n",
      " \n",
      "Number of rows  4784\n"
     ]
    }
   ],
   "source": [
    "print(df.iloc[0:12],0)\n",
    "df = df.iloc[13:]\n",
    "print(' ')\n",
    "print('Number of rows ' , len(df.index))"
   ]
  },
  {
   "cell_type": "markdown",
   "metadata": {},
   "source": [
    "Note : some of the columns described in the header have been deleted - those that we're not going to simulate.  \n",
    "There are many data rows, so check programatically if any of them contain null values - as this would affect the statistical values such as 'mean' that will be used to create the simulated data.\n",
    "(ref https://stackoverflow.com/questions/43424199/display-rows-with-one-or-more-nan-values-in-pandas-dataframe)"
   ]
  },
  {
   "cell_type": "code",
   "execution_count": 37,
   "metadata": {},
   "outputs": [
    {
     "name": "stdout",
     "output_type": "stream",
     "text": [
      "0\n"
     ]
    }
   ],
   "source": [
    "df1 = df[df.isna().any(axis=1)]\n",
    "print (len(df1))"
   ]
  },
  {
   "cell_type": "markdown",
   "metadata": {},
   "source": [
    "There aren't any null values, so we needn't worry about this.\n",
    "Set the dataframe index to the date column - this is unique"
   ]
  },
  {
   "cell_type": "code",
   "execution_count": null,
   "metadata": {},
   "outputs": [],
   "source": [
    "df.set_index('date')\n",
    "print(df.iloc[13:20])"
   ]
  },
  {
   "cell_type": "markdown",
   "metadata": {},
   "source": [
    "http://www.epa.ie/pubs/reports/research/climate/Reserach_Report_277.pdf"
   ]
  }
 ],
 "metadata": {
  "kernelspec": {
   "display_name": "Python 3",
   "language": "python",
   "name": "python3"
  },
  "language_info": {
   "codemirror_mode": {
    "name": "ipython",
    "version": 3
   },
   "file_extension": ".py",
   "mimetype": "text/x-python",
   "name": "python",
   "nbconvert_exporter": "python",
   "pygments_lexer": "ipython3",
   "version": "3.7.3"
  }
 },
 "nbformat": 4,
 "nbformat_minor": 2
}
